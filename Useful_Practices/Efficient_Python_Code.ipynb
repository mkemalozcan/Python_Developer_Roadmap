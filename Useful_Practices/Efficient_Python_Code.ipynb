{
 "cells": [
  {
   "attachments": {},
   "cell_type": "markdown",
   "metadata": {},
   "source": [
    "## Writing Efficient Python Code\n",
    "\n",
    "- How to write clean, fast, and efficient Python Code\n",
    "- How to profile your code for bottlenecks\n",
    "- How to eliminate bottlenecks and bad design patterns\n",
    "\n",
    "### Defining _efficient_\n",
    "- Minimal completion time (fast runtime)\n",
    "- Minimal resource consumption (small memory footprint)\n",
    "\n",
    "### Defining _Pythonic_\n",
    "- Focus on readability\n",
    "- Using Python's constructs as intended"
   ]
  },
  {
   "attachments": {},
   "cell_type": "markdown",
   "metadata": {},
   "source": [
    "#### Contents:\n",
    "- [Introduction to Pythonic Code](#introduction-to-pythonic-code)\n",
    "- [The Power of Numpy Arrays](#the-power-of-numpy-arrays)\n",
    "- [The Python Standard Library](#the-python-standard-library)\n",
    "- [Timing and Profiling](#timing-and-profiling)\n",
    "- [Code Profiling for Memory Usage](#code-profiling-for-memory-usage)\n",
    "- [Code Profiling for Runtime](#code-profiling-for-runtime)\n",
    "- [Examining Runtime](#examining-runtime)\n",
    "- [Gaining Efficiencies](#gaining-efficiencies)\n",
    "- [Eliminating Loops](#eliminating-loops)\n",
    "- [Set Theory](#set-theory)\n",
    "- [The itertools module](#the-itertools-module)\n",
    "- [Writing better loops](#writing-better-loops)\n",
    "- [Tricks](#Tricks)"
   ]
  },
  {
   "attachments": {},
   "cell_type": "markdown",
   "metadata": {},
   "source": [
    "#### Introduction to Pythonic Code"
   ]
  },
  {
   "cell_type": "code",
   "execution_count": 1,
   "metadata": {},
   "outputs": [
    {
     "name": "stdout",
     "output_type": "stream",
     "text": [
      "The Zen of Python, by Tim Peters\n",
      "\n",
      "Beautiful is better than ugly.\n",
      "Explicit is better than implicit.\n",
      "Simple is better than complex.\n",
      "Complex is better than complicated.\n",
      "Flat is better than nested.\n",
      "Sparse is better than dense.\n",
      "Readability counts.\n",
      "Special cases aren't special enough to break the rules.\n",
      "Although practicality beats purity.\n",
      "Errors should never pass silently.\n",
      "Unless explicitly silenced.\n",
      "In the face of ambiguity, refuse the temptation to guess.\n",
      "There should be one-- and preferably only one --obvious way to do it.\n",
      "Although that way may not be obvious at first unless you're Dutch.\n",
      "Now is better than never.\n",
      "Although never is often better than *right* now.\n",
      "If the implementation is hard to explain, it's a bad idea.\n",
      "If the implementation is easy to explain, it may be a good idea.\n",
      "Namespaces are one honking great idea -- let's do more of those!\n"
     ]
    }
   ],
   "source": [
    "import this"
   ]
  },
  {
   "cell_type": "code",
   "execution_count": 2,
   "metadata": {},
   "outputs": [],
   "source": [
    "numbers = [1, 2, 3, 4, 5]\n"
   ]
  },
  {
   "cell_type": "code",
   "execution_count": 3,
   "metadata": {},
   "outputs": [],
   "source": [
    "# Non-Pythonic\n",
    "doubled_numbers = []\n",
    "for i in range(len(numbers)):\n",
    "    doubled_numbers.append(numbers[i]*2)\n"
   ]
  },
  {
   "cell_type": "code",
   "execution_count": 4,
   "metadata": {},
   "outputs": [],
   "source": [
    "# Pythonic\n",
    "doubled_numbers = [x * 2 for x in numbers]\n"
   ]
  },
  {
   "cell_type": "code",
   "execution_count": 5,
   "metadata": {},
   "outputs": [],
   "source": [
    "names = ['Jerry', 'Kramer', 'Elaine', 'George', 'Newman']\n",
    "# Suppose you wanted to collect the names in the above list that have six letters or more.\n"
   ]
  },
  {
   "cell_type": "code",
   "execution_count": 6,
   "metadata": {},
   "outputs": [
    {
     "name": "stdout",
     "output_type": "stream",
     "text": [
      "['Kramer', 'Elaine', 'George', 'Newman']\n"
     ]
    }
   ],
   "source": [
    "# Print the list, new_list that was created using a Non-Pythonic approach.\n",
    "i = 0\n",
    "new_list = []\n",
    "while i < len(names):\n",
    "    if len(names[i]) >= 6:\n",
    "        new_list.append(names[i])\n",
    "    i += 1\n",
    "print(new_list)\n"
   ]
  },
  {
   "cell_type": "code",
   "execution_count": 7,
   "metadata": {},
   "outputs": [
    {
     "name": "stdout",
     "output_type": "stream",
     "text": [
      "['Kramer', 'Elaine', 'George', 'Newman']\n"
     ]
    }
   ],
   "source": [
    "# A more Pythonic approach would loop over the contents of names, rather than using an index variable.\n",
    "better_list = []\n",
    "for name in names:\n",
    "    if len(name) >= 6:\n",
    "        better_list.append(name)\n",
    "print(better_list)\n"
   ]
  },
  {
   "cell_type": "code",
   "execution_count": 8,
   "metadata": {},
   "outputs": [
    {
     "name": "stdout",
     "output_type": "stream",
     "text": [
      "['Kramer', 'Elaine', 'George', 'Newman']\n"
     ]
    }
   ],
   "source": [
    "# The best Pythonic way of doing this is by using list comprehension.\n",
    "best_list = [name for name in names if len(name) >= 6]\n",
    "print(best_list)\n"
   ]
  },
  {
   "attachments": {},
   "cell_type": "markdown",
   "metadata": {},
   "source": [
    "### The Python Standard Library\n",
    "- Built-in types : list, tuple, set, dict, and others\n",
    "- Built-in functions : print(), len(), range(), round(), enumerate(), map(), zip(), and others\n",
    "- Built-in modules : os, sys, itertools, collections, math, and others\n"
   ]
  },
  {
   "cell_type": "code",
   "execution_count": 9,
   "metadata": {},
   "outputs": [
    {
     "name": "stdout",
     "output_type": "stream",
     "text": [
      "[2, 4, 6, 8, 10]\n"
     ]
    }
   ],
   "source": [
    "even_nums = range(2, 11, 2)\n",
    "even_nums_list = list(even_nums)\n",
    "print(even_nums_list)\n"
   ]
  },
  {
   "cell_type": "code",
   "execution_count": 10,
   "metadata": {},
   "outputs": [
    {
     "name": "stdout",
     "output_type": "stream",
     "text": [
      "<enumerate object at 0x7f41443acb00>\n",
      "[(0, 'a'), (1, 'b')]\n"
     ]
    }
   ],
   "source": [
    "letters = [\"a\", \"b\"]\n",
    "indexed_letters = enumerate(letters)  # Creates an indexed list of objects.\n",
    "print(indexed_letters)\n",
    "print(list(indexed_letters))\n"
   ]
  },
  {
   "cell_type": "code",
   "execution_count": 11,
   "metadata": {},
   "outputs": [
    {
     "name": "stdout",
     "output_type": "stream",
     "text": [
      "[(5, 'a'), (6, 'b')]\n"
     ]
    }
   ],
   "source": [
    "indexed_letters = enumerate(letters, start=5)\n",
    "print(list(indexed_letters))\n"
   ]
  },
  {
   "cell_type": "code",
   "execution_count": 12,
   "metadata": {},
   "outputs": [
    {
     "name": "stdout",
     "output_type": "stream",
     "text": [
      "<map object at 0x7f41443f8e50>\n",
      "[2, 4, 6, 8, 10]\n"
     ]
    }
   ],
   "source": [
    "nums = [1, 2, 3, 4, 5]\n",
    "sqrd_nums = map(lambda x: x*2, nums)  # Applies a function over an object\n",
    "print(sqrd_nums)\n",
    "print(list(sqrd_nums))\n"
   ]
  },
  {
   "attachments": {},
   "cell_type": "markdown",
   "metadata": {},
   "source": [
    "### The Power of Numpy Arrays\n",
    "<a id=\"heading_ID_The_Power_or_Numpy_Arrays\"></a>"
   ]
  },
  {
   "cell_type": "code",
   "execution_count": 13,
   "metadata": {},
   "outputs": [
    {
     "name": "stdout",
     "output_type": "stream",
     "text": [
      "[0, 1, 2, 3, 4]\n",
      "[0 1 2 3 4]\n"
     ]
    }
   ],
   "source": [
    "# Alternative to Python Lists\n",
    "import numpy as np\n",
    "nums_list = list(range(5))\n",
    "print(nums_list)\n",
    "nums_np = np.array(range(5))\n",
    "print(nums_np)\n"
   ]
  },
  {
   "cell_type": "code",
   "execution_count": 14,
   "metadata": {},
   "outputs": [
    {
     "data": {
      "text/plain": [
       "dtype('int64')"
      ]
     },
     "execution_count": 14,
     "metadata": {},
     "output_type": "execute_result"
    }
   ],
   "source": [
    "# Numpy array homogeneity\n",
    "nums_np_ints = np.array([1, 2, 3])\n",
    "nums_np_ints.dtype\n"
   ]
  },
  {
   "cell_type": "code",
   "execution_count": 15,
   "metadata": {},
   "outputs": [
    {
     "data": {
      "text/plain": [
       "dtype('float64')"
      ]
     },
     "execution_count": 15,
     "metadata": {},
     "output_type": "execute_result"
    }
   ],
   "source": [
    "nums_np_floats = np.array([2, 3.5, 4])\n",
    "nums_np_floats.dtype\n"
   ]
  },
  {
   "cell_type": "code",
   "execution_count": 16,
   "metadata": {},
   "outputs": [
    {
     "ename": "TypeError",
     "evalue": "unsupported operand type(s) for ** or pow(): 'list' and 'int'",
     "output_type": "error",
     "traceback": [
      "\u001b[0;31m---------------------------------------------------------------------------\u001b[0m",
      "\u001b[0;31mTypeError\u001b[0m                                 Traceback (most recent call last)",
      "\u001b[0;32m<ipython-input-16-bed096eb4b2a>\u001b[0m in \u001b[0;36m<module>\u001b[0;34m\u001b[0m\n\u001b[1;32m      2\u001b[0m \u001b[0;31m# Python lists don't support broadcasting\u001b[0m\u001b[0;34m\u001b[0m\u001b[0;34m\u001b[0m\u001b[0;34m\u001b[0m\u001b[0m\n\u001b[1;32m      3\u001b[0m \u001b[0mnums\u001b[0m \u001b[0;34m=\u001b[0m \u001b[0;34m[\u001b[0m\u001b[0;36m1\u001b[0m\u001b[0;34m,\u001b[0m \u001b[0;36m2\u001b[0m\u001b[0;34m,\u001b[0m \u001b[0;36m3\u001b[0m\u001b[0;34m,\u001b[0m \u001b[0;36m4\u001b[0m\u001b[0;34m,\u001b[0m \u001b[0;36m5\u001b[0m\u001b[0;34m]\u001b[0m\u001b[0;34m\u001b[0m\u001b[0;34m\u001b[0m\u001b[0m\n\u001b[0;32m----> 4\u001b[0;31m \u001b[0mnums\u001b[0m \u001b[0;34m**\u001b[0m \u001b[0;36m2\u001b[0m\u001b[0;34m\u001b[0m\u001b[0;34m\u001b[0m\u001b[0m\n\u001b[0m",
      "\u001b[0;31mTypeError\u001b[0m: unsupported operand type(s) for ** or pow(): 'list' and 'int'"
     ]
    }
   ],
   "source": [
    "# Numpy array broadcasting\n",
    "# Python lists don't support broadcasting\n",
    "nums = [1, 2, 3, 4, 5]\n",
    "nums ** 2\n"
   ]
  },
  {
   "cell_type": "code",
   "execution_count": 17,
   "metadata": {},
   "outputs": [
    {
     "name": "stdout",
     "output_type": "stream",
     "text": [
      "[1, 4, 9, 16, 25]\n"
     ]
    }
   ],
   "source": [
    "# For loop (inefficient option)\n",
    "sqrd_nums = []\n",
    "for num in nums:\n",
    "    sqrd_nums.append(num**2)\n",
    "print(sqrd_nums)\n"
   ]
  },
  {
   "cell_type": "code",
   "execution_count": 18,
   "metadata": {},
   "outputs": [
    {
     "name": "stdout",
     "output_type": "stream",
     "text": [
      "[1, 4, 9, 16, 25]\n"
     ]
    }
   ],
   "source": [
    "# List comprehension (better option but not best)\n",
    "sqrd_nums = [num ** 2 for num in nums]\n",
    "print(sqrd_nums)\n"
   ]
  },
  {
   "cell_type": "code",
   "execution_count": 19,
   "metadata": {},
   "outputs": [
    {
     "data": {
      "text/plain": [
       "array([4, 1, 0, 1, 4])"
      ]
     },
     "execution_count": 19,
     "metadata": {},
     "output_type": "execute_result"
    }
   ],
   "source": [
    "# Numpy array broadcasting for the win!\n",
    "nums_np = np.array([-2, -1, 0, 1, 2])\n",
    "nums_np ** 2\n"
   ]
  },
  {
   "cell_type": "code",
   "execution_count": 20,
   "metadata": {},
   "outputs": [
    {
     "data": {
      "text/plain": [
       "(2, 2)"
      ]
     },
     "execution_count": 20,
     "metadata": {},
     "output_type": "execute_result"
    }
   ],
   "source": [
    "# Indexing\n",
    "# Basic 2-D indexing (lists)\n",
    "nums2 = [[1, 2, 3], [4, 5, 6]]\n",
    "# Basic 2-D indexing (arrays)\n",
    "nums2_np = np.array(nums2)\n",
    "nums2[0][1], nums2_np[0, 1]\n"
   ]
  },
  {
   "cell_type": "code",
   "execution_count": 21,
   "metadata": {},
   "outputs": [
    {
     "data": {
      "text/plain": [
       "[1, 4]"
      ]
     },
     "execution_count": 21,
     "metadata": {},
     "output_type": "execute_result"
    }
   ],
   "source": [
    "[row[0] for row in nums2]\n"
   ]
  },
  {
   "cell_type": "code",
   "execution_count": 22,
   "metadata": {},
   "outputs": [
    {
     "data": {
      "text/plain": [
       "array([1, 4])"
      ]
     },
     "execution_count": 22,
     "metadata": {},
     "output_type": "execute_result"
    }
   ],
   "source": [
    "nums2_np[:, 0]\n"
   ]
  },
  {
   "cell_type": "code",
   "execution_count": 23,
   "metadata": {},
   "outputs": [
    {
     "data": {
      "text/plain": [
       "array([[ True,  True,  True],\n",
       "       [ True,  True,  True]])"
      ]
     },
     "execution_count": 23,
     "metadata": {},
     "output_type": "execute_result"
    }
   ],
   "source": [
    "# Boolean indexing\n",
    "# No boolean indexing for lists\n",
    "nums2_np > 0\n"
   ]
  },
  {
   "cell_type": "code",
   "execution_count": 24,
   "metadata": {},
   "outputs": [
    {
     "data": {
      "text/plain": [
       "array([3, 4, 5, 6])"
      ]
     },
     "execution_count": 24,
     "metadata": {},
     "output_type": "execute_result"
    }
   ],
   "source": [
    "nums2_np[nums2_np > 2]\n"
   ]
  },
  {
   "attachments": {},
   "cell_type": "markdown",
   "metadata": {},
   "source": [
    "### Timing and Profiling \n"
   ]
  },
  {
   "attachments": {},
   "cell_type": "markdown",
   "metadata": {},
   "source": [
    "#### Examining Runtime\n",
    "- Faster code == more efficient code"
   ]
  },
  {
   "cell_type": "code",
   "execution_count": 25,
   "metadata": {},
   "outputs": [
    {
     "data": {
      "application/json": {
       "cell": {
        "!": "OSMagics",
        "HTML": "Other",
        "SVG": "Other",
        "bash": "Other",
        "capture": "ExecutionMagics",
        "debug": "ExecutionMagics",
        "file": "Other",
        "html": "DisplayMagics",
        "javascript": "DisplayMagics",
        "js": "DisplayMagics",
        "latex": "DisplayMagics",
        "markdown": "DisplayMagics",
        "perl": "Other",
        "prun": "ExecutionMagics",
        "pypy": "Other",
        "python": "Other",
        "python2": "Other",
        "python3": "Other",
        "ruby": "Other",
        "script": "ScriptMagics",
        "sh": "Other",
        "svg": "DisplayMagics",
        "sx": "OSMagics",
        "system": "OSMagics",
        "time": "ExecutionMagics",
        "timeit": "ExecutionMagics",
        "writefile": "OSMagics"
       },
       "line": {
        "alias": "OSMagics",
        "alias_magic": "BasicMagics",
        "autoawait": "AsyncMagics",
        "autocall": "AutoMagics",
        "automagic": "AutoMagics",
        "autosave": "KernelMagics",
        "bookmark": "OSMagics",
        "cat": "Other",
        "cd": "OSMagics",
        "clear": "KernelMagics",
        "colors": "BasicMagics",
        "conda": "PackagingMagics",
        "config": "ConfigMagics",
        "connect_info": "KernelMagics",
        "cp": "Other",
        "debug": "ExecutionMagics",
        "dhist": "OSMagics",
        "dirs": "OSMagics",
        "doctest_mode": "BasicMagics",
        "ed": "Other",
        "edit": "KernelMagics",
        "env": "OSMagics",
        "gui": "BasicMagics",
        "hist": "Other",
        "history": "HistoryMagics",
        "killbgscripts": "ScriptMagics",
        "ldir": "Other",
        "less": "KernelMagics",
        "lf": "Other",
        "lk": "Other",
        "ll": "Other",
        "load": "CodeMagics",
        "load_ext": "ExtensionMagics",
        "loadpy": "CodeMagics",
        "logoff": "LoggingMagics",
        "logon": "LoggingMagics",
        "logstart": "LoggingMagics",
        "logstate": "LoggingMagics",
        "logstop": "LoggingMagics",
        "ls": "Other",
        "lsmagic": "BasicMagics",
        "lx": "Other",
        "macro": "ExecutionMagics",
        "magic": "BasicMagics",
        "man": "KernelMagics",
        "matplotlib": "PylabMagics",
        "mkdir": "Other",
        "more": "KernelMagics",
        "mv": "Other",
        "notebook": "BasicMagics",
        "page": "BasicMagics",
        "pastebin": "CodeMagics",
        "pdb": "ExecutionMagics",
        "pdef": "NamespaceMagics",
        "pdoc": "NamespaceMagics",
        "pfile": "NamespaceMagics",
        "pinfo": "NamespaceMagics",
        "pinfo2": "NamespaceMagics",
        "pip": "PackagingMagics",
        "popd": "OSMagics",
        "pprint": "BasicMagics",
        "precision": "BasicMagics",
        "prun": "ExecutionMagics",
        "psearch": "NamespaceMagics",
        "psource": "NamespaceMagics",
        "pushd": "OSMagics",
        "pwd": "OSMagics",
        "pycat": "OSMagics",
        "pylab": "PylabMagics",
        "qtconsole": "KernelMagics",
        "quickref": "BasicMagics",
        "recall": "HistoryMagics",
        "rehashx": "OSMagics",
        "reload_ext": "ExtensionMagics",
        "rep": "Other",
        "rerun": "HistoryMagics",
        "reset": "NamespaceMagics",
        "reset_selective": "NamespaceMagics",
        "rm": "Other",
        "rmdir": "Other",
        "run": "ExecutionMagics",
        "save": "CodeMagics",
        "sc": "OSMagics",
        "set_env": "OSMagics",
        "store": "StoreMagics",
        "sx": "OSMagics",
        "system": "OSMagics",
        "tb": "ExecutionMagics",
        "time": "ExecutionMagics",
        "timeit": "ExecutionMagics",
        "unalias": "OSMagics",
        "unload_ext": "ExtensionMagics",
        "who": "NamespaceMagics",
        "who_ls": "NamespaceMagics",
        "whos": "NamespaceMagics",
        "xdel": "NamespaceMagics",
        "xmode": "BasicMagics"
       }
      },
      "text/plain": [
       "Available line magics:\n",
       "%alias  %alias_magic  %autoawait  %autocall  %automagic  %autosave  %bookmark  %cat  %cd  %clear  %colors  %conda  %config  %connect_info  %cp  %debug  %dhist  %dirs  %doctest_mode  %ed  %edit  %env  %gui  %hist  %history  %killbgscripts  %ldir  %less  %lf  %lk  %ll  %load  %load_ext  %loadpy  %logoff  %logon  %logstart  %logstate  %logstop  %ls  %lsmagic  %lx  %macro  %magic  %man  %matplotlib  %mkdir  %more  %mv  %notebook  %page  %pastebin  %pdb  %pdef  %pdoc  %pfile  %pinfo  %pinfo2  %pip  %popd  %pprint  %precision  %prun  %psearch  %psource  %pushd  %pwd  %pycat  %pylab  %qtconsole  %quickref  %recall  %rehashx  %reload_ext  %rep  %rerun  %reset  %reset_selective  %rm  %rmdir  %run  %save  %sc  %set_env  %store  %sx  %system  %tb  %time  %timeit  %unalias  %unload_ext  %who  %who_ls  %whos  %xdel  %xmode\n",
       "\n",
       "Available cell magics:\n",
       "%%!  %%HTML  %%SVG  %%bash  %%capture  %%debug  %%file  %%html  %%javascript  %%js  %%latex  %%markdown  %%perl  %%prun  %%pypy  %%python  %%python2  %%python3  %%ruby  %%script  %%sh  %%svg  %%sx  %%system  %%time  %%timeit  %%writefile\n",
       "\n",
       "Automagic is ON, % prefix IS NOT needed for line magics."
      ]
     },
     "execution_count": 25,
     "metadata": {},
     "output_type": "execute_result"
    }
   ],
   "source": [
    "# Magic Commands: enhancements on top of normal Python syntax\n",
    "# See all available magic commands with %lsmagic\n",
    "%lsmagic\n"
   ]
  },
  {
   "cell_type": "code",
   "execution_count": 26,
   "metadata": {},
   "outputs": [
    {
     "name": "stdout",
     "output_type": "stream",
     "text": [
      "5.44 µs ± 81.7 ns per loop (mean ± std. dev. of 7 runs, 100000 loops each)\n"
     ]
    }
   ],
   "source": [
    "import numpy as np\n",
    "%timeit rand_nums = np.random.rand(1000)\n"
   ]
  },
  {
   "cell_type": "code",
   "execution_count": 45,
   "metadata": {},
   "outputs": [
    {
     "name": "stdout",
     "output_type": "stream",
     "text": [
      "The slowest run took 8.94 times longer than the fastest. This could mean that an intermediate result is being cached.\n",
      "29.4 µs ± 23.5 µs per loop (mean ± std. dev. of 2 runs, 10 loops each)\n"
     ]
    }
   ],
   "source": [
    "# Setting number the number of runs (-r) and/or loops (-n)\n",
    "%timeit - r2 - n10 rand_nums = np.random.rand(1000)\n"
   ]
  },
  {
   "cell_type": "code",
   "execution_count": 46,
   "metadata": {},
   "outputs": [
    {
     "name": "stdout",
     "output_type": "stream",
     "text": [
      "368 ns ± 15 ns per loop (mean ± std. dev. of 7 runs, 1000000 loops each)\n"
     ]
    }
   ],
   "source": [
    "# Single line of code\n",
    "# Line magic (%timeit)\n",
    "%timeit nums = [x for x in range(10)]\n"
   ]
  },
  {
   "cell_type": "code",
   "execution_count": 47,
   "metadata": {},
   "outputs": [
    {
     "name": "stderr",
     "output_type": "stream",
     "text": [
      "UsageError: Line magic function `%` not found.\n"
     ]
    }
   ],
   "source": [
    "% % timeit\n",
    "# Multiple lines of code\n",
    "# Cell magic (%%timeit) has to be first thing in the IPython (Jupyter) cell\n",
    "nums = []\n",
    "for x in range(10):\n",
    "\n",
    "    nums.append(x)\n"
   ]
  },
  {
   "cell_type": "code",
   "execution_count": 48,
   "metadata": {},
   "outputs": [
    {
     "name": "stdout",
     "output_type": "stream",
     "text": [
      "5.62 µs ± 100 ns per loop (mean ± std. dev. of 7 runs, 100000 loops each)\n"
     ]
    }
   ],
   "source": [
    "# Saving the output to a variable\n",
    "times = %timeit - o rand_nums = np.random.rand(1000)\n"
   ]
  },
  {
   "cell_type": "code",
   "execution_count": 33,
   "metadata": {},
   "outputs": [
    {
     "data": {
      "text/plain": [
       "<TimeitResult : 5.49 µs ± 115 ns per loop (mean ± std. dev. of 7 runs, 100000 loops each)>"
      ]
     },
     "execution_count": 33,
     "metadata": {},
     "output_type": "execute_result"
    }
   ],
   "source": [
    "times\n"
   ]
  },
  {
   "cell_type": "code",
   "execution_count": 34,
   "metadata": {},
   "outputs": [
    {
     "data": {
      "text/plain": [
       "[5.706382329808548e-06,\n",
       " 5.565177199896425e-06,\n",
       " 5.381958889774978e-06,\n",
       " 5.378519409568981e-06,\n",
       " 5.371884419582784e-06,\n",
       " 5.506358309648931e-06,\n",
       " 5.541280459146947e-06]"
      ]
     },
     "execution_count": 34,
     "metadata": {},
     "output_type": "execute_result"
    }
   ],
   "source": [
    "times.timings\n"
   ]
  },
  {
   "cell_type": "code",
   "execution_count": 35,
   "metadata": {},
   "outputs": [
    {
     "data": {
      "text/plain": [
       "5.371884419582784e-06"
      ]
     },
     "execution_count": 35,
     "metadata": {},
     "output_type": "execute_result"
    }
   ],
   "source": [
    "times.best\n"
   ]
  },
  {
   "cell_type": "code",
   "execution_count": 36,
   "metadata": {},
   "outputs": [
    {
     "data": {
      "text/plain": [
       "5.706382329808548e-06"
      ]
     },
     "execution_count": 36,
     "metadata": {},
     "output_type": "execute_result"
    }
   ],
   "source": [
    "times.worst\n"
   ]
  },
  {
   "cell_type": "code",
   "execution_count": 38,
   "metadata": {},
   "outputs": [
    {
     "name": "stdout",
     "output_type": "stream",
     "text": [
      "55.5 ns ± 1.53 ns per loop (mean ± std. dev. of 7 runs, 10000000 loops each)\n",
      "16 ns ± 1.02 ns per loop (mean ± std. dev. of 7 runs, 100000000 loops each)\n",
      "l_time better than f_time by 39.508602690184496 ns \n"
     ]
    }
   ],
   "source": [
    "f_time = %timeit - o formal_dict = dict()\n",
    "l_time = %timeit - o literal_dict = {}\n",
    "diff = (f_time.average - l_time.average) * (10**9)\n",
    "print(\"l_time better than f_time by {} ns \".format(diff))\n"
   ]
  },
  {
   "attachments": {},
   "cell_type": "markdown",
   "metadata": {},
   "source": [
    "#### Code Profiling for Runtime\n",
    "- Detailed stats on frequency and duration of function calls\n",
    "- Line-by-line analyses"
   ]
  },
  {
   "cell_type": "code",
   "execution_count": 39,
   "metadata": {},
   "outputs": [
    {
     "name": "stdout",
     "output_type": "stream",
     "text": [
      "Requirement already satisfied: line_profiler in /home/kemal/anaconda3/lib/python3.8/site-packages (4.0.2)\n",
      "Note: you may need to restart the kernel to use updated packages.\n"
     ]
    }
   ],
   "source": [
    "pip install line_profiler\n"
   ]
  },
  {
   "cell_type": "code",
   "execution_count": 73,
   "metadata": {},
   "outputs": [
    {
     "data": {
      "text/plain": [
       "{'Kemal': (69.6849, 231.4851),\n",
       " 'Talha': (68.5038, 189.59732),\n",
       " 'Mahmut': (70.0786, 182.98345999999998)}"
      ]
     },
     "execution_count": 73,
     "metadata": {},
     "output_type": "execute_result"
    }
   ],
   "source": [
    "names = [\"Kemal\", \"Talha\", \"Mahmut\"]\n",
    "hts = np.array([177.0, 174.0, 178.0])\n",
    "wts = np.array([105.0, 86.0, 83.0])\n",
    "\n",
    "def convert_units(names, heights, weights):\n",
    "    \n",
    "    new_hts = heights * 0.39370\n",
    "    new_wts = weights * 2.20462\n",
    "\n",
    "    name_data = {}\n",
    "\n",
    "    for idx, name in enumerate(names):\n",
    "        name_data[name] = (new_hts[idx], new_wts[idx])\n",
    "\n",
    "    return name_data\n",
    "\n",
    "convert_units(names, hts, wts)"
   ]
  },
  {
   "cell_type": "code",
   "execution_count": 74,
   "metadata": {},
   "outputs": [
    {
     "name": "stdout",
     "output_type": "stream",
     "text": [
      "The line_profiler extension is already loaded. To reload it, use:\n",
      "  %reload_ext line_profiler\n"
     ]
    }
   ],
   "source": [
    "%load_ext line_profiler\n"
   ]
  },
  {
   "cell_type": "code",
   "execution_count": 75,
   "metadata": {},
   "outputs": [
    {
     "name": "stdout",
     "output_type": "stream",
     "text": [
      "Timer unit: 1e-09 s\n",
      "\n",
      "Total time: 2.5487e-05 s\n",
      "File: <ipython-input-73-df2c933999eb>\n",
      "Function: convert_units at line 5\n",
      "\n",
      "Line #      Hits         Time  Per Hit   % Time  Line Contents\n",
      "==============================================================\n",
      "     5                                           def convert_units(names, heights, weights):\n",
      "     6                                               \n",
      "     7         1      19224.0  19224.0     75.4      new_hts = heights * 0.39370\n",
      "     8         1       1452.0   1452.0      5.7      new_wts = weights * 2.20462\n",
      "     9                                           \n",
      "    10         1        169.0    169.0      0.7      name_data = {}\n",
      "    11                                           \n",
      "    12         3       1297.0    432.3      5.1      for idx, name in enumerate(names):\n",
      "    13         3       3210.0   1070.0     12.6          name_data[name] = (new_hts[idx], new_wts[idx])\n",
      "    14                                           \n",
      "    15         1        135.0    135.0      0.5      return name_data"
     ]
    }
   ],
   "source": [
    "# Magic command for line-by-line times\n",
    "%lprun -f convert_units  convert_units(names, hts, wts)  # -f : function\n"
   ]
  },
  {
   "attachments": {},
   "cell_type": "markdown",
   "metadata": {},
   "source": [
    "#### Code Profiling for Memory Usage\n",
    "- Detailed stats on memort consumption\n",
    "- Line-by-line analyses "
   ]
  },
  {
   "cell_type": "code",
   "execution_count": 76,
   "metadata": {},
   "outputs": [
    {
     "name": "stdout",
     "output_type": "stream",
     "text": [
      "90104 bytes\n"
     ]
    }
   ],
   "source": [
    "import sys\n",
    "nums_list = [*range(10000)]\n",
    "print(sys.getsizeof(nums_list), \"bytes\")\n"
   ]
  },
  {
   "cell_type": "code",
   "execution_count": 78,
   "metadata": {},
   "outputs": [
    {
     "name": "stdout",
     "output_type": "stream",
     "text": [
      "80104 bytes\n"
     ]
    }
   ],
   "source": [
    "import numpy as np\n",
    "nums_np = np.array(range(10000))\n",
    "print(sys.getsizeof(nums_np), \"bytes\")\n"
   ]
  },
  {
   "cell_type": "code",
   "execution_count": 79,
   "metadata": {},
   "outputs": [
    {
     "name": "stdout",
     "output_type": "stream",
     "text": [
      "Requirement already satisfied: memory_profiler in /home/kemal/anaconda3/lib/python3.8/site-packages (0.61.0)\n",
      "Requirement already satisfied: psutil in /home/kemal/anaconda3/lib/python3.8/site-packages (from memory_profiler) (5.8.0)\n",
      "Note: you may need to restart the kernel to use updated packages.\n"
     ]
    }
   ],
   "source": [
    "pip install memory_profiler\n"
   ]
  },
  {
   "cell_type": "code",
   "execution_count": 80,
   "metadata": {},
   "outputs": [
    {
     "name": "stdout",
     "output_type": "stream",
     "text": [
      "The memory_profiler extension is already loaded. To reload it, use:\n",
      "  %reload_ext memory_profiler\n"
     ]
    }
   ],
   "source": [
    "%load_ext memory_profiler\n"
   ]
  },
  {
   "cell_type": "code",
   "execution_count": 91,
   "metadata": {},
   "outputs": [
    {
     "name": "stdout",
     "output_type": "stream",
     "text": [
      "\n"
     ]
    },
    {
     "name": "stdout",
     "output_type": "stream",
     "text": [
      "Filename: /home/kemal/Projelerim/Python_Developer_Roadmap/Data/memory_profiling.py\n",
      "\n",
      "Line #    Mem usage    Increment  Occurrences   Line Contents\n",
      "=============================================================\n",
      "     2     94.8 MiB     94.8 MiB           1   def convert_units(names, heights, weights):\n",
      "     3                                             \n",
      "     4     94.8 MiB      0.0 MiB           1       new_hts = heights * 0.39370\n",
      "     5     94.8 MiB      0.0 MiB           1       new_wts = weights * 2.20462\n",
      "     6                                         \n",
      "     7     94.8 MiB      0.0 MiB           1       name_data = {}\n",
      "     8                                         \n",
      "     9     94.8 MiB      0.0 MiB           4       for idx, name in enumerate(names):\n",
      "    10     94.8 MiB      0.0 MiB           3           name_data[name] = (new_hts[idx], new_wts[idx])\n",
      "    11                                         \n",
      "    12     94.8 MiB      0.0 MiB           1       return name_data"
     ]
    }
   ],
   "source": [
    "%mprun -f convert_units convert_units(names, hts, wts)"
   ]
  },
  {
   "cell_type": "code",
   "execution_count": 92,
   "metadata": {},
   "outputs": [
    {
     "name": "stdout",
     "output_type": "stream",
     "text": [
      "\n"
     ]
    },
    {
     "name": "stdout",
     "output_type": "stream",
     "text": [
      "Filename: /home/kemal/Projelerim/Python_Developer_Roadmap/Data/memory_profiling.py\n",
      "\n",
      "Line #    Mem usage    Increment  Occurrences   Line Contents\n",
      "=============================================================\n",
      "     2     94.8 MiB     94.8 MiB           1   def convert_units(names, heights, weights):\n",
      "     3                                             \n",
      "     4     94.8 MiB      0.0 MiB           1       new_hts = heights * 0.39370\n",
      "     5     94.8 MiB      0.0 MiB           1       new_wts = weights * 2.20462\n",
      "     6                                         \n",
      "     7     94.8 MiB      0.0 MiB           1       name_data = {}\n",
      "     8                                         \n",
      "     9     94.8 MiB      0.0 MiB           4       for idx, name in enumerate(names):\n",
      "    10     94.8 MiB      0.0 MiB           3           name_data[name] = (new_hts[idx], new_wts[idx])\n",
      "    11                                         \n",
      "    12     94.8 MiB      0.0 MiB           1       return name_data"
     ]
    }
   ],
   "source": [
    "from Data.memory_profiling import convert_units\n",
    "%mprun -f convert_units convert_units(names, hts, wts)"
   ]
  },
  {
   "cell_type": "code",
   "execution_count": 98,
   "metadata": {},
   "outputs": [
    {
     "data": {
      "text/plain": [
       "'%mprun caveats \\nSmall memory allocations could result in 0.0 MiB output.\\nInspects memory by querying the operating  system.\\nResults may differ between platforms and runs.Can still observe how each line of code compares to others based on memory consumption.\\n'"
      ]
     },
     "execution_count": 98,
     "metadata": {},
     "output_type": "execute_result"
    }
   ],
   "source": [
    "\"\"\"%mprun caveats \n",
    "Small memory allocations could result in 0.0 MiB output.\n",
    "Inspects memory by querying the operating  system.\n",
    "Results may differ between platforms and runs.Can still observe how each line of code compares to others based on memory consumption.\n",
    "\"\"\""
   ]
  },
  {
   "attachments": {},
   "cell_type": "markdown",
   "metadata": {},
   "source": [
    "#### Gaining Efficiencies\n",
    "- Efficiently combining, counting, and iterating"
   ]
  },
  {
   "cell_type": "code",
   "execution_count": 104,
   "metadata": {},
   "outputs": [
    {
     "name": "stdout",
     "output_type": "stream",
     "text": [
      "<class 'zip'>\n",
      "[('Bulbasaur', 45), ('Charmander', 39), ('Squirtle', 44)]\n"
     ]
    }
   ],
   "source": [
    "# zip returns a zip object that must be unpacked into a list and printed to see the contents\n",
    "names = ['Bulbasaur', 'Charmander', 'Squirtle']\n",
    "hps = [45, 39, 44]\n",
    "combined_zip = zip(names,hps)\n",
    "print(type(combined_zip))\n",
    "combined_zip_list = [*combined_zip]\n",
    "print(combined_zip_list)"
   ]
  },
  {
   "cell_type": "code",
   "execution_count": 105,
   "metadata": {},
   "outputs": [
    {
     "data": {
      "text/plain": [
       "\" Part of Python's Standard Library (built-in module)\\n    Specialized container datatypes -> Alternative to general purpose dict, list, set, and tuple\\n    Notable:\\n        namedtuple : tuple subclasses with named fields\\n        deque : list-like container with fast appends and pops\\n        Counter : dict for counting hashable objects\\n        OrderedDict : dict that retains order of entries\\n        defaultdict : dict that calls a factory function to supply missing values \""
      ]
     },
     "execution_count": 105,
     "metadata": {},
     "output_type": "execute_result"
    }
   ],
   "source": [
    "# The collections module\n",
    "\"\"\" Part of Python's Standard Library (built-in module)\n",
    "    Specialized container datatypes -> Alternative to general purpose dict, list, set, and tuple\n",
    "    Notable:\n",
    "        namedtuple : tuple subclasses with named fields\n",
    "        deque : list-like container with fast appends and pops\n",
    "        Counter : dict for counting hashable objects\n",
    "        OrderedDict : dict that retains order of entries\n",
    "        defaultdict : dict that calls a factory function to supply missing values \"\"\""
   ]
  },
  {
   "cell_type": "code",
   "execution_count": 108,
   "metadata": {},
   "outputs": [
    {
     "data": {
      "text/plain": [
       "True"
      ]
     },
     "execution_count": 108,
     "metadata": {},
     "output_type": "execute_result"
    }
   ],
   "source": [
    "from collections import namedtuple\n",
    "\n",
    "Point = namedtuple(\"Point\", \"x y\")\n",
    "issubclass(Point, tuple)"
   ]
  },
  {
   "cell_type": "code",
   "execution_count": 109,
   "metadata": {},
   "outputs": [
    {
     "data": {
      "text/plain": [
       "Point(x=2, y=4)"
      ]
     },
     "execution_count": 109,
     "metadata": {},
     "output_type": "execute_result"
    }
   ],
   "source": [
    "point = Point(2,4)  # Instantiate the new type\n",
    "point"
   ]
  },
  {
   "cell_type": "code",
   "execution_count": 111,
   "metadata": {},
   "outputs": [
    {
     "data": {
      "text/plain": [
       "(2, 4)"
      ]
     },
     "execution_count": 111,
     "metadata": {},
     "output_type": "execute_result"
    }
   ],
   "source": [
    "point.x, point.y"
   ]
  },
  {
   "cell_type": "code",
   "execution_count": 112,
   "metadata": {},
   "outputs": [
    {
     "data": {
      "text/plain": [
       "(2, 4)"
      ]
     },
     "execution_count": 112,
     "metadata": {},
     "output_type": "execute_result"
    }
   ],
   "source": [
    "point[0], point[1]"
   ]
  },
  {
   "cell_type": "code",
   "execution_count": 114,
   "metadata": {},
   "outputs": [
    {
     "data": {
      "text/plain": [
       "Point(x=8, y=16)"
      ]
     },
     "execution_count": 114,
     "metadata": {},
     "output_type": "execute_result"
    }
   ],
   "source": [
    "# A generator expression for the field names\n",
    "Point = namedtuple(\"Point\", (field for field in \"xy\"))\n",
    "Point(8,16)"
   ]
  },
  {
   "cell_type": "code",
   "execution_count": 115,
   "metadata": {},
   "outputs": [
    {
     "data": {
      "text/plain": [
       "(2, 0)"
      ]
     },
     "execution_count": 115,
     "metadata": {},
     "output_type": "execute_result"
    }
   ],
   "source": [
    "\"\"\"For example, Python provides a built-in function called divmod() that takes two numbers as arguments and \n",
    "returns a tuple with the quotient and remainder that result from the integer division of the input numbers:\n",
    "\"\"\"\n",
    "divmod(8,4)"
   ]
  },
  {
   "cell_type": "code",
   "execution_count": 117,
   "metadata": {},
   "outputs": [
    {
     "data": {
      "text/plain": [
       "DivMod(quotient=2, number=0)"
      ]
     },
     "execution_count": 117,
     "metadata": {},
     "output_type": "execute_result"
    }
   ],
   "source": [
    "\"\"\"To remember the meaning of each number, you might need to read the documentation of divmod() \n",
    "because the numbers themselves don’t provide much information on their individual meaning. \n",
    "The function’s name doesn’t help very much either.\"\"\"\n",
    "def custom_divmod(a, b):\n",
    "    DivMod = namedtuple(\"DivMod\", [\"quotient\", \"number\"])\n",
    "    return DivMod(*divmod(a,b))\n",
    "\n",
    "custom_divmod(8,4)"
   ]
  },
  {
   "cell_type": "code",
   "execution_count": 118,
   "metadata": {},
   "outputs": [],
   "source": [
    "# Reducing the number of arguments to functions\n",
    "# def create_user(db, username, client_name, plan):\n",
    "#     db.add_user(username)\n",
    "#     db.complete_user_profile(username, client_name, plan)\n",
    "User = namedtuple(\"User\", \"username client_name plan\")\n",
    "user = User(\"john\", \"John Doe\", \"Premium\")\n",
    "\n",
    "def create_user(db, user):\n",
    "    db.add_user(user.username)\n",
    "    db.complete_user_profile(\n",
    "        user.username,\n",
    "        user.client_name,\n",
    "        user.plan\n",
    "    )"
   ]
  },
  {
   "cell_type": "code",
   "execution_count": 123,
   "metadata": {},
   "outputs": [
    {
     "name": "stdout",
     "output_type": "stream",
     "text": [
      "Linda Technical Lead linda@example.com\n",
      "Joe Senior Web Developer joe@example.com\n",
      "Lara Project Manager lara@example.com\n",
      "David Data Analyst david@example.com\n",
      "Jane Senior Python Developer jane@example.com\n"
     ]
    }
   ],
   "source": [
    "# Reading tabular data from files and databases\n",
    "import csv\n",
    "\n",
    "with open(\"Data/employees.csv\", \"r\") as csv_file:\n",
    "    reader = csv.reader(csv_file)\n",
    "    Employee = namedtuple(\"Employee\", next(reader), rename=True)\n",
    "    for row in reader:\n",
    "        employee = Employee(*row)\n",
    "        print(employee.name, employee.job, employee.email)"
   ]
  },
  {
   "cell_type": "code",
   "execution_count": 124,
   "metadata": {},
   "outputs": [
    {
     "data": {
      "text/plain": [
       "Person(name='Kemal', age=27, height=1.78, weight=105, country='Turkiye')"
      ]
     },
     "execution_count": 124,
     "metadata": {},
     "output_type": "execute_result"
    }
   ],
   "source": [
    "# namedtuple vs Data Class\n",
    "# Data Classes can be thought as \"mutable named tuples with defaults\"\n",
    "from dataclasses import dataclass\n",
    "\n",
    "@dataclass\n",
    "class Person:\n",
    "    name:str\n",
    "    age:int\n",
    "    height:float\n",
    "    weight:float\n",
    "    country:str = \"Turkiye\"\n",
    "\n",
    "Kemal = Person(\"Kemal\",27, 1.78, 105)\n",
    "Kemal"
   ]
  },
  {
   "cell_type": "code",
   "execution_count": 126,
   "metadata": {},
   "outputs": [
    {
     "ename": "TypeError",
     "evalue": "__init_subclass__() takes no keyword arguments",
     "output_type": "error",
     "traceback": [
      "\u001b[0;31m---------------------------------------------------------------------------\u001b[0m",
      "\u001b[0;31mTypeError\u001b[0m                                 Traceback (most recent call last)",
      "\u001b[0;32m<ipython-input-126-19e121824c3c>\u001b[0m in \u001b[0;36m<module>\u001b[0;34m\u001b[0m\n\u001b[1;32m      2\u001b[0m However, they have an ace up their sleeve. You can set the dataclass() decorator’s frozen argument to True and make them immutable\"\"\"\n\u001b[1;32m      3\u001b[0m \u001b[0;34m@\u001b[0m\u001b[0mdataclass\u001b[0m\u001b[0;34m\u001b[0m\u001b[0;34m\u001b[0m\u001b[0m\n\u001b[0;32m----> 4\u001b[0;31m \u001b[0;32mclass\u001b[0m \u001b[0mPerson\u001b[0m\u001b[0;34m(\u001b[0m\u001b[0mfrozen\u001b[0m \u001b[0;34m=\u001b[0m \u001b[0;32mTrue\u001b[0m\u001b[0;34m)\u001b[0m\u001b[0;34m:\u001b[0m\u001b[0;34m\u001b[0m\u001b[0;34m\u001b[0m\u001b[0m\n\u001b[0m\u001b[1;32m      5\u001b[0m     \u001b[0mname\u001b[0m\u001b[0;34m:\u001b[0m\u001b[0mstr\u001b[0m\u001b[0;34m\u001b[0m\u001b[0;34m\u001b[0m\u001b[0m\n\u001b[1;32m      6\u001b[0m     \u001b[0mage\u001b[0m\u001b[0;34m:\u001b[0m\u001b[0mint\u001b[0m\u001b[0;34m\u001b[0m\u001b[0;34m\u001b[0m\u001b[0m\n",
      "\u001b[0;31mTypeError\u001b[0m: __init_subclass__() takes no keyword arguments"
     ]
    }
   ],
   "source": [
    "\"\"\"Mutability-wise, data classes are mutable by definition, so you can change the value of their attributes when needed. \n",
    "However, they have an ace up their sleeve. You can set the dataclass() decorator’s frozen argument to True and make them immutable\"\"\"\n",
    "@dataclass\n",
    "class Person(frozen = True):\n",
    "    name:str\n",
    "    age:int\n",
    "    height:float\n",
    "    weight:float\n",
    "    country:str = \"Turkiye\"\n",
    "\n",
    "Kemal.name = \"Alparslan\""
   ]
  },
  {
   "cell_type": "code",
   "execution_count": 127,
   "metadata": {},
   "outputs": [
    {
     "ename": "TypeError",
     "evalue": "'Person' object is not iterable",
     "output_type": "error",
     "traceback": [
      "\u001b[0;31m---------------------------------------------------------------------------\u001b[0m",
      "\u001b[0;31mTypeError\u001b[0m                                 Traceback (most recent call last)",
      "\u001b[0;32m<ipython-input-127-76a88b1d2f5d>\u001b[0m in \u001b[0;36m<module>\u001b[0;34m\u001b[0m\n\u001b[1;32m      2\u001b[0m \u001b[0mStick\u001b[0m \u001b[0mto\u001b[0m \u001b[0mthe\u001b[0m \u001b[0mKemal\u001b[0m \u001b[0mexample\u001b[0m \u001b[0;32mand\u001b[0m \u001b[0;32mtry\u001b[0m \u001b[0mto\u001b[0m \u001b[0miterate\u001b[0m \u001b[0mover\u001b[0m \u001b[0mher\u001b[0m \u001b[0mdata\u001b[0m\u001b[0;34m:\u001b[0m\u001b[0;34m\u001b[0m\u001b[0;34m\u001b[0m\u001b[0m\n\u001b[1;32m      3\u001b[0m \"\"\"\n\u001b[0;32m----> 4\u001b[0;31m \u001b[0;32mfor\u001b[0m \u001b[0mfield\u001b[0m \u001b[0;32min\u001b[0m \u001b[0mKemal\u001b[0m\u001b[0;34m:\u001b[0m\u001b[0;34m\u001b[0m\u001b[0;34m\u001b[0m\u001b[0m\n\u001b[0m\u001b[1;32m      5\u001b[0m     \u001b[0mprint\u001b[0m\u001b[0;34m(\u001b[0m\u001b[0mfield\u001b[0m\u001b[0;34m)\u001b[0m\u001b[0;34m\u001b[0m\u001b[0;34m\u001b[0m\u001b[0m\n",
      "\u001b[0;31mTypeError\u001b[0m: 'Person' object is not iterable"
     ]
    }
   ],
   "source": [
    "\"\"\" Another subtle difference between named tuples and data classes is that the latter aren’t iterable by default. \n",
    "Stick to the Kemal example and try to iterate over her data:\n",
    "\"\"\"\n",
    "for field in Kemal:\n",
    "    print(field)"
   ]
  },
  {
   "cell_type": "code",
   "execution_count": 3,
   "metadata": {},
   "outputs": [
    {
     "name": "stdout",
     "output_type": "stream",
     "text": [
      "Counter({'fire': 2, 'grass': 1, 'dark': 1})\n"
     ]
    }
   ],
   "source": [
    "# Counter\n",
    "from collections import Counter\n",
    "poke_types = ['grass', 'dark', 'fire', 'fire']\n",
    "type_counts = Counter((poke_types))\n",
    "print(type_counts)"
   ]
  },
  {
   "cell_type": "code",
   "execution_count": 4,
   "metadata": {},
   "outputs": [
    {
     "name": "stdout",
     "output_type": "stream",
     "text": [
      "deque:  deque([1, 2, 3])\n",
      "\n",
      "The deque after appending at right is : \n",
      "deque([1, 2, 3, 4])\n",
      "\n",
      "The deque after appending at left is : \n",
      "deque([6, 1, 2, 3, 4])\n"
     ]
    }
   ],
   "source": [
    "import collections\n",
    "\n",
    "# initializing deque\n",
    "de = collections.deque([1, 2, 3])\n",
    "print(\"deque: \", de)\n",
    "\n",
    "# using append() to insert element at right end\n",
    "# inserts 4 at the end of deque\n",
    "de.append(4)\n",
    "\n",
    "# printing modified deque\n",
    "print(\"\\nThe deque after appending at right is : \")\n",
    "print(de)\n",
    "\n",
    "# using appendleft() to insert element at left end\n",
    "# inserts 6 at the beginning of deque\n",
    "de.appendleft(6)\n",
    "\n",
    "# printing modified deque\n",
    "print(\"\\nThe deque after appending at left is : \")\n",
    "print(de)\n"
   ]
  },
  {
   "attachments": {},
   "cell_type": "markdown",
   "metadata": {},
   "source": [
    "##### The itertools module \n",
    "- Part of Python's Standard Library (built-in module)\n",
    "- Functional tools for creating and using iterators\n",
    "\n",
    "- Notable:\n",
    "\n",
    "-     Infinite iterators: count, cycle, repeat\n",
    "-     Finite iterators: accumulate, chain, zip_longest, etc.\n",
    "-     Combination generators: product, permutations, combinations"
   ]
  },
  {
   "cell_type": "code",
   "execution_count": 9,
   "metadata": {},
   "outputs": [
    {
     "name": "stdout",
     "output_type": "stream",
     "text": [
      "('Bug', 'Fire') ('Bug', 'Ghost') ('Bug', 'Grass') ('Bug', 'Water') ('Fire', 'Ghost') ('Fire', 'Grass') ('Fire', 'Water') ('Ghost', 'Grass') ('Ghost', 'Water') ('Grass', 'Water')\n"
     ]
    }
   ],
   "source": [
    "poke_types = [\"Bug\", 'Fire', 'Ghost', 'Grass', 'Water']\n",
    "from itertools import combinations\n",
    "combos_obj = combinations(poke_types, 2)\n",
    "print(*combos_obj)"
   ]
  },
  {
   "cell_type": "markdown",
   "metadata": {},
   "source": [
    "##### Set Theory\n",
    "- Branch of Mathmematics applied to collections of objects\n",
    "\n",
    "- Python has built-in set datatype with accompanying methods:\n",
    "-      intersection(): all elements that are in both sets\n",
    "-      difference(): all elements in one set but not the other\n",
    "-      symmetric_difference(): all elements in exactly one set\n",
    "-      union(): all elements that are in either set\n",
    "\n",
    "- Fast membership testing\n",
    "-      Check if a value exists in a sequence or not\n",
    "-      Using the in operator"
   ]
  },
  {
   "cell_type": "code",
   "execution_count": 2,
   "metadata": {},
   "outputs": [],
   "source": [
    "names_list = ['Kemal', \"Mahmut\", \"Talha\", \n",
    "                    'Kemal', \"Mahmut\", \"Talha\",\n",
    "                        'Kemal', \"Mahmut\", \"Talha\",\n",
    "                              'Kemal', \"Mahmut\", \"Talha\",\"Key\"]\n",
    "names_tuple = ('Kemal', \"Mahmut\", \"Talha\", \n",
    "                    'Kemal', \"Mahmut\", \"Talha\",\n",
    "                        'Kemal', \"Mahmut\", \"Talha\",\n",
    "                              'Kemal', \"Mahmut\", \"Talha\",\"Key\")\n",
    "names_set = {'Kemal', \"Mahmut\", \"Talha\", \n",
    "                    'Kemal', \"Mahmut\", \"Talha\",\n",
    "                        'Kemal', \"Mahmut\", \"Talha\",\n",
    "                              'Kemal', \"Mahmut\", \"Talha\",\"Key\"}"
   ]
  },
  {
   "cell_type": "code",
   "execution_count": 3,
   "metadata": {},
   "outputs": [
    {
     "name": "stdout",
     "output_type": "stream",
     "text": [
      "36.2 ns ± 0.947 ns per loop (mean ± std. dev. of 7 runs, 10,000,000 loops each)\n"
     ]
    }
   ],
   "source": [
    "%timeit 'Kemal' in names_list"
   ]
  },
  {
   "cell_type": "code",
   "execution_count": 4,
   "metadata": {},
   "outputs": [
    {
     "name": "stdout",
     "output_type": "stream",
     "text": [
      "36.8 ns ± 0.551 ns per loop (mean ± std. dev. of 7 runs, 10,000,000 loops each)\n"
     ]
    }
   ],
   "source": [
    "%timeit 'Kemal' in names_tuple"
   ]
  },
  {
   "cell_type": "code",
   "execution_count": 5,
   "metadata": {},
   "outputs": [
    {
     "name": "stdout",
     "output_type": "stream",
     "text": [
      "34.3 ns ± 0.187 ns per loop (mean ± std. dev. of 7 runs, 10,000,000 loops each)\n"
     ]
    }
   ],
   "source": [
    "%timeit 'Kemal' in names_set"
   ]
  },
  {
   "cell_type": "code",
   "execution_count": 6,
   "metadata": {},
   "outputs": [
    {
     "name": "stdout",
     "output_type": "stream",
     "text": [
      "13\n",
      "13\n",
      "4\n"
     ]
    }
   ],
   "source": [
    "# Uniques with sets\n",
    "number_of_elements_in_list = len(names_list)\n",
    "number_of_elements_in_tuple = len(names_tuple)\n",
    "number_of_elements_in_set = len(names_set)\n",
    "print(number_of_elements_in_list)\n",
    "print(number_of_elements_in_tuple)\n",
    "print(number_of_elements_in_set)"
   ]
  },
  {
   "attachments": {},
   "cell_type": "markdown",
   "metadata": {},
   "source": [
    "##### Eliminating Loops\n",
    "- Fewer lines of codes\n",
    "- Better code readability \n",
    "-       Flat is better than nested\n",
    "- Efficiency gains"
   ]
  },
  {
   "cell_type": "code",
   "execution_count": 13,
   "metadata": {},
   "outputs": [],
   "source": [
    "poke_stats = [\n",
    "    [90, 92, 75, 60],\n",
    "    [25, 20, 15, 90],\n",
    "    [65, 130, 60, 75]\n",
    "]\n",
    "totals = [] "
   ]
  },
  {
   "cell_type": "code",
   "execution_count": 14,
   "metadata": {},
   "outputs": [
    {
     "name": "stdout",
     "output_type": "stream",
     "text": [
      "569 ns ± 20.2 ns per loop (mean ± std. dev. of 7 runs, 1,000,000 loops each)\n"
     ]
    }
   ],
   "source": [
    "%%timeit\n",
    "# For loop approach\n",
    "for row in poke_stats:\n",
    "    totals.append(sum(row))"
   ]
  },
  {
   "cell_type": "code",
   "execution_count": 15,
   "metadata": {},
   "outputs": [
    {
     "name": "stdout",
     "output_type": "stream",
     "text": [
      "499 ns ± 15.4 ns per loop (mean ± std. dev. of 7 runs, 1,000,000 loops each)\n"
     ]
    }
   ],
   "source": [
    "%%timeit\n",
    "# List comprehension\n",
    "totals_list = [sum(row) for row in poke_stats]"
   ]
  },
  {
   "cell_type": "code",
   "execution_count": 17,
   "metadata": {},
   "outputs": [
    {
     "name": "stdout",
     "output_type": "stream",
     "text": [
      "457 ns ± 10.1 ns per loop (mean ± std. dev. of 7 runs, 1,000,000 loops each)\n"
     ]
    }
   ],
   "source": [
    "%%timeit \n",
    "# Built-in map() function\n",
    "totals_map = [*map(sum,poke_stats)]"
   ]
  },
  {
   "cell_type": "code",
   "execution_count": 25,
   "metadata": {},
   "outputs": [],
   "source": [
    "# Eliminate loops with Numpy\n",
    "import numpy as np\n",
    "poke_stats = np.array([\n",
    "    [90, 92, 75, 60],\n",
    "    [25, 20, 15, 90],\n",
    "    [65, 130, 60, 75]\n",
    "])\n",
    "avgs = []"
   ]
  },
  {
   "cell_type": "code",
   "execution_count": 26,
   "metadata": {},
   "outputs": [
    {
     "name": "stdout",
     "output_type": "stream",
     "text": [
      "21.1 µs ± 241 ns per loop (mean ± std. dev. of 7 runs, 10,000 loops each)\n"
     ]
    }
   ],
   "source": [
    "%%timeit\n",
    "for row in poke_stats:\n",
    "    avg = np.mean(row)\n",
    "    avgs.append(avg)"
   ]
  },
  {
   "cell_type": "code",
   "execution_count": 27,
   "metadata": {},
   "outputs": [],
   "source": [
    "avgs = []"
   ]
  },
  {
   "cell_type": "code",
   "execution_count": 28,
   "metadata": {},
   "outputs": [
    {
     "name": "stdout",
     "output_type": "stream",
     "text": [
      "10 µs ± 109 ns per loop (mean ± std. dev. of 7 runs, 100,000 loops each)\n"
     ]
    }
   ],
   "source": [
    "%timeit avgs = poke_stats.mean(axis=1)"
   ]
  },
  {
   "attachments": {},
   "cell_type": "markdown",
   "metadata": {},
   "source": [
    "##### Writing better loops\n",
    "- Understand what is being done with each loop iteration\n",
    "- Move one-time calculations outside (above) the loop\n",
    "- Use holistic conversions outside (below) the loop\n",
    "- Anything that is done once should be outside the loop"
   ]
  },
  {
   "cell_type": "code",
   "execution_count": 29,
   "metadata": {},
   "outputs": [
    {
     "name": "stdout",
     "output_type": "stream",
     "text": [
      "Absol's attack: 130 > average: 69.0!\n",
      "Aron's attack: 70 > average: 69.0!\n"
     ]
    }
   ],
   "source": [
    "import numpy as np\n",
    "names = ['Absol', 'Aron', 'Jynx', 'Natu', 'Onix']\n",
    "attacks = np.array([130, 70, 50, 50, 45])\n",
    "# Calculate total average once (outside the loop)\n",
    "total_attack_avg = attacks.mean()\n",
    "for pokemon, attack in zip(names, attacks):\n",
    "    if attack > total_attack_avg:\n",
    "        print(\n",
    "            \"{}'s attack: {} > average: {}!\"\n",
    "            .format(pokemon, attack, total_attack_avg)\n",
    "        )"
   ]
  },
  {
   "cell_type": "code",
   "execution_count": 30,
   "metadata": {},
   "outputs": [],
   "source": [
    "names = ['Pikachu', 'Squirtle', 'Articuno']\n",
    "legend_status = [False, False, True]\n",
    "generations = [1,1,1]\n",
    "poke_data_tuples = []\n",
    "for poke_tuple in zip(names, legend_status, generations):\n",
    "    poke_data_tuples.append(poke_tuple)\n",
    "poke_data = [*map(list, poke_data_tuples)]   # Holistic conversion"
   ]
  },
  {
   "attachments": {},
   "cell_type": "markdown",
   "metadata": {},
   "source": [
    "### Tricks\n",
    "- Use multiple assignments.\n",
    "- Do not use global variables if it is not necessary.\n",
    "- Concatenate strings with join.\n",
    "- Use generators.\n",
    "- Use 1 for inifinity loops\n",
    "- Use speed up applications\n",
    "- Use special libraries to process large datasets"
   ]
  },
  {
   "cell_type": "code",
   "execution_count": null,
   "metadata": {},
   "outputs": [],
   "source": [
    "# Use multiple assignments\n",
    "a, b, c, d = 2, 3, 5, 7\n"
   ]
  },
  {
   "cell_type": "code",
   "execution_count": null,
   "metadata": {},
   "outputs": [],
   "source": [
    "# Do not use global variables if it is not necessary\n"
   ]
  },
  {
   "cell_type": "code",
   "execution_count": null,
   "metadata": {},
   "outputs": [
    {
     "name": "stdout",
     "output_type": "stream",
     "text": [
      "Programming is fun\n"
     ]
    }
   ],
   "source": [
    "# Concatenate strings with join\n",
    "ConcatenatedString = \" \".join([\"Programming\", \"is\", \"fun\"])\n",
    "print(ConcatenatedString)\n"
   ]
  },
  {
   "cell_type": "code",
   "execution_count": null,
   "metadata": {},
   "outputs": [],
   "source": [
    "# Use generators, If you have a large amount of data in your list and you need to use one data at a time and for once then use generators. It will save you time.\n",
    "\n",
    "\"\"\"It is fairly simple to create a generator in Python. It is as easy as defining a normal function, but with a yield statement instead of a return statement.\n",
    "\n",
    "If a function contains at least one yield statement (it may contain other yield or return statements), it becomes a generator function. Both yield and return will return some value from a function.\n",
    "\n",
    "The difference is that while a return statement terminates a function entirely, yield statement pauses the function saving all its states and later continues from there on successive calls.\"\"\"\n",
    "\n",
    "# A simple generator function\n",
    "\n",
    "\n",
    "def my_gen():\n",
    "    n = 1\n",
    "    print('This is printed first')\n",
    "    # Generator function contains yield statements\n",
    "    yield n\n",
    "\n",
    "    n += 1\n",
    "    print('This is printed second')\n",
    "    yield n\n",
    "\n",
    "    n += 1\n",
    "    print('This is printed at last')\n",
    "    yield n\n"
   ]
  },
  {
   "cell_type": "code",
   "execution_count": null,
   "metadata": {},
   "outputs": [
    {
     "data": {
      "text/plain": [
       "<generator object my_gen at 0x7fd803368ac0>"
      ]
     },
     "execution_count": 51,
     "metadata": {},
     "output_type": "execute_result"
    }
   ],
   "source": [
    "# It returns an object but does not start execution immediately.\n",
    "a = my_gen()\n",
    "a\n"
   ]
  },
  {
   "cell_type": "code",
   "execution_count": null,
   "metadata": {},
   "outputs": [
    {
     "name": "stdout",
     "output_type": "stream",
     "text": [
      "This is printed first\n"
     ]
    },
    {
     "data": {
      "text/plain": [
       "1"
      ]
     },
     "execution_count": 52,
     "metadata": {},
     "output_type": "execute_result"
    }
   ],
   "source": [
    "# We can iterate through the items using next().\n",
    "next(a)\n"
   ]
  },
  {
   "cell_type": "code",
   "execution_count": null,
   "metadata": {},
   "outputs": [
    {
     "name": "stdout",
     "output_type": "stream",
     "text": [
      "This is printed second\n"
     ]
    },
    {
     "data": {
      "text/plain": [
       "2"
      ]
     },
     "execution_count": 53,
     "metadata": {},
     "output_type": "execute_result"
    }
   ],
   "source": [
    "# Once the function yields, the function is paused and control is transferred to the caller.\n",
    "# Local variables and their states are remembered between successive calls.\n",
    "next(a)\n"
   ]
  },
  {
   "cell_type": "code",
   "execution_count": null,
   "metadata": {},
   "outputs": [
    {
     "name": "stdout",
     "output_type": "stream",
     "text": [
      "This is printed at last\n"
     ]
    },
    {
     "data": {
      "text/plain": [
       "3"
      ]
     },
     "execution_count": 54,
     "metadata": {},
     "output_type": "execute_result"
    }
   ],
   "source": [
    "next(a)\n"
   ]
  },
  {
   "cell_type": "code",
   "execution_count": null,
   "metadata": {},
   "outputs": [
    {
     "ename": "StopIteration",
     "evalue": "",
     "output_type": "error",
     "traceback": [
      "\u001b[0;31m---------------------------------------------------------------------------\u001b[0m",
      "\u001b[0;31mStopIteration\u001b[0m                             Traceback (most recent call last)",
      "\u001b[0;32m<ipython-input-55-168be67de3d4>\u001b[0m in \u001b[0;36m<module>\u001b[0;34m\u001b[0m\n\u001b[1;32m      1\u001b[0m \u001b[0;31m# Finall, when the function terminates, StopIteration is raised automatically on further calls.\u001b[0m\u001b[0;34m\u001b[0m\u001b[0;34m\u001b[0m\u001b[0;34m\u001b[0m\u001b[0m\n\u001b[1;32m      2\u001b[0m \u001b[0;34m\u001b[0m\u001b[0m\n\u001b[0;32m----> 3\u001b[0;31m \u001b[0mnext\u001b[0m\u001b[0;34m(\u001b[0m\u001b[0ma\u001b[0m\u001b[0;34m)\u001b[0m\u001b[0;34m\u001b[0m\u001b[0;34m\u001b[0m\u001b[0m\n\u001b[0m",
      "\u001b[0;31mStopIteration\u001b[0m: "
     ]
    }
   ],
   "source": [
    "# Finall, when the function terminates, StopIteration is raised automatically on further calls.\n",
    "\n",
    "next(a)\n"
   ]
  },
  {
   "cell_type": "code",
   "execution_count": null,
   "metadata": {},
   "outputs": [
    {
     "data": {
      "text/plain": [
       "'One interesting thing to note in the above example is that the value of variable n is remembered between each call.\\n\\nUnlike normal functions, the local variables are not destroyed when the function yields. Furthermore, the generator object can be iterated only once.\\n\\nTo restart the process we need to create another generator object using something like a = my_gen().'"
      ]
     },
     "execution_count": 57,
     "metadata": {},
     "output_type": "execute_result"
    }
   ],
   "source": [
    "\"\"\"One interesting thing to note in the above example is that the value of variable n is remembered between each call.\n",
    "\n",
    "Unlike normal functions, the local variables are not destroyed when the function yields. Furthermore, the generator object can be iterated only once.\n",
    "\n",
    "To restart the process we need to create another generator object using something like a = my_gen().\"\"\"\n"
   ]
  },
  {
   "cell_type": "code",
   "execution_count": null,
   "metadata": {},
   "outputs": [
    {
     "name": "stdout",
     "output_type": "stream",
     "text": [
      "o\n",
      "l\n",
      "l\n",
      "e\n",
      "h\n"
     ]
    }
   ],
   "source": [
    "# Python Generators with a Loop\n",
    "# A for loop takes an iterator and iterates over it using next() function. It automatically ends when StopIteration is raised.\n",
    "def rev_str(my_str):\n",
    "    length = len(my_str)\n",
    "    for i in range(length - 1, -1, -1):\n",
    "        yield my_str[i]\n",
    "\n",
    "\n",
    "# For loop to reverse the string\n",
    "for char in rev_str(\"hello\"):\n",
    "    print(char)\n"
   ]
  },
  {
   "cell_type": "code",
   "execution_count": null,
   "metadata": {},
   "outputs": [
    {
     "name": "stdout",
     "output_type": "stream",
     "text": [
      "[1, 9, 36, 100]\n",
      "<generator object <genexpr> at 0x7fd803343890>\n"
     ]
    }
   ],
   "source": [
    "# The major difference between a list comprehension and a generator expression is that a list comprehension produces the entire list while the generator expression produces one item at a time.\n",
    "# Initialize the list\n",
    "my_list = [1, 3, 6, 10]\n",
    "\n",
    "# square each term using list comprehension\n",
    "list_ = [x**2 for x in my_list]\n",
    "\n",
    "# same thing can be done using a generator expression\n",
    "# generator expressions are surrounded by parenthesis ()\n",
    "generator = (x**2 for x in my_list)\n",
    "\n",
    "print(list_)\n",
    "print(generator)\n"
   ]
  },
  {
   "cell_type": "code",
   "execution_count": null,
   "metadata": {},
   "outputs": [
    {
     "name": "stdout",
     "output_type": "stream",
     "text": [
      "1\n",
      "3\n",
      "6\n",
      "10\n"
     ]
    }
   ],
   "source": [
    "for i in my_list:\n",
    "    print(i)\n"
   ]
  },
  {
   "cell_type": "code",
   "execution_count": null,
   "metadata": {},
   "outputs": [
    {
     "name": "stdout",
     "output_type": "stream",
     "text": [
      "1\n",
      "9\n",
      "36\n",
      "100\n"
     ]
    }
   ],
   "source": [
    "for i in (x**2 for x in my_list):\n",
    "    print(i)\n"
   ]
  },
  {
   "cell_type": "code",
   "execution_count": null,
   "metadata": {},
   "outputs": [
    {
     "name": "stdout",
     "output_type": "stream",
     "text": [
      "my_list: [1, 3, 6, 10] generator: []\n"
     ]
    }
   ],
   "source": [
    "print(\"my_list:\", my_list, \"generator:\", list(generator))\n"
   ]
  },
  {
   "cell_type": "code",
   "execution_count": null,
   "metadata": {},
   "outputs": [],
   "source": [
    "# Generators can be implemented in a clear and concise way as compared to their iterator class counterpart.\n",
    "# Following is an example to implement a sequence of power of 2 using an iterator class.\n",
    "class PowTwo:\n",
    "    def __init__(self, max=0):\n",
    "        self.n = 0\n",
    "        self.max = max\n",
    "\n",
    "    def __iter__(self):\n",
    "        return self\n",
    "\n",
    "    def __next__(self):\n",
    "        if self.n > self.max:\n",
    "            raise StopIteration\n",
    "\n",
    "        result = 2 ** self.n\n",
    "        self.n += 1\n",
    "        return result\n"
   ]
  },
  {
   "cell_type": "code",
   "execution_count": null,
   "metadata": {},
   "outputs": [],
   "source": [
    "# The above program was lengthy and confusing. Now, let's do the same using a generator function.\n",
    "def PowTwoGen(max=0):\n",
    "    n = 0\n",
    "    while n < max:\n",
    "        yield 2 ** n\n",
    "        n += 1\n"
   ]
  },
  {
   "cell_type": "code",
   "execution_count": null,
   "metadata": {},
   "outputs": [
    {
     "name": "stdout",
     "output_type": "stream",
     "text": [
      "[1, 2, 4, 8, 16, 32]\n"
     ]
    }
   ],
   "source": [
    "print(list(PowTwo(5)))\n"
   ]
  },
  {
   "cell_type": "code",
   "execution_count": null,
   "metadata": {},
   "outputs": [
    {
     "name": "stdout",
     "output_type": "stream",
     "text": [
      "[1, 2, 4, 8, 16]\n"
     ]
    }
   ],
   "source": [
    "print(list(PowTwoGen(5)))\n"
   ]
  },
  {
   "cell_type": "code",
   "execution_count": null,
   "metadata": {},
   "outputs": [
    {
     "data": {
      "text/plain": [
       "'A normal function to return a sequence will create the entire sequence in memory before returning the result. This is an overkill, if the number of items in the sequence is very large.\\n\\nGenerator implementation of such sequences is memory friendly and is preferred since it only produces one item at a time.'"
      ]
     },
     "execution_count": 99,
     "metadata": {},
     "output_type": "execute_result"
    }
   ],
   "source": [
    "\"\"\"A normal function to return a sequence will create the entire sequence in memory before returning the result. This is an overkill, if the number of items in the sequence is very large.\n",
    "\n",
    "Generator implementation of such sequences is memory friendly and is preferred since it only produces one item at a time.\"\"\"\n"
   ]
  },
  {
   "cell_type": "code",
   "execution_count": null,
   "metadata": {},
   "outputs": [],
   "source": [
    "# Represent Infinite Stream\n",
    "\"\"\"Generators are excellent mediums to represent an infinite stream of data. \n",
    "Infinite streams cannot be stored in memory, and since generators produce only one item at a time, they can represent an infinite stream of data.\"\"\"\n",
    "\n",
    "\n",
    "def all_even():\n",
    "    n = 0\n",
    "    while True:\n",
    "        yield n\n",
    "        n += 1\n"
   ]
  },
  {
   "cell_type": "code",
   "execution_count": null,
   "metadata": {},
   "outputs": [
    {
     "name": "stdout",
     "output_type": "stream",
     "text": [
      "4895\n"
     ]
    }
   ],
   "source": [
    "# Pipelining  Generators\n",
    "def fibonacci_numbers(nums):\n",
    "    x, y = 0, 1\n",
    "    for _ in range(nums):\n",
    "        x, y = y, x+y\n",
    "        yield x\n",
    "\n",
    "\n",
    "def square(nums):\n",
    "    for num in nums:\n",
    "        yield num**2\n",
    "\n",
    "\n",
    "print(sum(square(fibonacci_numbers(10))))\n"
   ]
  },
  {
   "cell_type": "code",
   "execution_count": null,
   "metadata": {},
   "outputs": [],
   "source": [
    "# Use 1 for inifinity loops. Use while 1 instead of while True. It will reduce some runtime.\n"
   ]
  },
  {
   "cell_type": "code",
   "execution_count": null,
   "metadata": {},
   "outputs": [],
   "source": [
    "# Use special libraries to process large datasets. C/C++ is faster than python.\n",
    "# So, many packages and modules have been written in C/C++ that you can use in your python programme.\n",
    "# Numpy, Scipy and Pandas are three of them and are popular for processing large datasets.\n"
   ]
  }
 ],
 "metadata": {
  "kernelspec": {
   "display_name": "base",
   "language": "python",
   "name": "python3"
  },
  "language_info": {
   "codemirror_mode": {
    "name": "ipython",
    "version": 3
   },
   "file_extension": ".py",
   "mimetype": "text/x-python",
   "name": "python",
   "nbconvert_exporter": "python",
   "pygments_lexer": "ipython3",
   "version": "3.9.12 (main, Apr  4 2022, 05:22:27) [MSC v.1916 64 bit (AMD64)]"
  },
  "orig_nbformat": 4,
  "vscode": {
   "interpreter": {
    "hash": "19d1d53a962d236aa061289c2ac16dc8e6d9648c89fe79f459ae9a3493bc67b4"
   }
  }
 },
 "nbformat": 4,
 "nbformat_minor": 2
}
