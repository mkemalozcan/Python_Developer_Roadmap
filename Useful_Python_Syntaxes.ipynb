{
 "cells": [
  {
   "cell_type": "markdown",
   "metadata": {},
   "source": [
    "## Contents\n",
    "- Some Basic Syntaxes\n",
    "- Python STL\n",
    "- Useful Methods\n",
    "- Advanced Python Syntaxes\n",
    "- Real-World Examples"
   ]
  },
  {
   "cell_type": "markdown",
   "metadata": {},
   "source": [
    "### Some Basic Syntaxes\n",
    "- Escape character\n",
    "- Variables in string\n",
    "- Unicode - decode string\n",
    "- random() module\n",
    "- Add and delete an element from list\n",
    "- Counting the words on text\n",
    "- Ternary operator\n",
    "- Type conversion\n",
    "- Bitwise operations\n",
    "- Argument lists\n",
    "- Keyword arguments\n",
    "- Generators\n",
    "- Decorators\n",
    "- Comprehensions"
   ]
  },
  {
   "cell_type": "code",
   "execution_count": 4,
   "metadata": {},
   "outputs": [
    {
     "name": "stdout",
     "output_type": "stream",
     "text": [
      "Kemal's repository\n",
      "Kemal's repository\n"
     ]
    }
   ],
   "source": [
    "# Escape character\n",
    "string_1 =\"Kemal's repository\"\n",
    "string_2 ='Kemal\\'s repository'\n",
    "print(string_1)\n",
    "print(string_2)"
   ]
  },
  {
   "cell_type": "code",
   "execution_count": 22,
   "metadata": {},
   "outputs": [
    {
     "name": "stdout",
     "output_type": "stream",
     "text": [
      "Today is September 3 and it's -15 degrees outside\n",
      "Today is September 3 and it's -15 degrees outside\n",
      "x is \"900000000\" \"000000008\n",
      "x is seven 000000008 900000000\n",
      "approximate value = 2.79\n",
      "3 a b\n"
     ]
    }
   ],
   "source": [
    "# Variables in string\n",
    "day = 3\n",
    "month = 'September'\n",
    "temp = -15\n",
    "\n",
    "print(f\"Today is {month} {day} and it's {temp} degrees outside\")\n",
    "print(\"Today is {} {} and it's {} degrees outside\".format(month,day,temp))\n",
    "\n",
    "x = '\"{1:<09}\" \"{0:>09}'.format(8,9)\n",
    "print('x is {}'.format(x))\n",
    "\n",
    "a = 8\n",
    "b = 9\n",
    "x = f'seven {a:>09} {b:<09}'\n",
    "print(f'x is {x}')\n",
    "\n",
    "value = 2.791514\n",
    "print(f'approximate value = {value:.2f}')\n",
    "\n",
    "text = (\"%d %s %s\" %(3,'a','b'))\n",
    "print(text)\n"
   ]
  },
  {
   "cell_type": "code",
   "execution_count": 20,
   "metadata": {},
   "outputs": [
    {
     "name": "stdout",
     "output_type": "stream",
     "text": [
      "b'A unicode \\xc6\\x8e string \\xc3\\xb1'\n"
     ]
    },
    {
     "data": {
      "text/plain": [
       "True"
      ]
     },
     "execution_count": 20,
     "metadata": {},
     "output_type": "execute_result"
    }
   ],
   "source": [
    "# Unicode - decode string\n",
    "ustring = 'A unicode \\u018e string \\xf1'\n",
    "b = ustring.encode('utf-8')\n",
    "print(b)\n",
    "t = b.decode('utf-8')\n",
    "t == ustring  "
   ]
  },
  {
   "cell_type": "code",
   "execution_count": 3,
   "metadata": {},
   "outputs": [
    {
     "name": "stdout",
     "output_type": "stream",
     "text": [
      "6\n",
      "0.8811853035983449\n"
     ]
    }
   ],
   "source": [
    "# random() module\n",
    "import random\n",
    "print(random.randint(1,10))\n",
    "print(random.random())"
   ]
  },
  {
   "cell_type": "code",
   "execution_count": 14,
   "metadata": {},
   "outputs": [
    {
     "name": "stdout",
     "output_type": "stream",
     "text": [
      "['Ali', 'Veli', 'Mehmet', 'Kemal', 'Ahmet']\n",
      "['Veli', 'Mehmet', 'Kemal', 'Ahmet']\n",
      "['Mehmet', 'Kemal', 'Ahmet']\n"
     ]
    }
   ],
   "source": [
    "# Add and delete an element from list\n",
    "l = [\"Ali\",\"Veli\",\"Kemal\"]\n",
    "l.append(\"Ahmet\")\n",
    "l.insert(2,\"Mehmet\")\n",
    "print(l)\n",
    "del(l[0])\n",
    "print(l)\n",
    "l.remove(\"Veli\")\n",
    "print(l)"
   ]
  },
  {
   "cell_type": "code",
   "execution_count": 16,
   "metadata": {},
   "outputs": [
    {
     "name": "stdout",
     "output_type": "stream",
     "text": [
      "['a', 'b', 'c', 'a', 'A', 'b']\n",
      "{'a': 3, 'b': 2, 'c': 1}\n"
     ]
    }
   ],
   "source": [
    "# Counting the words on text\n",
    "text = \"\"\"\n",
    "        a b c a A b\n",
    "       \"\"\"\n",
    "print(text.split())\n",
    "\n",
    "word_count = {}\n",
    "\n",
    "for word in text.lower().split():\n",
    "    if word in word_count:\n",
    "        word_count[word] += 1\n",
    "    else:\n",
    "        word_count[word] = 1\n",
    "\n",
    "print(word_count)"
   ]
  },
  {
   "cell_type": "code",
   "execution_count": 25,
   "metadata": {},
   "outputs": [
    {
     "name": "stdout",
     "output_type": "stream",
     "text": [
      "Feed the bear now!\n",
      "10\n"
     ]
    }
   ],
   "source": [
    "# Ternary operator\n",
    "hungry = True\n",
    "x = \"Feed the bear now!\" if hungry else \"Do not feed the bear.\"\n",
    "print(x)\n",
    "\n",
    "a, b = 10, 20\n",
    "min = a < b and a or b  # it doesnt' work if a is 0.\n",
    "print(min)"
   ]
  },
  {
   "cell_type": "code",
   "execution_count": 36,
   "metadata": {},
   "outputs": [
    {
     "name": "stdout",
     "output_type": "stream",
     "text": [
      "10\n",
      "20\n",
      "Hex x:0a\n",
      "Hex y:02\n",
      "Binary x:1010\n",
      "Binary y:10\n"
     ]
    }
   ],
   "source": [
    "# Type conversion\n",
    "x = 0x0a\n",
    "y = 0x02\n",
    "print(a)\n",
    "print(b)\n",
    "print(f'Hex x:{x:02x}')\n",
    "print(f'Hex y:{y:02x}')\n",
    "print(f'Binary x:{x:02b}')\n",
    "print(f'Binary y:{y:02b}')"
   ]
  },
  {
   "cell_type": "code",
   "execution_count": 39,
   "metadata": {},
   "outputs": [
    {
     "name": "stdout",
     "output_type": "stream",
     "text": [
      "(hex)  x is 0a, y is  01, z is 05\n",
      "(bin)  x is 00001010, y is  00000001, z is 00000101\n"
     ]
    }
   ],
   "source": [
    "# Bitwise operations\n",
    "x = 0x0a\n",
    "y = 0x01\n",
    "z = x >> y\n",
    "\n",
    "print (f'(hex)  x is {x:02x}, y is  {y:02x}, z is {z:02x}')\n",
    "print (f'(bin)  x is {x:08b}, y is  {y:08b}, z is {z:08b}')"
   ]
  },
  {
   "cell_type": "code",
   "execution_count": 49,
   "metadata": {},
   "outputs": [
    {
     "name": "stdout",
     "output_type": "stream",
     "text": [
      "<class 'tuple'>\n",
      "Meow\n",
      "grr\n",
      "purr\n",
      "-------\n",
      "<class 'tuple'>\n",
      "('Meow', 'grr', 'purr')\n"
     ]
    }
   ],
   "source": [
    "# Argument lists\n",
    "def main():\n",
    "        x= ('Meow','grr','purr')\n",
    "        kitten(*x)\n",
    "        print('-------')\n",
    "        kitten(x)\n",
    "\n",
    "def kitten(*args):\n",
    "    if len(args):\n",
    "        print(type(args))\n",
    "        for s in args:\n",
    "            print(s)\n",
    "    else: print('Meow.')\n",
    "\n",
    "if __name__ == '__main__': main()"
   ]
  },
  {
   "cell_type": "code",
   "execution_count": 52,
   "metadata": {},
   "outputs": [
    {
     "name": "stdout",
     "output_type": "stream",
     "text": [
      "<class 'dict'>\n",
      "Kitten Buffy says meow\n",
      "Kitten Zilla says grr\n",
      "Kitten Tekir says rawr\n",
      "-------\n",
      "<class 'dict'>\n",
      "Kitten Buffy says meow\n",
      "Kitten Zilla says grr\n",
      "Kitten Tekir says rawr\n"
     ]
    }
   ],
   "source": [
    "# Keyword arguments\n",
    "def main():\n",
    "    x = dict(Buffy = 'meow', Zilla = 'grr', Tekir = 'rawr')\n",
    "    kitten(Buffy = 'meow', Zilla = 'grr', Tekir = 'rawr')\n",
    "    print('-------')\n",
    "    kitten(**x)\n",
    "\n",
    "def kitten(**kwargs):\n",
    "    if len(kwargs):\n",
    "        print(type(kwargs))\n",
    "        for k in kwargs:\n",
    "            print('Kitten {} says {}'.format(k, kwargs[k]))\n",
    "    else: print('Meow.')\n",
    "\n",
    "if __name__ == '__main__': main()"
   ]
  },
  {
   "cell_type": "code",
   "execution_count": 55,
   "metadata": {},
   "outputs": [
    {
     "name": "stdout",
     "output_type": "stream",
     "text": [
      "0 5 10 15 20 25 "
     ]
    }
   ],
   "source": [
    "# Genarators\n",
    "def inclusive_range(*args):\n",
    "    numargs = len(args)\n",
    "    start = 0\n",
    "    step = 1\n",
    "\n",
    "    # initialize parameters\n",
    "    if numargs < 1:\n",
    "        raise TypeError(f'expected at least 1 arguments, got {numargs}')\n",
    "    elif numargs == 1:\n",
    "        stop = args[0]\n",
    "    elif numargs == 2:\n",
    "        (start, stop) = args\n",
    "    elif numargs == 3:\n",
    "        (start, stop, step) = args\n",
    "    else: raise TypeError(f'expected at most 3 arguments, got {numargs}')\n",
    "\n",
    "    # generator\n",
    "    i = start\n",
    "    while i <= stop:\n",
    "        yield i\n",
    "        i+=step\n",
    "\n",
    "def main():\n",
    "    for i in inclusive_range(0, 25, 5):\n",
    "        print(i, end = ' ')\n",
    "\n",
    "if __name__ == '__main__': main()\n",
    "\n"
   ]
  },
  {
   "cell_type": "code",
   "execution_count": 59,
   "metadata": {},
   "outputs": [
    {
     "name": "stdout",
     "output_type": "stream",
     "text": [
      "HELLO\n",
      "HELLO\n"
     ]
    }
   ],
   "source": [
    "# Decorators   _1_\n",
    "\"\"\" Functions can be treated as objects \"\"\"\n",
    "def shout(text):\n",
    "    return text.upper()\n",
    "\n",
    "print(shout('Hello'))\n",
    "\n",
    "yell = shout\n",
    "\n",
    "print(yell('Hello'))"
   ]
  },
  {
   "cell_type": "code",
   "execution_count": 62,
   "metadata": {},
   "outputs": [
    {
     "name": "stdout",
     "output_type": "stream",
     "text": [
      "HI, I AM CREATED BY A FUNCTION PASSED AS AN ARGUMENT\n",
      "hi, i am created by a function passed as an argument\n"
     ]
    }
   ],
   "source": [
    "# Decorators   _2_\n",
    "\"\"\" Functions can be passed as arguments to other functions \"\"\"\n",
    "def whisper(text):\n",
    "    return text.lower()\n",
    "\n",
    "def greet(func):\n",
    "    greeting = func('Hi, I am created by a function passed as an argument')\n",
    "    return greeting\n",
    "\n",
    "print(greet(shout))\n",
    "print(greet(whisper))"
   ]
  },
  {
   "cell_type": "code",
   "execution_count": 63,
   "metadata": {},
   "outputs": [
    {
     "name": "stdout",
     "output_type": "stream",
     "text": [
      "25\n"
     ]
    }
   ],
   "source": [
    "# Decorators   _3_\n",
    "\"\"\" Functions can return another function \"\"\"\n",
    "def create_adder(x):\n",
    "    def adder(y):\n",
    "        return x + y\n",
    "    \n",
    "    return adder\n",
    "\n",
    "add_15 = create_adder(15)\n",
    "\n",
    "print(add_15(10))"
   ]
  },
  {
   "cell_type": "code",
   "execution_count": 64,
   "metadata": {},
   "outputs": [
    {
     "name": "stdout",
     "output_type": "stream",
     "text": [
      "Hello, this is before function execution\n",
      "This is inside the function !!\n",
      "This is after function execution\n"
     ]
    }
   ],
   "source": [
    "# Decorators   _4_\n",
    "def hello_decorator(func):\n",
    "\n",
    "    def inner1():\n",
    "        print(\"Hello, this is before function execution\")\n",
    "\n",
    "        func()\n",
    "\n",
    "        print(\"This is after function execution\")\n",
    "    \n",
    "    return inner1\n",
    "\n",
    "def function_to_be_used():\n",
    "    print(\"This is inside the function !!\")\n",
    "\n",
    "function_to_be_used = hello_decorator(function_to_be_used)\n",
    "\n",
    "function_to_be_used()"
   ]
  },
  {
   "cell_type": "code",
   "execution_count": 87,
   "metadata": {},
   "outputs": [
    {
     "name": "stdout",
     "output_type": "stream",
     "text": [
      "3628800\n",
      "Total time taken in : factorial 2.0032811164855957\n"
     ]
    }
   ],
   "source": [
    "# Decorators   _5_\n",
    "import time\n",
    "import math\n",
    "\n",
    "def calculate_time(func):\n",
    "    def inner1(*args, **kwargs): # wrapper function\n",
    "        \n",
    "        begin = time.time()\n",
    "        \n",
    "        func(*args, **kwargs)\n",
    "        \n",
    "        end = time.time()\n",
    "        print(\"Total time taken in :\", func.__name__, end - begin)\n",
    "    \n",
    "    return inner1\n",
    "\n",
    "@calculate_time # factorial = calculate_time(factorial)\n",
    "def factorial(num):\n",
    "    time.sleep(2)\n",
    "    print(math.factorial(num))\n",
    "\n",
    "factorial(10)"
   ]
  },
  {
   "cell_type": "code",
   "execution_count": 88,
   "metadata": {},
   "outputs": [
    {
     "name": "stdout",
     "output_type": "stream",
     "text": [
      "before Execution\n",
      "Inside the function\n",
      "after Execution\n",
      "Sum = 3\n"
     ]
    }
   ],
   "source": [
    "# Decorators   _6_\n",
    "\"What if a function returns something or an argument is passed to the function?\"\n",
    "def hello_decorator(func):\n",
    "    def inner1(*args, **kwargs):\n",
    "\n",
    "        print(\"before Execution\")\n",
    "\n",
    "        returned_value = func(*args,**kwargs)\n",
    "\n",
    "        print(\"after Execution\")\n",
    "\n",
    "        return returned_value\n",
    "    \n",
    "    return inner1\n",
    "\n",
    "@hello_decorator\n",
    "def sum_two_numbers(a, b):\n",
    "    print(\"Inside the function\")\n",
    "    return a + b\n",
    "\n",
    "a, b = 1, 2\n",
    "\n",
    "print(\"Sum =\", sum_two_numbers(a,b))"
   ]
  },
  {
   "cell_type": "code",
   "execution_count": 92,
   "metadata": {},
   "outputs": [
    {
     "name": "stdout",
     "output_type": "stream",
     "text": [
      "400\n"
     ]
    }
   ],
   "source": [
    "# Decorators    _7_\n",
    "def decor1(func):\n",
    "    def inner1():\n",
    "        x = func()\n",
    "        return x*x\n",
    "    return inner1\n",
    "\n",
    "def decor(func):\n",
    "    def inner():\n",
    "        x = func()\n",
    "        return 2*x\n",
    "    return inner\n",
    "\n",
    "@decor1\n",
    "@decor\n",
    "def num():\n",
    "    return 10\n",
    "\n",
    "print(num())"
   ]
  },
  {
   "cell_type": "code",
   "execution_count": 104,
   "metadata": {},
   "outputs": [
    {
     "name": "stdout",
     "output_type": "stream",
     "text": [
      "0 1 2 3 4 5 6 7 8 9 10 \n",
      "1 2 4 5 7 8 10 \n",
      "(0, 0) (1, 1) (2, 4) (3, 9) (4, 16) (5, 25) (6, 36) (7, 49) (8, 64) (9, 81) (10, 100) \n",
      "3.0 3.1 3.14 3.142 3.1416 3.14159 3.141593 3.1415927 3.14159265 3.141592654 3.1415926536 \n",
      "{0: 0, 1: 1, 2: 4, 3: 9, 4: 16, 5: 25, 6: 36, 7: 49, 8: 64, 9: 81, 10: 100}\n"
     ]
    }
   ],
   "source": [
    "# Comprehensions           \n",
    "def main():\n",
    "    seq = range(11)\n",
    "    seq2 =  [x for x in seq if x % 3 != 0]\n",
    "    seq3 = [(x, x**2) for x in seq] \n",
    "    from math import pi\n",
    "    seq4 = [round(pi, i) for i in seq]\n",
    "    seq5 = {x: x**2 for x in seq}\n",
    "    \n",
    "    print_list(seq)\n",
    "    print_list(seq2)\n",
    "    print_list(seq3)\n",
    "    print_list(seq4)\n",
    "    print(seq5)\n",
    "\n",
    "def print_list(o):\n",
    "    for x in o: print(x, end = ' ')\n",
    "    print()\n",
    "\n",
    "if __name__ == '__main__': main()"
   ]
  },
  {
   "cell_type": "code",
   "execution_count": 141,
   "metadata": {},
   "outputs": [
    {
     "name": "stdout",
     "output_type": "stream",
     "text": [
      "The 0 line.\n",
      "The 1 line.\n",
      "The 2 line.\n",
      "The 3 line.\n",
      "The 4 line.\n",
      "The 5 line.\n",
      "The 6 line.\n",
      "The 7 line.\n",
      "The 8 line.\n",
      "The 9 line.\n"
     ]
    }
   ],
   "source": [
    "# File operations      _1_\n",
    "def create_text():\n",
    "    with open('lines.txt', 'wt') as f:\n",
    "        for i in range(10):\n",
    "            f.write(f'The {i} line.')\n",
    "            f.write('\\n')\n",
    "        f.close()\n",
    "\n",
    "def main():\n",
    "    create_text()\n",
    "    f = open('lines.txt', 'rt')\n",
    "    for line in f:\n",
    "        print(line.rstrip())\n",
    "        \n",
    "if __name__ == '__main__': main()"
   ]
  },
  {
   "cell_type": "code",
   "execution_count": 143,
   "metadata": {},
   "outputs": [
    {
     "name": "stdout",
     "output_type": "stream",
     "text": [
      "...........\n",
      "done.\n"
     ]
    }
   ],
   "source": [
    "# File operations    _2_\n",
    "def main():\n",
    "    infile = open('cat.jpg', 'rb')\n",
    "    outfile = open('cat_copy.jpg', 'wb')\n",
    "    while True:\n",
    "        buf = infile.read(10240)\n",
    "        if buf:\n",
    "            outfile.write(buf)\n",
    "            print('.', end='', flush=True)\n",
    "        else: break\n",
    "    outfile.close()\n",
    "    print('\\ndone.')\n",
    "\n",
    "if __name__ == '__main__': main()"
   ]
  },
  {
   "cell_type": "code",
   "execution_count": null,
   "metadata": {},
   "outputs": [],
   "source": []
  },
  {
   "cell_type": "code",
   "execution_count": null,
   "metadata": {},
   "outputs": [],
   "source": []
  },
  {
   "cell_type": "code",
   "execution_count": null,
   "metadata": {},
   "outputs": [],
   "source": []
  }
 ],
 "metadata": {
  "kernelspec": {
   "display_name": "Python 3.7.4 ('base')",
   "language": "python",
   "name": "python3"
  },
  "language_info": {
   "codemirror_mode": {
    "name": "ipython",
    "version": 3
   },
   "file_extension": ".py",
   "mimetype": "text/x-python",
   "name": "python",
   "nbconvert_exporter": "python",
   "pygments_lexer": "ipython3",
   "version": "3.7.4"
  },
  "orig_nbformat": 4,
  "vscode": {
   "interpreter": {
    "hash": "c110e616a8f73405e0ee81438816d379362374c85663995d8e3818cdc5bb9400"
   }
  }
 },
 "nbformat": 4,
 "nbformat_minor": 2
}
