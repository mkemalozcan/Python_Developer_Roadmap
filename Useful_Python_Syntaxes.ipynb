{
 "cells": [
  {
   "cell_type": "markdown",
   "metadata": {},
   "source": [
    "### Some Basic Syntaxes\n",
    "- Escape character\n",
    "- Variables in string\n",
    "- Unicode - decode string\n",
    "- random() module\n",
    "- Add and delete an element from list\n",
    "- Counting the words on text"
   ]
  },
  {
   "cell_type": "code",
   "execution_count": 4,
   "metadata": {},
   "outputs": [
    {
     "name": "stdout",
     "output_type": "stream",
     "text": [
      "Kemal's repository\n",
      "Kemal's repository\n"
     ]
    }
   ],
   "source": [
    "# Escape character\n",
    "string_1 =\"Kemal's repository\"\n",
    "string_2 ='Kemal\\'s repository'\n",
    "print(string_1)\n",
    "print(string_2)"
   ]
  },
  {
   "cell_type": "code",
   "execution_count": 18,
   "metadata": {},
   "outputs": [
    {
     "name": "stdout",
     "output_type": "stream",
     "text": [
      "Today is September 3 and it's -15 degrees outside\n",
      "Today is September 3 and it's -15 degrees outside\n",
      "x is \"900000000\" \"000000008\n",
      "approximate value = 2.79\n",
      "3 a b\n"
     ]
    }
   ],
   "source": [
    "# Variables in string\n",
    "day = 3\n",
    "month = 'September'\n",
    "temp = -15\n",
    "\n",
    "print(f\"Today is {month} {day} and it's {temp} degrees outside\")\n",
    "print(\"Today is {} {} and it's {} degrees outside\".format(month,day,temp))\n",
    "\n",
    "x = '\"{1:<09}\" \"{0:>09}'.format(8,9)\n",
    "print('x is {}'.format(x))\n",
    "\n",
    "value = 2.791514\n",
    "print(f'approximate value = {value:.2f}')\n",
    "\n",
    "text = (\"%d %s %s\" %(3,'a','b'))\n",
    "print(text)\n"
   ]
  },
  {
   "cell_type": "code",
   "execution_count": 20,
   "metadata": {},
   "outputs": [
    {
     "name": "stdout",
     "output_type": "stream",
     "text": [
      "b'A unicode \\xc6\\x8e string \\xc3\\xb1'\n"
     ]
    },
    {
     "data": {
      "text/plain": [
       "True"
      ]
     },
     "execution_count": 20,
     "metadata": {},
     "output_type": "execute_result"
    }
   ],
   "source": [
    "# Unicode - decode string\n",
    "ustring = 'A unicode \\u018e string \\xf1'\n",
    "b = ustring.encode('utf-8')\n",
    "print(b)\n",
    "t = b.decode('utf-8')\n",
    "t == ustring  "
   ]
  },
  {
   "cell_type": "code",
   "execution_count": 3,
   "metadata": {},
   "outputs": [
    {
     "name": "stdout",
     "output_type": "stream",
     "text": [
      "6\n",
      "0.8811853035983449\n"
     ]
    }
   ],
   "source": [
    "# random() module\n",
    "import random\n",
    "print(random.randint(1,10))\n",
    "print(random.random())"
   ]
  },
  {
   "cell_type": "code",
   "execution_count": 14,
   "metadata": {},
   "outputs": [
    {
     "name": "stdout",
     "output_type": "stream",
     "text": [
      "['Ali', 'Veli', 'Mehmet', 'Kemal', 'Ahmet']\n",
      "['Veli', 'Mehmet', 'Kemal', 'Ahmet']\n",
      "['Mehmet', 'Kemal', 'Ahmet']\n"
     ]
    }
   ],
   "source": [
    "# Add and delete an element from list\n",
    "l = [\"Ali\",\"Veli\",\"Kemal\"]\n",
    "l.append(\"Ahmet\")\n",
    "l.insert(2,\"Mehmet\")\n",
    "print(l)\n",
    "del(l[0])\n",
    "print(l)\n",
    "l.remove(\"Veli\")\n",
    "print(l)"
   ]
  },
  {
   "cell_type": "code",
   "execution_count": 16,
   "metadata": {},
   "outputs": [
    {
     "name": "stdout",
     "output_type": "stream",
     "text": [
      "['a', 'b', 'c', 'a', 'A', 'b']\n",
      "{'a': 3, 'b': 2, 'c': 1}\n"
     ]
    }
   ],
   "source": [
    "# Counting the words on text\n",
    "text = \"\"\"\n",
    "        a b c a A b\n",
    "       \"\"\"\n",
    "print(text.split())\n",
    "\n",
    "word_count = {}\n",
    "\n",
    "for word in text.lower().split():\n",
    "    if word in word_count:\n",
    "        word_count[word] += 1\n",
    "    else:\n",
    "        word_count[word] = 1\n",
    "\n",
    "print(word_count)"
   ]
  },
  {
   "cell_type": "code",
   "execution_count": null,
   "metadata": {},
   "outputs": [],
   "source": []
  },
  {
   "cell_type": "code",
   "execution_count": null,
   "metadata": {},
   "outputs": [],
   "source": []
  }
 ],
 "metadata": {
  "kernelspec": {
   "display_name": "Python 3.7.4 ('base')",
   "language": "python",
   "name": "python3"
  },
  "language_info": {
   "codemirror_mode": {
    "name": "ipython",
    "version": 3
   },
   "file_extension": ".py",
   "mimetype": "text/x-python",
   "name": "python",
   "nbconvert_exporter": "python",
   "pygments_lexer": "ipython3",
   "version": "3.7.4"
  },
  "orig_nbformat": 4,
  "vscode": {
   "interpreter": {
    "hash": "c110e616a8f73405e0ee81438816d379362374c85663995d8e3818cdc5bb9400"
   }
  }
 },
 "nbformat": 4,
 "nbformat_minor": 2
}
