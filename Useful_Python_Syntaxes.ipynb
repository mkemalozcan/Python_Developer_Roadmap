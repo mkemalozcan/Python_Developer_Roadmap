{
 "cells": [
  {
   "cell_type": "markdown",
   "metadata": {},
   "source": [
    "## Contents\n",
    "- Some Basic Syntaxes\n",
    "- Python STL\n",
    "- Useful Methods\n",
    "- Advanced Python Syntaxes\n",
    "- Real-World Examples"
   ]
  },
  {
   "cell_type": "markdown",
   "metadata": {},
   "source": [
    "### Some Basic Syntaxes\n",
    "- Escape character\n",
    "- Variables in string\n",
    "- Unicode - decode string\n",
    "- random() module\n",
    "- Add and delete an element from list\n",
    "- Counting the words on text\n",
    "- Ternary operator\n",
    "- Type conversion\n",
    "- Bitwise operations\n",
    "- Argument lists\n",
    "- Keyword arguments\n",
    "- Generators\n",
    "- Decorators\n",
    "- Comprehensions"
   ]
  },
  {
   "cell_type": "code",
   "execution_count": 1,
   "metadata": {},
   "outputs": [
    {
     "name": "stdout",
     "output_type": "stream",
     "text": [
      "Kemal's repository\n",
      "Kemal's repository\n"
     ]
    }
   ],
   "source": [
    "# Escape character\n",
    "string_1 =\"Kemal's repository\"\n",
    "string_2 ='Kemal\\'s repository'\n",
    "print(string_1)\n",
    "print(string_2)"
   ]
  },
  {
   "cell_type": "code",
   "execution_count": 2,
   "metadata": {},
   "outputs": [
    {
     "name": "stdout",
     "output_type": "stream",
     "text": [
      "Today is September 3 and it's -15 degrees outside\n",
      "Today is September 3 and it's -15 degrees outside\n",
      "x is \"900000000\" \"000000008\n",
      "x is seven 000000008 900000000\n",
      "approximate value = 2.79\n",
      "3 a b\n"
     ]
    }
   ],
   "source": [
    "# Variables in string\n",
    "day = 3\n",
    "month = 'September'\n",
    "temp = -15\n",
    "\n",
    "print(f\"Today is {month} {day} and it's {temp} degrees outside\")\n",
    "print(\"Today is {} {} and it's {} degrees outside\".format(month,day,temp))\n",
    "\n",
    "x = '\"{1:<09}\" \"{0:>09}'.format(8,9)\n",
    "print('x is {}'.format(x))\n",
    "\n",
    "a = 8\n",
    "b = 9\n",
    "x = f'seven {a:>09} {b:<09}'\n",
    "print(f'x is {x}')\n",
    "\n",
    "value = 2.791514\n",
    "print(f'approximate value = {value:.2f}')\n",
    "\n",
    "text = (\"%d %s %s\" %(3,'a','b'))\n",
    "print(text)\n"
   ]
  },
  {
   "cell_type": "code",
   "execution_count": 3,
   "metadata": {},
   "outputs": [
    {
     "name": "stdout",
     "output_type": "stream",
     "text": [
      "b'A unicode \\xc6\\x8e string \\xc3\\xb1'\n"
     ]
    },
    {
     "data": {
      "text/plain": [
       "True"
      ]
     },
     "execution_count": 3,
     "metadata": {},
     "output_type": "execute_result"
    }
   ],
   "source": [
    "# Unicode - decode string\n",
    "ustring = 'A unicode \\u018e string \\xf1'\n",
    "b = ustring.encode('utf-8')\n",
    "print(b)\n",
    "t = b.decode('utf-8')\n",
    "t == ustring  "
   ]
  },
  {
   "cell_type": "code",
   "execution_count": 4,
   "metadata": {},
   "outputs": [
    {
     "name": "stdout",
     "output_type": "stream",
     "text": [
      "1\n",
      "0.4561306616051696\n",
      "Ace\n",
      "['Ace', 'King', 'Queen', 'Jack']\n"
     ]
    }
   ],
   "source": [
    "# random() module\n",
    "import random\n",
    "print(random.randint(1,10))\n",
    "print(random.random())\n",
    "print(random.choice([\"Jack\", \"Queen\", \"King\", \"Ace\"]))\n",
    "card = [\"Jack\", \"Queen\", \"King\", \"Ace\"]\n",
    "random.shuffle(card)\n",
    "print(card)"
   ]
  },
  {
   "cell_type": "code",
   "execution_count": 5,
   "metadata": {},
   "outputs": [
    {
     "name": "stdout",
     "output_type": "stream",
     "text": [
      "['Ali', 'Veli', 'Mehmet', 'Kemal', 'Ahmet']\n",
      "['Veli', 'Mehmet', 'Kemal', 'Ahmet']\n",
      "['Mehmet', 'Kemal', 'Ahmet']\n"
     ]
    }
   ],
   "source": [
    "# Add and delete an element from list\n",
    "l = [\"Ali\",\"Veli\",\"Kemal\"]\n",
    "l.append(\"Ahmet\")\n",
    "l.insert(2,\"Mehmet\")\n",
    "print(l)\n",
    "del(l[0])\n",
    "print(l)\n",
    "l.remove(\"Veli\")\n",
    "print(l)"
   ]
  },
  {
   "cell_type": "code",
   "execution_count": 6,
   "metadata": {},
   "outputs": [
    {
     "name": "stdout",
     "output_type": "stream",
     "text": [
      "['a', 'b', 'c', 'a', 'A', 'b']\n",
      "{'a': 3, 'b': 2, 'c': 1}\n"
     ]
    }
   ],
   "source": [
    "# Counting the words on text\n",
    "text = \"\"\"\n",
    "        a b c a A b\n",
    "       \"\"\"\n",
    "print(text.split())\n",
    "\n",
    "word_count = {}\n",
    "\n",
    "for word in text.lower().split():\n",
    "    if word in word_count:\n",
    "        word_count[word] += 1\n",
    "    else:\n",
    "        word_count[word] = 1\n",
    "\n",
    "print(word_count)"
   ]
  },
  {
   "cell_type": "code",
   "execution_count": 7,
   "metadata": {},
   "outputs": [
    {
     "name": "stdout",
     "output_type": "stream",
     "text": [
      "Feed the bear now!\n",
      "10\n"
     ]
    }
   ],
   "source": [
    "# Ternary operator\n",
    "hungry = True\n",
    "x = \"Feed the bear now!\" if hungry else \"Do not feed the bear.\"\n",
    "print(x)\n",
    "\n",
    "a, b = 10, 20\n",
    "min = a < b and a or b  # it doesnt' work if a is 0.\n",
    "print(min)"
   ]
  },
  {
   "cell_type": "code",
   "execution_count": 8,
   "metadata": {},
   "outputs": [
    {
     "name": "stdout",
     "output_type": "stream",
     "text": [
      "10\n",
      "20\n",
      "Hex x:0a\n",
      "Hex y:02\n",
      "Binary x:1010\n",
      "Binary y:10\n"
     ]
    }
   ],
   "source": [
    "# Type conversion\n",
    "x = 0x0a\n",
    "y = 0x02\n",
    "print(a)\n",
    "print(b)\n",
    "print(f'Hex x:{x:02x}')\n",
    "print(f'Hex y:{y:02x}')\n",
    "print(f'Binary x:{x:02b}')\n",
    "print(f'Binary y:{y:02b}')"
   ]
  },
  {
   "cell_type": "code",
   "execution_count": 9,
   "metadata": {},
   "outputs": [
    {
     "name": "stdout",
     "output_type": "stream",
     "text": [
      "(hex)  x is 0a, y is  01, z is 05\n",
      "(bin)  x is 00001010, y is  00000001, z is 00000101\n"
     ]
    }
   ],
   "source": [
    "# Bitwise operations\n",
    "x = 0x0a\n",
    "y = 0x01\n",
    "z = x >> y\n",
    "\n",
    "print (f'(hex)  x is {x:02x}, y is  {y:02x}, z is {z:02x}')\n",
    "print (f'(bin)  x is {x:08b}, y is  {y:08b}, z is {z:08b}')"
   ]
  },
  {
   "cell_type": "code",
   "execution_count": 10,
   "metadata": {},
   "outputs": [
    {
     "name": "stdout",
     "output_type": "stream",
     "text": [
      "<class 'tuple'>\n",
      "Meow\n",
      "grr\n",
      "purr\n",
      "-------\n",
      "<class 'tuple'>\n",
      "('Meow', 'grr', 'purr')\n"
     ]
    }
   ],
   "source": [
    "# Argument lists\n",
    "def main():\n",
    "        x= ('Meow','grr','purr')\n",
    "        kitten(*x)\n",
    "        print('-------')\n",
    "        kitten(x)\n",
    "\n",
    "def kitten(*args):\n",
    "    if len(args):\n",
    "        print(type(args))\n",
    "        for s in args:\n",
    "            print(s)\n",
    "    else: print('Meow.')\n",
    "\n",
    "if __name__ == '__main__': main()"
   ]
  },
  {
   "cell_type": "code",
   "execution_count": 11,
   "metadata": {},
   "outputs": [
    {
     "name": "stdout",
     "output_type": "stream",
     "text": [
      "<class 'dict'>\n",
      "Kitten Buffy says meow\n",
      "Kitten Zilla says grr\n",
      "Kitten Tekir says rawr\n",
      "-------\n",
      "<class 'dict'>\n",
      "Kitten Buffy says meow\n",
      "Kitten Zilla says grr\n",
      "Kitten Tekir says rawr\n"
     ]
    }
   ],
   "source": [
    "# Keyword arguments\n",
    "def main():\n",
    "    x = dict(Buffy = 'meow', Zilla = 'grr', Tekir = 'rawr')\n",
    "    kitten(Buffy = 'meow', Zilla = 'grr', Tekir = 'rawr')\n",
    "    print('-------')\n",
    "    kitten(**x)\n",
    "\n",
    "def kitten(**kwargs):\n",
    "    if len(kwargs):\n",
    "        print(type(kwargs))\n",
    "        for k in kwargs:\n",
    "            print('Kitten {} says {}'.format(k, kwargs[k]))\n",
    "    else: print('Meow.')\n",
    "\n",
    "if __name__ == '__main__': main()"
   ]
  },
  {
   "cell_type": "code",
   "execution_count": 12,
   "metadata": {},
   "outputs": [
    {
     "name": "stdout",
     "output_type": "stream",
     "text": [
      "0 5 10 15 20 25 "
     ]
    }
   ],
   "source": [
    "# Genarators\n",
    "def inclusive_range(*args):\n",
    "    numargs = len(args)\n",
    "    start = 0\n",
    "    step = 1\n",
    "\n",
    "    # initialize parameters\n",
    "    if numargs < 1:\n",
    "        raise TypeError(f'expected at least 1 arguments, got {numargs}')\n",
    "    elif numargs == 1:\n",
    "        stop = args[0]\n",
    "    elif numargs == 2:\n",
    "        (start, stop) = args\n",
    "    elif numargs == 3:\n",
    "        (start, stop, step) = args\n",
    "    else: raise TypeError(f'expected at most 3 arguments, got {numargs}')\n",
    "\n",
    "    # generator\n",
    "    i = start\n",
    "    while i <= stop:\n",
    "        yield i\n",
    "        i+=step\n",
    "\n",
    "def main():\n",
    "    for i in inclusive_range(0, 25, 5):\n",
    "        print(i, end = ' ')\n",
    "\n",
    "if __name__ == '__main__': main()\n",
    "\n"
   ]
  },
  {
   "cell_type": "code",
   "execution_count": 13,
   "metadata": {},
   "outputs": [
    {
     "name": "stdout",
     "output_type": "stream",
     "text": [
      "HELLO\n",
      "HELLO\n"
     ]
    }
   ],
   "source": [
    "# Decorators   _1_\n",
    "\"\"\" Functions can be treated as objects \"\"\"\n",
    "def shout(text):\n",
    "    return text.upper()\n",
    "\n",
    "print(shout('Hello'))\n",
    "\n",
    "yell = shout\n",
    "\n",
    "print(yell('Hello'))"
   ]
  },
  {
   "cell_type": "code",
   "execution_count": 14,
   "metadata": {},
   "outputs": [
    {
     "name": "stdout",
     "output_type": "stream",
     "text": [
      "HI, I AM CREATED BY A FUNCTION PASSED AS AN ARGUMENT\n",
      "hi, i am created by a function passed as an argument\n"
     ]
    }
   ],
   "source": [
    "# Decorators   _2_\n",
    "\"\"\" Functions can be passed as arguments to other functions \"\"\"\n",
    "def whisper(text):\n",
    "    return text.lower()\n",
    "\n",
    "def greet(func):\n",
    "    greeting = func('Hi, I am created by a function passed as an argument')\n",
    "    return greeting\n",
    "\n",
    "print(greet(shout))\n",
    "print(greet(whisper))"
   ]
  },
  {
   "cell_type": "code",
   "execution_count": 15,
   "metadata": {},
   "outputs": [
    {
     "name": "stdout",
     "output_type": "stream",
     "text": [
      "25\n"
     ]
    }
   ],
   "source": [
    "# Decorators   _3_\n",
    "\"\"\" Functions can return another function \"\"\"\n",
    "def create_adder(x):\n",
    "    def adder(y):\n",
    "        return x + y\n",
    "    \n",
    "    return adder\n",
    "\n",
    "add_15 = create_adder(15)\n",
    "\n",
    "print(add_15(10))"
   ]
  },
  {
   "cell_type": "code",
   "execution_count": 16,
   "metadata": {},
   "outputs": [
    {
     "name": "stdout",
     "output_type": "stream",
     "text": [
      "Hello, this is before function execution\n",
      "This is inside the function !!\n",
      "This is after function execution\n"
     ]
    }
   ],
   "source": [
    "# Decorators   _4_\n",
    "def hello_decorator(func):\n",
    "\n",
    "    def inner1():\n",
    "        print(\"Hello, this is before function execution\")\n",
    "\n",
    "        func()\n",
    "\n",
    "        print(\"This is after function execution\")\n",
    "    \n",
    "    return inner1\n",
    "\n",
    "def function_to_be_used():\n",
    "    print(\"This is inside the function !!\")\n",
    "\n",
    "function_to_be_used = hello_decorator(function_to_be_used)\n",
    "\n",
    "function_to_be_used()"
   ]
  },
  {
   "cell_type": "code",
   "execution_count": 17,
   "metadata": {},
   "outputs": [
    {
     "name": "stdout",
     "output_type": "stream",
     "text": [
      "3628800\n",
      "Total time taken in : factorial 2.0020501613616943\n"
     ]
    }
   ],
   "source": [
    "# Decorators   _5_\n",
    "import time\n",
    "import math\n",
    "\n",
    "def calculate_time(func):\n",
    "    def inner1(*args, **kwargs): # wrapper function\n",
    "        \n",
    "        begin = time.time()\n",
    "        \n",
    "        func(*args, **kwargs)\n",
    "        \n",
    "        end = time.time()\n",
    "        print(\"Total time taken in :\", func.__name__, end - begin)\n",
    "    \n",
    "    return inner1\n",
    "\n",
    "@calculate_time # factorial = calculate_time(factorial)\n",
    "def factorial(num):\n",
    "    time.sleep(2)\n",
    "    print(math.factorial(num))\n",
    "\n",
    "factorial(10)"
   ]
  },
  {
   "cell_type": "code",
   "execution_count": 18,
   "metadata": {},
   "outputs": [
    {
     "name": "stdout",
     "output_type": "stream",
     "text": [
      "before Execution\n",
      "Inside the function\n",
      "after Execution\n",
      "Sum = 3\n"
     ]
    }
   ],
   "source": [
    "# Decorators   _6_\n",
    "\"What if a function returns something or an argument is passed to the function?\"\n",
    "def hello_decorator(func):\n",
    "    def inner1(*args, **kwargs):\n",
    "\n",
    "        print(\"before Execution\")\n",
    "\n",
    "        returned_value = func(*args,**kwargs)\n",
    "\n",
    "        print(\"after Execution\")\n",
    "\n",
    "        return returned_value\n",
    "    \n",
    "    return inner1\n",
    "\n",
    "@hello_decorator\n",
    "def sum_two_numbers(a, b):\n",
    "    print(\"Inside the function\")\n",
    "    return a + b\n",
    "\n",
    "a, b = 1, 2\n",
    "\n",
    "print(\"Sum =\", sum_two_numbers(a,b))"
   ]
  },
  {
   "cell_type": "code",
   "execution_count": 19,
   "metadata": {},
   "outputs": [
    {
     "name": "stdout",
     "output_type": "stream",
     "text": [
      "400\n"
     ]
    }
   ],
   "source": [
    "# Decorators    _7_\n",
    "def decor1(func):\n",
    "    def inner1():\n",
    "        x = func()\n",
    "        return x*x\n",
    "    return inner1\n",
    "\n",
    "def decor(func):\n",
    "    def inner():\n",
    "        x = func()\n",
    "        return 2*x\n",
    "    return inner\n",
    "\n",
    "@decor1\n",
    "@decor\n",
    "def num():\n",
    "    return 10\n",
    "\n",
    "print(num())"
   ]
  },
  {
   "cell_type": "code",
   "execution_count": 20,
   "metadata": {},
   "outputs": [
    {
     "name": "stdout",
     "output_type": "stream",
     "text": [
      "0 1 2 3 4 5 6 7 8 9 10 \n",
      "1 2 4 5 7 8 10 \n",
      "(0, 0) (1, 1) (2, 4) (3, 9) (4, 16) (5, 25) (6, 36) (7, 49) (8, 64) (9, 81) (10, 100) \n",
      "3.0 3.1 3.14 3.142 3.1416 3.14159 3.141593 3.1415927 3.14159265 3.141592654 3.1415926536 \n",
      "{0: 0, 1: 1, 2: 4, 3: 9, 4: 16, 5: 25, 6: 36, 7: 49, 8: 64, 9: 81, 10: 100}\n"
     ]
    }
   ],
   "source": [
    "# Comprehensions           \n",
    "def main():\n",
    "    seq = range(11)\n",
    "    seq2 =  [x for x in seq if x % 3 != 0]\n",
    "    seq3 = [(x, x**2) for x in seq] \n",
    "    from math import pi\n",
    "    seq4 = [round(pi, i) for i in seq]\n",
    "    seq5 = {x: x**2 for x in seq}\n",
    "    \n",
    "    print_list(seq)\n",
    "    print_list(seq2)\n",
    "    print_list(seq3)\n",
    "    print_list(seq4)\n",
    "    print(seq5)\n",
    "\n",
    "def print_list(o):\n",
    "    for x in o: print(x, end = ' ')\n",
    "    print()\n",
    "\n",
    "if __name__ == '__main__': main()"
   ]
  },
  {
   "cell_type": "code",
   "execution_count": 21,
   "metadata": {},
   "outputs": [
    {
     "name": "stdout",
     "output_type": "stream",
     "text": [
      "The 0 line.\n",
      "The 1 line.\n",
      "The 2 line.\n",
      "The 3 line.\n",
      "The 4 line.\n",
      "The 5 line.\n",
      "The 6 line.\n",
      "The 7 line.\n",
      "The 8 line.\n",
      "The 9 line.\n"
     ]
    }
   ],
   "source": [
    "# File operations      _1_\n",
    "def create_text():\n",
    "    with open('lines.txt', 'wt') as f:\n",
    "        for i in range(10):\n",
    "            f.write(f'The {i} line.')\n",
    "            f.write('\\n')\n",
    "        f.close()\n",
    "\n",
    "def main():\n",
    "    create_text()\n",
    "    f = open('lines.txt', 'rt')\n",
    "    for line in f:\n",
    "        print(line.rstrip())\n",
    "        \n",
    "if __name__ == '__main__': main()"
   ]
  },
  {
   "cell_type": "code",
   "execution_count": 6,
   "metadata": {},
   "outputs": [
    {
     "name": "stdout",
     "output_type": "stream",
     "text": [
      "...........\n",
      "done.\n"
     ]
    }
   ],
   "source": [
    "# File operations    _2_\n",
    "def main():\n",
    "    infile = open('data/cat.jpg', 'rb')\n",
    "    outfile = open('data/cat_copy.jpg', 'wb')\n",
    "    while True:\n",
    "        buf = infile.read(10240) # Assume thaht your system has very limited memory.\n",
    "        if buf:\n",
    "            outfile.write(buf)\n",
    "            print('.', end='', flush=True)\n",
    "        else: break\n",
    "    outfile.close()\n",
    "    print('\\ndone.')\n",
    "\n",
    "if __name__ == '__main__': main()"
   ]
  },
  {
   "cell_type": "code",
   "execution_count": 10,
   "metadata": {},
   "outputs": [
    {
     "name": "stdout",
     "output_type": "stream",
     "text": [
      "Name: data/scores.txt\n",
      "Mode: w\n",
      "Reading...GBJ : 100\n",
      "\n",
      "Read,ng again GBJ : 100\n",
      "\n"
     ]
    }
   ],
   "source": [
    "# File operations    _3_\n",
    "\"\"\"In order to read the file, we must set the seek pointer back yo 0, however, if we close the\n",
    "file, it is automatically reset to 0.\"\"\"\n",
    "myFile = open(\"data/scores.txt\", \"w\")\n",
    "\n",
    "print(\"Name: \" + myFile.name)\n",
    "print(\"Mode: \" + myFile.mode)\n",
    "\n",
    "myFile.write(\"GBJ : 100\\nKHD : 99\\nBBB : 89\")\n",
    "myFile.close()\n",
    "\n",
    "myFile = open(\"data/scores.txt\", \"r\")\n",
    "print(\"Reading...\" + myFile.read(10))\n",
    "myFile.seek(0)    # or myFile.close()\n",
    "print(\"Reading again \" + myFile.read(10))"
   ]
  },
  {
   "cell_type": "markdown",
   "metadata": {},
   "source": [
    "### Python STL\n",
    "\n",
    "- Standard modules\n",
    "- Comparison\n",
    "- Built-in functions\n",
    "- Math module\n",
    "- Iterators\n",
    "- Input/Output\n",
    "- Date, Time, HTML Parsing, HTTP"
   ]
  },
  {
   "cell_type": "code",
   "execution_count": 23,
   "metadata": {},
   "outputs": [
    {
     "name": "stdout",
     "output_type": "stream",
     "text": [
      "win32 \n",
      "\n",
      "nt \n",
      "\n",
      "c:\\Users\\90551\\Anaconda3;C:\\Users\\90551\\Anaconda3;C:\\Users\\90551\\Anaconda3\\Library\\mingw-w64\\bin;C:\\Users\\90551\\Anaconda3\\Library\\usr\\bin;C:\\Users\\90551\\Anaconda3\\Library\\bin;C:\\Users\\90551\\Anaconda3\\Scripts;C:\\Users\\90551\\Anaconda3\\bin;C:\\Users\\90551\\Anaconda3\\condabin;C:\\Windows\\System32;C:\\Users\\90551\\OpenCV\\build\\include;C:\\Users\\90551\\OpenCV\\build\\install\\x64\\vc15\\bin;C:\\Users\\90551\\OpenCV\\build\\install\\x64\\vc15\\lib;C:\\Users\\90551\\OpenCV\\build\\bin;C:\\Program Files\\Git\\cmd;C:\\Windows\\System32\\WindowsPowerShell\\v1.0;C:\\Windows\\System32;C:\\Users\\90551\\AppData\\Local\\Programs\\Microsoft VS Code\\bin;C:\\Windows\\System32\\WindowsPowerShell\\v1.0;. \n",
      "\n",
      "c:\\Users\\90551\\OneDrive\\Masaüstü\\DERS\\Çalışmalarım\\Python_Developer_Roadmap\\Python_Developer_Roadmap \n",
      "\n",
      "72e73a8a98bf69495864d0b396ef4ef30da699e1c52ffbd441\n"
     ]
    }
   ],
   "source": [
    "# Standard modules\n",
    "import sys\n",
    "import os\n",
    "\n",
    "def main():\n",
    "    v = sys.platform\n",
    "    print(v,'\\n')\n",
    "    v = os.name\n",
    "    print(v,'\\n')\n",
    "    v = os.getenv('PATH')\n",
    "    print(v,'\\n')\n",
    "    v = os.getcwd()\n",
    "    print(v,'\\n')\n",
    "    v = os.urandom(25).hex()\n",
    "    print(v)\n",
    "\n",
    "if __name__ == '__main__': main()"
   ]
  },
  {
   "cell_type": "code",
   "execution_count": 24,
   "metadata": {},
   "outputs": [
    {
     "name": "stdout",
     "output_type": "stream",
     "text": [
      "w1[4] = i -> 105 and w2[4] = y -> 121\n",
      "True\n",
      "True -> 1 False -> 0\n",
      "True\n"
     ]
    }
   ],
   "source": [
    "# Comparison \n",
    "w1 = \"Jennifer\"\n",
    "w2 = 'Jenny'\n",
    "\n",
    "def first_mismatch(w1, w2):\n",
    "    w1 = list(w1)\n",
    "    w2 = list(w2)\n",
    "\n",
    "    if len(w2) > len(w1):\n",
    "        length = len(w1)\n",
    "    else:\n",
    "        length = len(w2)\n",
    "\n",
    "    for i in range(length):\n",
    "        if w1[i] != w2[i]:\n",
    "            print(f'w1[{i}] = {w1[i]} -> {ord(w1[i])} and w2[{i}] = {w2[i]} -> {ord(w2[i])}')\n",
    "\n",
    "first_mismatch(w1,w2)\n",
    "print(w2 > w1)\n",
    "print(f\"True -> {int(True)} False -> {int(False)}\")\n",
    "print(True > False)"
   ]
  },
  {
   "cell_type": "code",
   "execution_count": 25,
   "metadata": {},
   "outputs": [
    {
     "name": "stdout",
     "output_type": "stream",
     "text": [
      "6\n",
      "6\n",
      "3\n",
      "4\n",
      "-1\n",
      "[-15, -10, -2, 0, 1, 12]\n",
      "['Jerry', 'Linda', 'Sue']\n",
      "['Sue', 'jerry', 'linda']\n",
      "['Ankara', 'city', 'favorite', 'is', 'My']\n",
      "[12, 1, 0, -2, -10, -15]\n",
      "[432, 231, 123]\n",
      "JKC\n",
      "[('alice', 'B', 12), ('eliza', 'A', 16), ('tae', 'C', 15)]\n",
      "[('eliza', 'A', 16), ('alice', 'B', 12), ('tae', 'C', 15)]\n"
     ]
    }
   ],
   "source": [
    "# Built-in Functions\n",
    "firstName = \"Taylor\"\n",
    "print(len(firstName))\n",
    "print(firstName.__len__())\n",
    "\n",
    "myGPA = 3.7\n",
    "print(int(myGPA))\n",
    "print(round(myGPA))\n",
    "\n",
    "neg = -1.2\n",
    "print(round(neg))\n",
    "\n",
    "pointsInaGame = [0, -10, -15, -2, 1, 12]\n",
    "sortedGame =sorted(pointsInaGame)\n",
    "print(sortedGame)\n",
    "\n",
    "children = [\"Sue\", \"Jerry\", \"Linda\"]\n",
    "print(sorted(children))\n",
    "\n",
    "children = [\"Sue\", \"jerry\", \"linda\"]\n",
    "print(sorted(children))\n",
    "\n",
    "print(sorted(\"My favorite city is Ankara\".split(), key=str.upper))\n",
    "\n",
    "print(sorted(pointsInaGame, reverse=True))\n",
    "\n",
    "leaderBoard = {231: \"CKL\", 123: \"ABC\", 432: \"JKC\" }\n",
    "print(sorted(leaderBoard, reverse = True))\n",
    "print(leaderBoard.get(432))\n",
    "\n",
    "students = [ ('alice', 'B', 12), ('eliza', 'A', 16), ('tae', 'C', 15)]\n",
    "print(sorted(students, key=lambda student:student[0]))\n",
    "print(sorted(students, key=lambda student:student[1]))"
   ]
  },
  {
   "cell_type": "code",
   "execution_count": 26,
   "metadata": {},
   "outputs": [
    {
     "name": "stdout",
     "output_type": "stream",
     "text": [
      "3.141592653589793\n",
      "2.718281828459045\n",
      "nan\n",
      "inf\n",
      "-inf\n",
      "0.7071067811865476\n",
      "0.7071067811865476\n",
      "11\n",
      "10\n",
      "4\n"
     ]
    }
   ],
   "source": [
    "# Math module\n",
    "import math\n",
    "print(math.pi)\n",
    "print(math.e)\n",
    "print(math.nan)\n",
    "print(math.inf)\n",
    "print(-math.inf)\n",
    "print(math.cos(math.pi / 4))\n",
    "print(math.sin(math.pi / 4))\n",
    "print(math.ceil(10.3))\n",
    "print(math.floor(10.3))\n",
    "print(math.gcd(52,8)) # Greates Commont Denominator\n"
   ]
  },
  {
   "cell_type": "code",
   "execution_count": 2,
   "metadata": {},
   "outputs": [],
   "source": [
    "# Iterators         _1_\n",
    "import itertools\n",
    "\n",
    "for x in itertools.count(50):         # Infinite Counting\n",
    "    if x == 60:\n",
    "        break"
   ]
  },
  {
   "cell_type": "code",
   "execution_count": 28,
   "metadata": {},
   "outputs": [
    {
     "name": "stdout",
     "output_type": "stream",
     "text": [
      "R\n",
      "A\n",
      "C\n",
      "E\n",
      "C\n",
      "A\n",
      "R\n",
      "R\n",
      "A\n",
      "C\n",
      "E\n",
      "C\n"
     ]
    }
   ],
   "source": [
    "# Iterators       _2_\n",
    "x = 0\n",
    "for c in itertools.cycle(\"RACECAR\"):         # Infinite Cycling\n",
    "    print(c)\n",
    "    x = x + 1\n",
    "    if x > 11:\n",
    "        break"
   ]
  },
  {
   "cell_type": "code",
   "execution_count": 29,
   "metadata": {},
   "outputs": [
    {
     "name": "stdout",
     "output_type": "stream",
     "text": [
      "True\n",
      "True\n",
      "True\n",
      "True\n",
      "True\n",
      "True\n",
      "True\n",
      "True\n",
      "True\n",
      "True\n",
      "True\n",
      "True\n",
      "True\n",
      "True\n"
     ]
    }
   ],
   "source": [
    "# Iterators     _3_\n",
    "x = 0\n",
    "for c in itertools.repeat(True):         \n",
    "    print(c)\n",
    "    x = x + 1\n",
    "    if x > 13:\n",
    "        break"
   ]
  },
  {
   "cell_type": "code",
   "execution_count": 30,
   "metadata": {},
   "outputs": [
    {
     "name": "stdout",
     "output_type": "stream",
     "text": [
      "(1, 2, 3)\n",
      "(1, 3, 2)\n",
      "(2, 1, 3)\n",
      "(2, 3, 1)\n",
      "(3, 1, 2)\n",
      "(3, 2, 1)\n",
      "('Barb', 'Karen', 'Erin')\n",
      "('Barb', 'Erin', 'Karen')\n",
      "('Karen', 'Barb', 'Erin')\n",
      "('Karen', 'Erin', 'Barb')\n",
      "('Erin', 'Barb', 'Karen')\n",
      "('Erin', 'Karen', 'Barb')\n"
     ]
    }
   ],
   "source": [
    "# Iterators        _4_\n",
    "election = {1: 'Barb', 2: 'Karen', 3: 'Erin'}\n",
    "for p in itertools.permutations(election):\n",
    "    print(p)\n",
    "\n",
    "for p in itertools.permutations(election.values()):\n",
    "    print(p)"
   ]
  },
  {
   "cell_type": "code",
   "execution_count": 3,
   "metadata": {},
   "outputs": [
    {
     "name": "stdout",
     "output_type": "stream",
     "text": [
      "('Red', 'Blue')\n",
      "('Red', 'Purple')\n",
      "('Red', 'Orange')\n",
      "('Red', 'Yellow')\n",
      "('Red', 'Pink')\n",
      "('Blue', 'Purple')\n",
      "('Blue', 'Orange')\n",
      "('Blue', 'Yellow')\n",
      "('Blue', 'Pink')\n",
      "('Purple', 'Orange')\n",
      "('Purple', 'Yellow')\n",
      "('Purple', 'Pink')\n",
      "('Orange', 'Yellow')\n",
      "('Orange', 'Pink')\n",
      "('Yellow', 'Pink')\n"
     ]
    }
   ],
   "source": [
    "# Iterators    _5_\n",
    "colorsForPainting = [\"Red\", \"Blue\", \"Purple\", \"Orange\", \"Yellow\", \"Pink\"]\n",
    "for c in itertools.combinations(colorsForPainting, 2):\n",
    "    print(c)"
   ]
  },
  {
   "cell_type": "code",
   "execution_count": null,
   "metadata": {},
   "outputs": [],
   "source": []
  },
  {
   "cell_type": "code",
   "execution_count": null,
   "metadata": {},
   "outputs": [],
   "source": []
  },
  {
   "cell_type": "code",
   "execution_count": null,
   "metadata": {},
   "outputs": [],
   "source": []
  }
 ],
 "metadata": {
  "kernelspec": {
   "display_name": "Python 3.7.4 ('base')",
   "language": "python",
   "name": "python3"
  },
  "language_info": {
   "codemirror_mode": {
    "name": "ipython",
    "version": 3
   },
   "file_extension": ".py",
   "mimetype": "text/x-python",
   "name": "python",
   "nbconvert_exporter": "python",
   "pygments_lexer": "ipython3",
   "version": "3.7.4"
  },
  "orig_nbformat": 4,
  "vscode": {
   "interpreter": {
    "hash": "c110e616a8f73405e0ee81438816d379362374c85663995d8e3818cdc5bb9400"
   }
  }
 },
 "nbformat": 4,
 "nbformat_minor": 2
}
