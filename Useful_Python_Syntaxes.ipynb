{
 "cells": [
  {
   "cell_type": "markdown",
   "metadata": {},
   "source": [
    "## Contents\n",
    "- Escape character\n",
    "- Python Keywords\n",
    "- Variables in string\n",
    "- Unicode - decode string\n",
    "- random() module\n",
    "- Add and delete an element from \n",
    "- Dictionary methods\n",
    "- Counting the words on text\n",
    "- Ternary operator\n",
    "- Type conversion\n",
    "- Bitwise operations\n",
    "- Argument lists\n",
    "- Keyword arguments\n",
    "- Generators\n",
    "- Decorators\n",
    "- Comprehensions\n",
    "- lambda, map, reduce, filter\n",
    "- File operations\n",
    "- Standard modules\n",
    "- Comparison\n",
    "- Built-in functions\n",
    "- Math module\n",
    "- Iterators\n",
    "- Input/Output\n",
    "- Date, Time\n",
    "- Text wrap"
   ]
  },
  {
   "cell_type": "code",
   "execution_count": 167,
   "metadata": {},
   "outputs": [
    {
     "name": "stdout",
     "output_type": "stream",
     "text": [
      "Kemal's repository\n",
      "Kemal's repository\n"
     ]
    }
   ],
   "source": [
    "# Escape character\n",
    "string_1 =\"Kemal's repository\"\n",
    "string_2 ='Kemal\\'s repository'\n",
    "print(string_1)\n",
    "print(string_2)"
   ]
  },
  {
   "cell_type": "code",
   "execution_count": 168,
   "metadata": {},
   "outputs": [
    {
     "name": "stdout",
     "output_type": "stream",
     "text": [
      "25\n",
      "15 10\n"
     ]
    }
   ],
   "source": [
    "# Python Keywords     _1_\n",
    "\"\"\" global keyword is used to define a variable inside the function to be of a global scope. If a variable \n",
    "iş assigned a value anywhere within the fuction's body, it's assumed to be a local unless explicitly declared as global.\n",
    "To access global varialbe inside a function there is no need to use a global keyword.\"\"\"\n",
    "a = 15  # global variable\n",
    "b = 10  \n",
    "\n",
    "def add():\n",
    "    c = a + b\n",
    "    print(c)\n",
    "\n",
    "add()\n",
    "print(a, b)\n"
   ]
  },
  {
   "cell_type": "code",
   "execution_count": 169,
   "metadata": {},
   "outputs": [
    {
     "name": "stdout",
     "output_type": "stream",
     "text": [
      "30\n",
      "30\n"
     ]
    }
   ],
   "source": [
    "# Python Keywords     _2_\n",
    "\"\"\" If we need to assign a new value to a global variable then we can do that by declaring the variable as global \"\"\"\n",
    "a = 15\n",
    "def change():\n",
    "    global a      # without this line it will create an error.\n",
    "    a = a + 15\n",
    "    print(a)\n",
    "\n",
    "change()\n",
    "print(a)"
   ]
  },
  {
   "cell_type": "code",
   "execution_count": 170,
   "metadata": {},
   "outputs": [
    {
     "name": "stdout",
     "output_type": "stream",
     "text": [
      "1\n"
     ]
    }
   ],
   "source": [
    "# Python Keywords     _3_\n",
    "\"\"\" The best way to share global variables across different modules within the same program is to create a special module. \"\"\"\n",
    "import Data.config as config\n",
    "config.x = 1\n",
    "config.y = 2\n",
    "config.z = \"Kemal\"\n",
    "print(config.x)"
   ]
  },
  {
   "cell_type": "code",
   "execution_count": 171,
   "metadata": {},
   "outputs": [
    {
     "name": "stdout",
     "output_type": "stream",
     "text": [
      "Before making changing:  15\n",
      "Making change\n",
      "After making change:  15\n",
      "Value of x:  20\n"
     ]
    }
   ],
   "source": [
    "# Python Keywords     _4_\n",
    "\"\"\" In order to use global inside a nested function, we have to declare a variable with a global keyword inside a nested function. \"\"\"\n",
    "def add():\n",
    "    x = 15 # local variable\n",
    "    def change():\n",
    "        global x   # try nonlocal x\n",
    "        x = 20     # global variable\n",
    "    print(\"Before making changing: \", x)\n",
    "    print(\"Making change\")\n",
    "    change()\n",
    "    print(\"After making change: \", x)\n",
    "\n",
    "add()\n",
    "print(\"Value of x: \", x)\n"
   ]
  },
  {
   "cell_type": "code",
   "execution_count": 172,
   "metadata": {},
   "outputs": [
    {
     "name": "stdout",
     "output_type": "stream",
     "text": [
      "var1 id:  140728776827568\n",
      "var1 id:  140728776827568\n",
      "var1:  20\n",
      "var1 id:  140728776827888\n"
     ]
    }
   ],
   "source": [
    "# Python Keywords     _5_\n",
    "\"\"\" nonlocal keyword works similar to the global, but rather than global, this keyword declares a variable to point to variable of \n",
    "outside enclosing function, in case of nested functions. \"\"\"\n",
    "def fun():\n",
    "    var1 = 10\n",
    "    print(\"var1 id: \", id(var1))\n",
    "    def gun():\n",
    "        nonlocal var1 # try global var1\n",
    "        print(\"var1 id: \", id(var1))\n",
    "        var1 = var1 + 10\n",
    "        print(\"var1: \", var1)\n",
    "    gun()\n",
    "    print(\"var1 id: \", id(var1))\n",
    "\n",
    "fun()"
   ]
  },
  {
   "cell_type": "code",
   "execution_count": 173,
   "metadata": {},
   "outputs": [
    {
     "name": "stdout",
     "output_type": "stream",
     "text": [
      "Today is September 3 and it's -15 degrees outside\n",
      "Today is September 3 and it's -15 degrees outside\n",
      "x is seven 000000008 900000000\n",
      "approximate value = 2.79\n",
      "3 a b\n"
     ]
    }
   ],
   "source": [
    "# Variables in string\n",
    "day = 3\n",
    "month = 'September'\n",
    "temp = -15\n",
    "\n",
    "print(f\"Today is {month} {day} and it's {temp} degrees outside\")\n",
    "print(\"Today is {} {} and it's {} degrees outside\".format(month,day,temp))\n",
    "\n",
    "a = 8\n",
    "b = 9\n",
    "x = f'seven {a:>09} {b:<09}'\n",
    "print(f'x is {x}')\n",
    "\n",
    "value = 2.791514\n",
    "print(f'approximate value = {value:.2f}')\n",
    "\n",
    "text = (\"%d %s %s\" %(3,'a','b'))\n",
    "print(text)\n"
   ]
  },
  {
   "cell_type": "code",
   "execution_count": 174,
   "metadata": {},
   "outputs": [
    {
     "name": "stdout",
     "output_type": "stream",
     "text": [
      "b'A unicode \\xc6\\x8e string \\xc3\\xb1'\n"
     ]
    },
    {
     "data": {
      "text/plain": [
       "True"
      ]
     },
     "execution_count": 174,
     "metadata": {},
     "output_type": "execute_result"
    }
   ],
   "source": [
    "# Unicode - decode string\n",
    "ustring = 'A unicode \\u018e string \\xf1'\n",
    "b = ustring.encode('utf-8')\n",
    "print(b)\n",
    "t = b.decode('utf-8')\n",
    "t == ustring  "
   ]
  },
  {
   "cell_type": "code",
   "execution_count": 175,
   "metadata": {},
   "outputs": [
    {
     "name": "stdout",
     "output_type": "stream",
     "text": [
      "5\n",
      "0.7841611391299029\n",
      "Jack\n",
      "['Queen', 'King', 'Ace', 'Jack']\n"
     ]
    }
   ],
   "source": [
    "# random() module\n",
    "import random\n",
    "print(random.randint(1,10))\n",
    "print(random.random())\n",
    "print(random.choice([\"Jack\", \"Queen\", \"King\", \"Ace\"]))\n",
    "card = [\"Jack\", \"Queen\", \"King\", \"Ace\"]\n",
    "random.shuffle(card)\n",
    "print(card)"
   ]
  },
  {
   "cell_type": "code",
   "execution_count": 176,
   "metadata": {},
   "outputs": [
    {
     "name": "stdout",
     "output_type": "stream",
     "text": [
      "['Ali', 'Veli', 'Mehmet', 'Kemal', 'Ahmet']\n",
      "['Veli', 'Mehmet', 'Kemal', 'Ahmet']\n",
      "['Mehmet', 'Kemal', 'Ahmet']\n"
     ]
    }
   ],
   "source": [
    "# Add and delete an element from list\n",
    "l = [\"Ali\",\"Veli\",\"Kemal\"]\n",
    "l.append(\"Ahmet\")\n",
    "l.insert(2,\"Mehmet\")\n",
    "print(l)\n",
    "del(l[0])\n",
    "print(l)\n",
    "l.remove(\"Veli\")\n",
    "print(l)"
   ]
  },
  {
   "cell_type": "code",
   "execution_count": 177,
   "metadata": {},
   "outputs": [
    {
     "name": "stdout",
     "output_type": "stream",
     "text": [
      "The dictionary before deletion: {'Ali': 10, 'Veli': 11, 'Kemal': 12}\n",
      "Dictionary after deletion is: {'Veli': 11, 'Kemal': 12}\n",
      "If the key is not in the dictionary and the default is provided, it returns the default: KeyError\n",
      "Removing item using popitem: ('Kemal', 12)\n",
      "Dictionary after deletion is: {'Veli': 11}\n",
      "test_dict after clear:  None\n",
      "11\n",
      "dict_items([('Ali', 10), ('Veli', 11), ('Kemal', 12)])\n",
      "dict_keys(['Ali', 'Veli', 'Kemal'])\n",
      "dict_values([10, 11, 12])\n",
      "Dictionary after update:  {'Ali': 10, 'Veli': 15, 'Kemal': 12}\n"
     ]
    }
   ],
   "source": [
    "#  Dictionary methods\n",
    "\"\"\" The pop() function removes the key-value pair of the key passed whereas the popitem() function removes the last (based on LIFO order) key-value \n",
    "pair from the dictionary. \"\"\"\n",
    "test_dict = {\"Ali\": 10, \"Veli\": 11, \"Kemal\":12}\n",
    "test_dict_copy = test_dict.copy()\n",
    "\n",
    "print(\"The dictionary before deletion: \" + str(test_dict))\n",
    "pop_element = test_dict.pop(\"Ali\")\n",
    "print(\"Dictionary after deletion is: \" + str(test_dict))\n",
    "pop_non_exist = test_dict.pop(\"Cemil\", \"KeyError\")\n",
    "print(\"If the key is not in the dictionary and the default is provided, it returns the default: \" + str(pop_non_exist))\n",
    "popitem_elemet = test_dict.popitem()\n",
    "print(\"Removing item using popitem: \" + str(popitem_elemet)) \n",
    "print(\"Dictionary after deletion is: \" + str(test_dict))\n",
    "print(\"test_dict after clear: \", test_dict.clear())\n",
    "\n",
    "print(test_dict_copy.get(\"Veli\"))\n",
    "print(test_dict_copy.items())\n",
    "print(test_dict_copy.keys())\n",
    "print(test_dict_copy.values())\n",
    "test_dict_copy.update({\"Veli\": 15})\n",
    "print(\"Dictionary after update: \", test_dict_copy)"
   ]
  },
  {
   "cell_type": "code",
   "execution_count": 178,
   "metadata": {},
   "outputs": [
    {
     "name": "stdout",
     "output_type": "stream",
     "text": [
      "['a', 'b', 'c', 'a', 'A', 'b']\n",
      "{'a': 3, 'b': 2, 'c': 1}\n"
     ]
    }
   ],
   "source": [
    "# Counting the words on text\n",
    "text = \"\"\"\n",
    "        a b c a A b\n",
    "       \"\"\"\n",
    "print(text.split())\n",
    "\n",
    "word_count = {}\n",
    "\n",
    "for word in text.lower().split():\n",
    "    if word in word_count:\n",
    "        word_count[word] += 1\n",
    "    else:\n",
    "        word_count[word] = 1\n",
    "\n",
    "print(word_count)"
   ]
  },
  {
   "cell_type": "code",
   "execution_count": 179,
   "metadata": {},
   "outputs": [
    {
     "name": "stdout",
     "output_type": "stream",
     "text": [
      "Feed the bear now!\n",
      "10\n"
     ]
    }
   ],
   "source": [
    "# Ternary operator   _1_\n",
    "hungry = True\n",
    "x = \"Feed the bear now!\" if hungry else \"Do not feed the bear.\"\n",
    "print(x)\n",
    "\n",
    "a,b = 10, 20\n",
    "min = a < b and a or b  # [expression] and [on_true] or [on_false]\n",
    "print(min)"
   ]
  },
  {
   "cell_type": "code",
   "execution_count": 180,
   "metadata": {},
   "outputs": [
    {
     "name": "stdout",
     "output_type": "stream",
     "text": [
      "10\n",
      "10\n",
      "10\n"
     ]
    }
   ],
   "source": [
    "# Ternary operator   _2_\n",
    "a, b = 10, 20\n",
    "print( (b, a) [a < b])  # (if_test_false, if_test_true)[test]\n",
    "print({True: a, False: b} [a < b]) \n",
    "print((lambda: b, lambda: a)[a < b]()) "
   ]
  },
  {
   "cell_type": "code",
   "execution_count": 181,
   "metadata": {},
   "outputs": [
    {
     "name": "stdout",
     "output_type": "stream",
     "text": [
      "10\n",
      "20\n",
      "Hex x:0a\n",
      "Hex y:02\n",
      "Binary x:1010\n",
      "Binary y:10\n"
     ]
    }
   ],
   "source": [
    "# Type conversion\n",
    "x = 0x0a\n",
    "y = 0x02\n",
    "print(a)\n",
    "print(b)\n",
    "print(f'Hex x:{x:02x}')\n",
    "print(f'Hex y:{y:02x}')\n",
    "print(f'Binary x:{x:02b}')\n",
    "print(f'Binary y:{y:02b}')"
   ]
  },
  {
   "cell_type": "code",
   "execution_count": 182,
   "metadata": {},
   "outputs": [
    {
     "name": "stdout",
     "output_type": "stream",
     "text": [
      "(hex)  x is 0a, y is  01, z is 05\n",
      "(bin)  x is 00001010, y is  00000001, z is 00000101\n"
     ]
    }
   ],
   "source": [
    "# Bitwise operations\n",
    "x = 0x0a\n",
    "y = 0x01\n",
    "z = x >> y\n",
    "\n",
    "print (f'(hex)  x is {x:02x}, y is  {y:02x}, z is {z:02x}')\n",
    "print (f'(bin)  x is {x:08b}, y is  {y:08b}, z is {z:08b}')"
   ]
  },
  {
   "cell_type": "code",
   "execution_count": 183,
   "metadata": {},
   "outputs": [
    {
     "name": "stdout",
     "output_type": "stream",
     "text": [
      "<class 'tuple'>\n",
      "Meow\n",
      "grr\n",
      "purr\n",
      "-------\n",
      "<class 'tuple'>\n",
      "('Meow', 'grr', 'purr')\n"
     ]
    }
   ],
   "source": [
    "# Argument lists\n",
    "def main():\n",
    "        x= ('Meow','grr','purr')\n",
    "        kitten(*x)\n",
    "        print('-------')\n",
    "        kitten(x)\n",
    "\n",
    "def kitten(*args):\n",
    "    if len(args):\n",
    "        print(type(args))\n",
    "        for s in args:\n",
    "            print(s)\n",
    "    else: print('Meow.')\n",
    "\n",
    "if __name__ == '__main__': main()"
   ]
  },
  {
   "cell_type": "code",
   "execution_count": 184,
   "metadata": {},
   "outputs": [
    {
     "name": "stdout",
     "output_type": "stream",
     "text": [
      "<class 'dict'>\n",
      "Kitten Buffy says meow\n",
      "Kitten Zilla says grr\n",
      "Kitten Tekir says rawr\n",
      "Kitten Buffy says meow\n",
      "Kitten Zilla says grr\n",
      "Kitten Tekir says rawr\n",
      "-------\n",
      "<class 'dict'>\n",
      "Kitten Buffy says meow\n",
      "Kitten Zilla says grr\n",
      "Kitten Tekir says rawr\n",
      "Kitten Buffy says meow\n",
      "Kitten Zilla says grr\n",
      "Kitten Tekir says rawr\n"
     ]
    }
   ],
   "source": [
    "# Keyword arguments\n",
    "def main():\n",
    "    x = dict(Buffy = 'meow', Zilla = 'grr', Tekir = 'rawr')\n",
    "    kitten(Buffy = 'meow', Zilla = 'grr', Tekir = 'rawr')\n",
    "    print('-------')\n",
    "    kitten(**x)\n",
    "\n",
    "def kitten(**kwargs):\n",
    "    if len(kwargs):\n",
    "        print(type(kwargs))\n",
    "        for k in kwargs:\n",
    "            print('Kitten {} says {}'.format(k, kwargs[k]))\n",
    "        for key, value in kwargs.items():\n",
    "            print('Kitten {} says {}'.format(key, value))\n",
    "    else: print('Meow.')\n",
    "\n",
    "if __name__ == '__main__': main()"
   ]
  },
  {
   "cell_type": "code",
   "execution_count": 185,
   "metadata": {},
   "outputs": [
    {
     "name": "stdout",
     "output_type": "stream",
     "text": [
      "0 5 10 15 20 25 "
     ]
    }
   ],
   "source": [
    "# Genarators    _1_ \n",
    "def inclusive_range(*args):\n",
    "    numargs = len(args)\n",
    "    start = 0\n",
    "    step = 1\n",
    "\n",
    "    # initialize parameters\n",
    "    if numargs < 1:\n",
    "        raise TypeError(f'expected at least 1 arguments, got {numargs}')\n",
    "    elif numargs == 1:\n",
    "        stop = args[0]\n",
    "    elif numargs == 2:\n",
    "        (start, stop) = args\n",
    "    elif numargs == 3:\n",
    "        (start, stop, step) = args\n",
    "    else: raise TypeError(f'expected at most 3 arguments, got {numargs}')\n",
    "\n",
    "    # generator\n",
    "    i = start\n",
    "    while i <= stop:\n",
    "        yield i\n",
    "        i+=step\n",
    "\n",
    "def main():\n",
    "    for i in inclusive_range(0, 25, 5):\n",
    "        print(i, end = ' ')\n",
    "\n",
    "if __name__ == '__main__': main()\n",
    "\n"
   ]
  },
  {
   "cell_type": "code",
   "execution_count": 186,
   "metadata": {},
   "outputs": [
    {
     "name": "stdout",
     "output_type": "stream",
     "text": [
      "<generator object fib at 0x000001F619F5E848>\n",
      "0\n",
      "1\n"
     ]
    }
   ],
   "source": [
    "# Genarators    _2_ \n",
    "def fib(limit):\n",
    "    a, b = 0, 1\n",
    "    while a < limit:\n",
    "        yield a\n",
    "        a, b = b, a + b\n",
    "\n",
    "x = fib(5)\n",
    "\n",
    "print(x)\n",
    "print(x.__next__())\n",
    "print(x.__next__())\n"
   ]
  },
  {
   "cell_type": "code",
   "execution_count": 187,
   "metadata": {},
   "outputs": [
    {
     "name": "stdout",
     "output_type": "stream",
     "text": [
      "HELLO\n",
      "HELLO\n"
     ]
    }
   ],
   "source": [
    "# Decorators   _1_\n",
    "\"\"\" Functions can be treated as objects \"\"\"\n",
    "def shout(text):\n",
    "    return text.upper()\n",
    "\n",
    "print(shout('Hello'))\n",
    "\n",
    "yell = shout\n",
    "\n",
    "print(yell('Hello'))"
   ]
  },
  {
   "cell_type": "code",
   "execution_count": 188,
   "metadata": {},
   "outputs": [
    {
     "name": "stdout",
     "output_type": "stream",
     "text": [
      "HI, I AM CREATED BY A FUNCTION PASSED AS AN ARGUMENT\n",
      "hi, i am created by a function passed as an argument\n"
     ]
    }
   ],
   "source": [
    "# Decorators   _2_\n",
    "\"\"\" Functions can be passed as arguments to other functions \"\"\"\n",
    "def whisper(text):\n",
    "    return text.lower()\n",
    "\n",
    "def greet(func):\n",
    "    greeting = func('Hi, I am created by a function passed as an argument')\n",
    "    return greeting\n",
    "\n",
    "print(greet(shout))\n",
    "print(greet(whisper))"
   ]
  },
  {
   "cell_type": "code",
   "execution_count": 189,
   "metadata": {},
   "outputs": [
    {
     "name": "stdout",
     "output_type": "stream",
     "text": [
      "25\n"
     ]
    }
   ],
   "source": [
    "# Decorators   _3_\n",
    "\"\"\" Functions can return another function \"\"\"\n",
    "def create_adder(x):\n",
    "    def adder(y):\n",
    "        return x + y\n",
    "    \n",
    "    return adder\n",
    "\n",
    "add_15 = create_adder(15)\n",
    "\n",
    "print(add_15(10))"
   ]
  },
  {
   "cell_type": "code",
   "execution_count": 190,
   "metadata": {},
   "outputs": [
    {
     "name": "stdout",
     "output_type": "stream",
     "text": [
      "Hello, this is before function execution\n",
      "This is inside the function !!\n",
      "This is after function execution\n"
     ]
    }
   ],
   "source": [
    "# Decorators   _4_\n",
    "def hello_decorator(func):\n",
    "\n",
    "    def inner1():\n",
    "        print(\"Hello, this is before function execution\")\n",
    "\n",
    "        func()\n",
    "\n",
    "        print(\"This is after function execution\")\n",
    "    \n",
    "    return inner1\n",
    "\n",
    "def function_to_be_used():\n",
    "    print(\"This is inside the function !!\")\n",
    "\n",
    "function_to_be_used = hello_decorator(function_to_be_used)\n",
    "\n",
    "function_to_be_used()"
   ]
  },
  {
   "cell_type": "code",
   "execution_count": 191,
   "metadata": {},
   "outputs": [
    {
     "name": "stdout",
     "output_type": "stream",
     "text": [
      "3628800\n",
      "Total time taken in : factorial 2.0031447410583496\n"
     ]
    }
   ],
   "source": [
    "# Decorators   _5_\n",
    "import time\n",
    "import math\n",
    "\n",
    "def calculate_time(func):\n",
    "    def inner1(*args, **kwargs): # wrapper function\n",
    "        \n",
    "        begin = time.time()\n",
    "        \n",
    "        func(*args, **kwargs)\n",
    "        \n",
    "        end = time.time()\n",
    "        print(\"Total time taken in :\", func.__name__, end - begin)\n",
    "    \n",
    "    return inner1\n",
    "\n",
    "@calculate_time # factorial = calculate_time(factorial)\n",
    "def factorial(num):\n",
    "    time.sleep(2)\n",
    "    print(math.factorial(num))\n",
    "\n",
    "factorial(10)"
   ]
  },
  {
   "cell_type": "code",
   "execution_count": 192,
   "metadata": {},
   "outputs": [
    {
     "name": "stdout",
     "output_type": "stream",
     "text": [
      "before Execution\n",
      "Inside the function\n",
      "after Execution\n",
      "Sum = 3\n"
     ]
    }
   ],
   "source": [
    "# Decorators   _6_\n",
    "\"What if a function returns something or an argument is passed to the function?\"\n",
    "def hello_decorator(func):\n",
    "    def inner1(*args, **kwargs):\n",
    "\n",
    "        print(\"before Execution\")\n",
    "\n",
    "        returned_value = func(*args,**kwargs)\n",
    "\n",
    "        print(\"after Execution\")\n",
    "\n",
    "        return returned_value\n",
    "    \n",
    "    return inner1\n",
    "\n",
    "@hello_decorator\n",
    "def sum_two_numbers(a, b):\n",
    "    print(\"Inside the function\")\n",
    "    return a + b\n",
    "\n",
    "a, b = 1, 2\n",
    "\n",
    "print(\"Sum =\", sum_two_numbers(a,b))"
   ]
  },
  {
   "cell_type": "code",
   "execution_count": 193,
   "metadata": {},
   "outputs": [
    {
     "name": "stdout",
     "output_type": "stream",
     "text": [
      "400\n"
     ]
    }
   ],
   "source": [
    "# Decorators    _7_\n",
    "def decor1(func):\n",
    "    def inner1():\n",
    "        x = func()\n",
    "        return x*x\n",
    "    return inner1\n",
    "\n",
    "def decor(func):\n",
    "    def inner():\n",
    "        x = func()\n",
    "        return 2*x\n",
    "    return inner\n",
    "\n",
    "@decor1\n",
    "@decor\n",
    "def num():\n",
    "    return 10\n",
    "\n",
    "print(num())"
   ]
  },
  {
   "cell_type": "code",
   "execution_count": 194,
   "metadata": {},
   "outputs": [
    {
     "name": "stdout",
     "output_type": "stream",
     "text": [
      "<function <lambda> at 0x000001F619DC69D8>\n"
     ]
    }
   ],
   "source": [
    "# lambda, map, reduce, filter         _1_\n",
    "string = \"lambda arguments : expression\"\n",
    "print(lambda string: string)"
   ]
  },
  {
   "cell_type": "code",
   "execution_count": 195,
   "metadata": {},
   "outputs": [
    {
     "name": "stdout",
     "output_type": "stream",
     "text": [
      "10\n",
      "20\n",
      "30\n",
      "40\n",
      "50\n",
      "60\n",
      "70\n",
      "80\n",
      "90\n",
      "100\n"
     ]
    }
   ],
   "source": [
    "# lambda, map, reduce, filter         _2_\n",
    "tables = [lambda x = x: x*10 for x in range(1, 11)]\n",
    "\n",
    "for table in tables:\n",
    "    print(table())"
   ]
  },
  {
   "cell_type": "code",
   "execution_count": 196,
   "metadata": {},
   "outputs": [
    {
     "name": "stdout",
     "output_type": "stream",
     "text": [
      "2\n"
     ]
    }
   ],
   "source": [
    "# lambda, map, reduce, filter         _3_\n",
    "Max = lambda a,b : a if a>b else b\n",
    "print(Max(1,2))"
   ]
  },
  {
   "cell_type": "code",
   "execution_count": 197,
   "metadata": {},
   "outputs": [
    {
     "name": "stdout",
     "output_type": "stream",
     "text": [
      "[3, 16, 9]\n"
     ]
    }
   ],
   "source": [
    "# lambda, map, reduce, filter         _4_\n",
    "List = [[2, 3, 4], [1, 4, 16, 64], [3, 6, 9, 12]]\n",
    "\n",
    "sortList = lambda x: (sorted(i) for i in x)\n",
    "secondLargest = lambda x, f : [y[len(y) - 2] for y in f(x)]\n",
    "res = secondLargest(List, sortList)\n",
    "print(res)"
   ]
  },
  {
   "cell_type": "code",
   "execution_count": 198,
   "metadata": {},
   "outputs": [
    {
     "name": "stdout",
     "output_type": "stream",
     "text": [
      "[5, 7, 97, 77, 23, 73, 61]\n",
      "[10, 14, 44, 194, 108, 124, 154, 46, 146, 122]\n"
     ]
    }
   ],
   "source": [
    "# lambda, map, reduce, filter         _5_\n",
    "li = [5, 7 ,22, 97, 54, 62, 77, 23, 73, 61]\n",
    "filter_list = list(filter(lambda x: (x%2 != 0), li))\n",
    "print(filter_list)\n",
    "map_list = list(map(lambda x: x*2, li))\n",
    "print(map_list)"
   ]
  },
  {
   "cell_type": "code",
   "execution_count": 199,
   "metadata": {},
   "outputs": [
    {
     "name": "stdout",
     "output_type": "stream",
     "text": [
      "The maximum element of the list is : 6\n"
     ]
    }
   ],
   "source": [
    "# lambda, map, reduce, filter         _6_\n",
    "import functools\n",
    "lis = [1, 3, 5, 6, 2]\n",
    "print(\"The maximum element of the list is : \", end = \"\")\n",
    "print(functools.reduce(lambda a, b : a if a>b else b, lis))"
   ]
  },
  {
   "cell_type": "code",
   "execution_count": 200,
   "metadata": {},
   "outputs": [
    {
     "name": "stdout",
     "output_type": "stream",
     "text": [
      "Intersection :  [3, 5]\n"
     ]
    }
   ],
   "source": [
    "# lambda, map, reduce, filter         _7_\n",
    "def interSection(arr1, arr2):\n",
    "    \n",
    "    result = list(filter(lambda x: x in arr1, arr2))\n",
    "    print(\"Intersection : \", result)\n",
    "\n",
    "if __name__ == '__main__':\n",
    "    arr1 = [1, 3, 4, 5, 7]\n",
    "    arr2 = [2, 3, 5, 6]\n",
    "    interSection(arr1, arr2)"
   ]
  },
  {
   "cell_type": "code",
   "execution_count": 201,
   "metadata": {},
   "outputs": [
    {
     "name": "stdout",
     "output_type": "stream",
     "text": [
      "0 1 2 3 4 5 6 7 8 9 10 \n",
      "1 2 4 5 7 8 10 \n",
      "(0, 0) (1, 1) (2, 4) (3, 9) (4, 16) (5, 25) (6, 36) (7, 49) (8, 64) (9, 81) (10, 100) \n",
      "3.0 3.1 3.14 3.142 3.1416 3.14159 3.141593 3.1415927 3.14159265 3.141592654 3.1415926536 \n",
      "{0: 0, 1: 1, 2: 4, 3: 9, 4: 16, 5: 25, 6: 36, 7: 49, 8: 64, 9: 81, 10: 100}\n"
     ]
    }
   ],
   "source": [
    "# Comprehensions           \n",
    "def main():\n",
    "    seq = range(11)\n",
    "    seq2 =  [x for x in seq if x % 3 != 0]\n",
    "    seq3 = [(x, x**2) for x in seq] \n",
    "    from math import pi\n",
    "    seq4 = [round(pi, i) for i in seq]\n",
    "    seq5 = {x: x**2 for x in seq}\n",
    "    \n",
    "    print_list(seq)\n",
    "    print_list(seq2)\n",
    "    print_list(seq3)\n",
    "    print_list(seq4)\n",
    "    print(seq5)\n",
    "\n",
    "def print_list(o):\n",
    "    for x in o: print(x, end = ' ')\n",
    "    print()\n",
    "\n",
    "if __name__ == '__main__': main()"
   ]
  },
  {
   "cell_type": "code",
   "execution_count": 202,
   "metadata": {},
   "outputs": [
    {
     "name": "stdout",
     "output_type": "stream",
     "text": [
      "The 0 line.\n",
      "The 1 line.\n",
      "The 2 line.\n",
      "The 3 line.\n",
      "The 4 line.\n",
      "The 5 line.\n",
      "The 6 line.\n",
      "The 7 line.\n",
      "The 8 line.\n",
      "The 9 line.\n"
     ]
    }
   ],
   "source": [
    "# File operations      _1_\n",
    "def create_text():\n",
    "    with open('Data/lines.txt', 'wt') as f:\n",
    "        for i in range(10):\n",
    "            f.write(f'The {i} line.')\n",
    "            f.write('\\n')\n",
    "        f.close()\n",
    "\n",
    "def main():\n",
    "    create_text()\n",
    "    f = open('Data/lines.txt', 'rt')\n",
    "    for line in f:\n",
    "        print(line.rstrip())\n",
    "        \n",
    "if __name__ == '__main__': main()"
   ]
  },
  {
   "cell_type": "code",
   "execution_count": 203,
   "metadata": {},
   "outputs": [
    {
     "name": "stdout",
     "output_type": "stream",
     "text": [
      "...........\n",
      "done.\n"
     ]
    }
   ],
   "source": [
    "# File operations    _2_\n",
    "def main():\n",
    "    infile = open('data/cat.jpg', 'rb')\n",
    "    outfile = open('data/cat_copy.jpg', 'wb')\n",
    "    while True:\n",
    "        buf = infile.read(10240) # Assume thaht your system has very limited memory.\n",
    "        if buf:\n",
    "            outfile.write(buf)\n",
    "            print('.', end='', flush=True)\n",
    "        else: break\n",
    "    outfile.close()\n",
    "    print('\\ndone.')\n",
    "\n",
    "if __name__ == '__main__': main()"
   ]
  },
  {
   "cell_type": "code",
   "execution_count": 204,
   "metadata": {},
   "outputs": [
    {
     "name": "stdout",
     "output_type": "stream",
     "text": [
      "Name: data/scores.txt\n",
      "Mode: w\n",
      "Reading...GBJ : 100\n",
      "\n",
      "Reading again GBJ : 100\n",
      "\n",
      "My one line: KHD : 99\n",
      "\n",
      "GBJ : 100\n",
      "\n",
      "KHD : 99\n",
      "\n",
      "PDJ : 89\n",
      "b'Save this'\n"
     ]
    }
   ],
   "source": [
    "# File operations    _3_\n",
    "\"\"\"In order to read the file, we must set the seek pointer back to 0, however, if we close the\n",
    "file, it is automatically reset to 0.\"\"\"\n",
    "myFile = open(\"data/scores.txt\", \"w\")\n",
    "\n",
    "print(\"Name: \" + myFile.name)\n",
    "print(\"Mode: \" + myFile.mode)\n",
    "\n",
    "myFile.write(\"GBJ : 100\\nKHD : 99\\nBBB : 89\")\n",
    "myFile.close()\n",
    "\n",
    "myFile = open(\"data/scores.txt\", \"r\")\n",
    "print(\"Reading...\" + myFile.read(10))\n",
    "myFile.seek(0)    # or myFile.close()\n",
    "print(\"Reading again \" + myFile.read(10))\n",
    "\n",
    "print(\"My one line: \" + myFile.readline())\n",
    "myFile.seek(0)\n",
    "\n",
    "for line in myFile:\n",
    "    newHighScorer = line.replace(\"BBB\", \"PDJ\")\n",
    "    print(newHighScorer)\n",
    "\n",
    "myFile.close()\n",
    "\n",
    "import tempfile\n",
    "\n",
    "tempFile = tempfile.TemporaryFile()\n",
    "\n",
    "tempFile.write(b\"Save this\")\n",
    "tempFile.seek(0)\n",
    "\n",
    "print(tempFile.read())\n",
    "tempFile.close()\n"
   ]
  },
  {
   "cell_type": "code",
   "execution_count": 205,
   "metadata": {},
   "outputs": [
    {
     "name": "stdout",
     "output_type": "stream",
     "text": [
      "{'id': '06', 'name': 'Kemal', 'department': 'Engineering'}\n",
      "<class 'dict'>\n",
      "\n",
      "\n",
      "{\n",
      "    \"id\": \"06\",\n",
      "    \"name\": \"Kemal\",\n",
      "    \"department\": \"Engineering\"\n",
      "}\n",
      "<class 'str'>\n"
     ]
    }
   ],
   "source": [
    "# File operations    _4_\n",
    "import json\n",
    "employee = '{\"id\":\"06\", \"name\": \"Kemal\", \"department\": \"Engineering\"}' # json string\n",
    "employee_dict = json.loads(employee)\n",
    "print(employee_dict)\n",
    "print(type(employee_dict))\n",
    "print(\"\\n\")\n",
    "\n",
    "json_object = json.dumps(employee_dict, indent = 4)\n",
    "print(json_object)\n",
    "print(type(json_object))"
   ]
  },
  {
   "cell_type": "code",
   "execution_count": 206,
   "metadata": {},
   "outputs": [
    {
     "name": "stdout",
     "output_type": "stream",
     "text": [
      "{'Subjects': {'Maths': 85, 'Physics': 90}}\n",
      "None\n",
      "{'Subjects': {'Maths': 85, 'Physics': 90}}\n"
     ]
    }
   ],
   "source": [
    "# File operations    _5_\n",
    "var = {\n",
    "        \"Subjects\": {\n",
    "                    \"Maths\":85,\n",
    "                    \"Physics\":90\n",
    "        }\n",
    "}\n",
    "print(var)\n",
    "\n",
    "with open(\"sample.json\", \"w\") as p:\n",
    "    data = json.dump(var, p)\n",
    "    print(data)\n",
    "\n",
    "with open(\"sample.json\", 'r') as read_it:\n",
    "    data = json.load(read_it)\n",
    "    print(data)"
   ]
  },
  {
   "cell_type": "code",
   "execution_count": 207,
   "metadata": {},
   "outputs": [
    {
     "name": "stdout",
     "output_type": "stream",
     "text": [
      "Second element = 2\n",
      "An error occurred\n"
     ]
    }
   ],
   "source": [
    "# Exception Handling       _1_\n",
    "a = [1, 2, 3]\n",
    "try:\n",
    "    print(\"Second element = %d\" %(a[1]))\n",
    "    print(\"Fourth element = %d\" %(a[3]))\n",
    "except:\n",
    "    print(\"An error occurred\")"
   ]
  },
  {
   "cell_type": "code",
   "execution_count": 208,
   "metadata": {},
   "outputs": [
    {
     "name": "stdout",
     "output_type": "stream",
     "text": [
      "-5.0\n",
      "ZeroDivisonError\n"
     ]
    }
   ],
   "source": [
    "# Exception Handling       _2_\n",
    "def AbyB(a, b):\n",
    "    try:\n",
    "        c = ((a+b) // (a-b))\n",
    "    except ZeroDivisionError:\n",
    "        print(\"ZeroDivisonError\")\n",
    "    else:\n",
    "        print(c)\n",
    "\n",
    "AbyB(2.0, 3.0)\n",
    "AbyB(3.0, 3.0)"
   ]
  },
  {
   "cell_type": "code",
   "execution_count": 166,
   "metadata": {},
   "outputs": [
    {
     "name": "stdout",
     "output_type": "stream",
     "text": [
      "Can't divide by zero\n",
      "This is always executed\n"
     ]
    }
   ],
   "source": [
    "# Exception Handling       _3_\n",
    "try:\n",
    "    k = 5 // 0\n",
    "    print(k)\n",
    "except ZeroDivisionError:\n",
    "    print(\"Can't divide by zero\")\n",
    "finally:\n",
    "    print(\"This is always executed\")"
   ]
  },
  {
   "cell_type": "code",
   "execution_count": 209,
   "metadata": {},
   "outputs": [
    {
     "name": "stdout",
     "output_type": "stream",
     "text": [
      "win32 \n",
      "\n",
      "nt \n",
      "\n",
      "c:\\Users\\90551\\Anaconda3;C:\\Users\\90551\\Anaconda3;C:\\Users\\90551\\Anaconda3\\Library\\mingw-w64\\bin;C:\\Users\\90551\\Anaconda3\\Library\\usr\\bin;C:\\Users\\90551\\Anaconda3\\Library\\bin;C:\\Users\\90551\\Anaconda3\\Scripts;C:\\Users\\90551\\Anaconda3\\bin;C:\\Users\\90551\\Anaconda3\\condabin;C:\\Windows\\System32;C:\\Users\\90551\\OpenCV\\build\\include;C:\\Users\\90551\\OpenCV\\build\\install\\x64\\vc15\\bin;C:\\Users\\90551\\OpenCV\\build\\install\\x64\\vc15\\lib;C:\\Users\\90551\\OpenCV\\build\\bin;C:\\Program Files\\Git\\cmd;C:\\Windows\\System32\\WindowsPowerShell\\v1.0;C:\\Windows\\System32;C:\\Users\\90551\\AppData\\Local\\Programs\\Microsoft VS Code\\bin;C:\\Windows\\System32\\WindowsPowerShell\\v1.0;. \n",
      "\n",
      "c:\\Users\\90551\\OneDrive\\Masaüstü\\DERS\\Çalışmalarım\\Python_Developer_Roadmap\\Python_Developer_Roadmap \n",
      "\n",
      "7bc8b50a52c2f9a84826483f36a07ae301c5a7682a1328690c\n"
     ]
    }
   ],
   "source": [
    "# Standard modules\n",
    "import sys\n",
    "import os\n",
    "\n",
    "def main():\n",
    "    v = sys.platform\n",
    "    print(v,'\\n')\n",
    "    v = os.name\n",
    "    print(v,'\\n')\n",
    "    v = os.getenv('PATH')\n",
    "    print(v,'\\n')\n",
    "    v = os.getcwd()\n",
    "    print(v,'\\n')\n",
    "    v = os.urandom(25).hex()\n",
    "    print(v)\n",
    "\n",
    "if __name__ == '__main__': main()"
   ]
  },
  {
   "cell_type": "code",
   "execution_count": 210,
   "metadata": {},
   "outputs": [
    {
     "name": "stdout",
     "output_type": "stream",
     "text": [
      "w1[4] = i -> 105 and w2[4] = y -> 121\n",
      "True\n",
      "True -> 1 False -> 0\n",
      "True\n"
     ]
    }
   ],
   "source": [
    "# Comparison \n",
    "w1 = \"Jennifer\"\n",
    "w2 = 'Jenny'\n",
    "\n",
    "def first_mismatch(w1, w2):\n",
    "    w1 = list(w1)\n",
    "    w2 = list(w2)\n",
    "\n",
    "    if len(w2) > len(w1):\n",
    "        length = len(w1)\n",
    "    else:\n",
    "        length = len(w2)\n",
    "\n",
    "    for i in range(length):\n",
    "        if w1[i] != w2[i]:\n",
    "            print(f'w1[{i}] = {w1[i]} -> {ord(w1[i])} and w2[{i}] = {w2[i]} -> {ord(w2[i])}')\n",
    "\n",
    "first_mismatch(w1,w2)\n",
    "print(w2 > w1)\n",
    "print(f\"True -> {int(True)} False -> {int(False)}\")\n",
    "print(True > False)"
   ]
  },
  {
   "cell_type": "code",
   "execution_count": 211,
   "metadata": {},
   "outputs": [
    {
     "name": "stdout",
     "output_type": "stream",
     "text": [
      "6\n",
      "6\n",
      "3\n",
      "4\n",
      "-1\n",
      "[-15, -10, -2, 0, 1, 12]\n",
      "['Jerry', 'Linda', 'Sue']\n",
      "['Sue', 'jerry', 'linda']\n",
      "['Ankara', 'city', 'favorite', 'is', 'My']\n",
      "[12, 1, 0, -2, -10, -15]\n",
      "[432, 231, 123]\n",
      "JKC\n",
      "[('alice', 'B', 12), ('eliza', 'A', 16), ('tae', 'C', 15)]\n",
      "[('eliza', 'A', 16), ('alice', 'B', 12), ('tae', 'C', 15)]\n"
     ]
    }
   ],
   "source": [
    "# Built-in Functions\n",
    "firstName = \"Taylor\"\n",
    "print(len(firstName))\n",
    "print(firstName.__len__())\n",
    "\n",
    "myGPA = 3.7\n",
    "print(int(myGPA))\n",
    "print(round(myGPA))\n",
    "\n",
    "neg = -1.2\n",
    "print(round(neg))\n",
    "\n",
    "pointsInaGame = [0, -10, -15, -2, 1, 12]\n",
    "sortedGame =sorted(pointsInaGame)\n",
    "print(sortedGame)\n",
    "\n",
    "children = [\"Sue\", \"Jerry\", \"Linda\"]\n",
    "print(sorted(children))\n",
    "\n",
    "children = [\"Sue\", \"jerry\", \"linda\"]\n",
    "print(sorted(children))\n",
    "\n",
    "print(sorted(\"My favorite city is Ankara\".split(), key=str.upper))\n",
    "\n",
    "print(sorted(pointsInaGame, reverse=True))\n",
    "\n",
    "leaderBoard = {231: \"CKL\", 123: \"ABC\", 432: \"JKC\" }\n",
    "print(sorted(leaderBoard, reverse = True))\n",
    "print(leaderBoard.get(432))\n",
    "\n",
    "students = [ ('alice', 'B', 12), ('eliza', 'A', 16), ('tae', 'C', 15)]\n",
    "print(sorted(students, key=lambda student:student[0]))\n",
    "print(sorted(students, key=lambda student:student[1]))\n"
   ]
  },
  {
   "cell_type": "code",
   "execution_count": 212,
   "metadata": {},
   "outputs": [
    {
     "name": "stdout",
     "output_type": "stream",
     "text": [
      "3.141592653589793\n",
      "2.718281828459045\n",
      "nan\n",
      "inf\n",
      "-inf\n",
      "0.7071067811865476\n",
      "0.7071067811865476\n",
      "11\n",
      "10\n",
      "4\n"
     ]
    }
   ],
   "source": [
    "# Math module\n",
    "import math\n",
    "print(math.pi)\n",
    "print(math.e)\n",
    "print(math.nan)\n",
    "print(math.inf)\n",
    "print(-math.inf)\n",
    "print(math.cos(math.pi / 4))\n",
    "print(math.sin(math.pi / 4))\n",
    "print(math.ceil(10.3))\n",
    "print(math.floor(10.3))\n",
    "print(math.gcd(52,8)) # Greates Commont Denominator\n"
   ]
  },
  {
   "cell_type": "code",
   "execution_count": 216,
   "metadata": {},
   "outputs": [
    {
     "name": "stdout",
     "output_type": "stream",
     "text": [
      "50\n",
      "51\n",
      "52\n",
      "53\n",
      "54\n",
      "55\n",
      "56\n",
      "57\n",
      "58\n",
      "59\n",
      "60\n"
     ]
    }
   ],
   "source": [
    "# Iterators         _1_\n",
    "import itertools\n",
    "\n",
    "for x in itertools.count(50):    # Infinite Counting\n",
    "    print(x)      \n",
    "    if x == 60:\n",
    "        break"
   ]
  },
  {
   "cell_type": "code",
   "execution_count": 217,
   "metadata": {},
   "outputs": [
    {
     "name": "stdout",
     "output_type": "stream",
     "text": [
      "R\n",
      "A\n",
      "C\n",
      "E\n",
      "C\n",
      "A\n",
      "R\n",
      "R\n",
      "A\n",
      "C\n",
      "E\n",
      "C\n"
     ]
    }
   ],
   "source": [
    "# Iterators       _2_\n",
    "x = 0\n",
    "for c in itertools.cycle(\"RACECAR\"):         # Infinite Cycling\n",
    "    print(c)\n",
    "    x = x + 1\n",
    "    if x > 11:\n",
    "        break"
   ]
  },
  {
   "cell_type": "code",
   "execution_count": 218,
   "metadata": {},
   "outputs": [
    {
     "name": "stdout",
     "output_type": "stream",
     "text": [
      "True\n",
      "True\n",
      "True\n",
      "True\n",
      "True\n",
      "True\n",
      "True\n",
      "True\n",
      "True\n",
      "True\n",
      "True\n",
      "True\n",
      "True\n",
      "True\n"
     ]
    }
   ],
   "source": [
    "# Iterators     _3_\n",
    "x = 0\n",
    "for c in itertools.repeat(True):         \n",
    "    print(c)\n",
    "    x = x + 1\n",
    "    if x > 13:\n",
    "        break"
   ]
  },
  {
   "cell_type": "code",
   "execution_count": 219,
   "metadata": {},
   "outputs": [
    {
     "name": "stdout",
     "output_type": "stream",
     "text": [
      "(1, 2, 3)\n",
      "(1, 3, 2)\n",
      "(2, 1, 3)\n",
      "(2, 3, 1)\n",
      "(3, 1, 2)\n",
      "(3, 2, 1)\n",
      "('Barb', 'Karen', 'Erin')\n",
      "('Barb', 'Erin', 'Karen')\n",
      "('Karen', 'Barb', 'Erin')\n",
      "('Karen', 'Erin', 'Barb')\n",
      "('Erin', 'Barb', 'Karen')\n",
      "('Erin', 'Karen', 'Barb')\n"
     ]
    }
   ],
   "source": [
    "# Iterators        _4_\n",
    "election = {1: 'Barb', 2: 'Karen', 3: 'Erin'}\n",
    "for p in itertools.permutations(election):\n",
    "    print(p)\n",
    "\n",
    "for p in itertools.permutations(election.values()):\n",
    "    print(p)"
   ]
  },
  {
   "cell_type": "code",
   "execution_count": 220,
   "metadata": {},
   "outputs": [
    {
     "name": "stdout",
     "output_type": "stream",
     "text": [
      "('Red', 'Blue')\n",
      "('Red', 'Purple')\n",
      "('Red', 'Orange')\n",
      "('Red', 'Yellow')\n",
      "('Red', 'Pink')\n",
      "('Blue', 'Purple')\n",
      "('Blue', 'Orange')\n",
      "('Blue', 'Yellow')\n",
      "('Blue', 'Pink')\n",
      "('Purple', 'Orange')\n",
      "('Purple', 'Yellow')\n",
      "('Purple', 'Pink')\n",
      "('Orange', 'Yellow')\n",
      "('Orange', 'Pink')\n",
      "('Yellow', 'Pink')\n"
     ]
    }
   ],
   "source": [
    "# Iterators    _5_\n",
    "colorsForPainting = [\"Red\", \"Blue\", \"Purple\", \"Orange\", \"Yellow\", \"Pink\"]\n",
    "for c in itertools.combinations(colorsForPainting, 2):\n",
    "    print(c)"
   ]
  },
  {
   "cell_type": "code",
   "execution_count": 221,
   "metadata": {},
   "outputs": [
    {
     "name": "stdout",
     "output_type": "stream",
     "text": [
      "3>>>2>>>1>>>Start\n"
     ]
    }
   ],
   "source": [
    "# Input/Output     _1_\n",
    "import time \n",
    "count_seconds = 3\n",
    "for i in reversed(range(count_seconds + 1)):\n",
    "    if i > 0:\n",
    "        print(i, end = '>>>', flush = True)\n",
    "        time.sleep(1)\n",
    "    else:\n",
    "        print('Start') "
   ]
  },
  {
   "cell_type": "code",
   "execution_count": 222,
   "metadata": {},
   "outputs": [
    {
     "data": {
      "text/plain": [
       "'Hello!\\n'"
      ]
     },
     "execution_count": 222,
     "metadata": {},
     "output_type": "execute_result"
    }
   ],
   "source": [
    "# Input/Output     _2_\n",
    "import io\n",
    "\n",
    "dummy_file = io.StringIO()\n",
    "print(\"Hello!\", file=dummy_file)\n",
    "dummy_file.getvalue()"
   ]
  },
  {
   "cell_type": "code",
   "execution_count": 223,
   "metadata": {},
   "outputs": [
    {
     "name": "stdout",
     "output_type": "stream",
     "text": [
      "1 2 3 4 5 6\n"
     ]
    }
   ],
   "source": [
    "# Input/Output     _3_\n",
    "l = [1,2,3,4,5,6]\n",
    "print(*l)"
   ]
  },
  {
   "cell_type": "code",
   "execution_count": 224,
   "metadata": {},
   "outputs": [
    {
     "name": "stdout",
     "output_type": "stream",
     "text": [
      "###########I love programming###########\n",
      "I love programming----------------------\n",
      "----------------------I love programming\n"
     ]
    }
   ],
   "source": [
    "# Input/Output     _4_\n",
    "cstr = \"I love programming\"\n",
    "print(cstr.center(40, \"#\"))\n",
    "print(cstr.ljust(40, \"-\"))\n",
    "print(cstr.rjust(40, \"-\"))"
   ]
  },
  {
   "cell_type": "code",
   "execution_count": 225,
   "metadata": {},
   "outputs": [
    {
     "name": "stdout",
     "output_type": "stream",
     "text": [
      "Mon Monday 27\n",
      "Jun June 06\n",
      "Mon June 27\n",
      "00 : 56 : 04 AM\n",
      "22 2022\n",
      "2022-06-29\n",
      "2022-06-08\n",
      "     June 2022\n",
      "Mo Tu We Th Fr Sa Su\n",
      "       1  2  3  4  5\n",
      " 6  7  8  9 10 11 12\n",
      "13 14 15 16 17 18 19\n",
      "20 21 22 23 24 25 26\n",
      "27 28 29 30\n",
      "\n"
     ]
    }
   ],
   "source": [
    "#  Date, Time, textwrap\n",
    "from datetime import datetime, timedelta\n",
    "import calendar\n",
    "import textwrap\n",
    "\n",
    "now = datetime.now()\n",
    "\n",
    "print(now.strftime(\"%a %A %d\"))\n",
    "\n",
    "print(now.strftime(\"%b %B %m\"))\n",
    "\n",
    "print(now.strftime(\"%a %B %d\"))\n",
    "\n",
    "print(now.strftime(\"%H : %M : %S %p\"))\n",
    "\n",
    "print(now.strftime(\"%y %Y\"))\n",
    "\n",
    "testDate  = now + timedelta(days = 2)\n",
    "print(testDate.date())\n",
    "print((testDate - timedelta(weeks=3)).date())\n",
    "\n",
    "cal  = calendar.month(2022,6)\n",
    "print(cal)"
   ]
  },
  {
   "cell_type": "code",
   "execution_count": 226,
   "metadata": {},
   "outputs": [
    {
     "name": "stdout",
     "output_type": "stream",
     "text": [
      "No Dedent:\n",
      "   Learning can happen anywhere with our apps on your computer, mobile\n",
      "device,  and TV, featuring enhanced navigation and faster streaming\n",
      "for anytime larning. Limitless learning, limitless possibilities.\n",
      "\n",
      "Dedent:\n",
      "Learning can happen anywhere with our apps on your computer, mobile device, \n",
      "and TV, featuring enhanced navigation and faster streaming for anytime larning. Limitless learning,\n",
      "limitless possibilities.\n",
      "\n",
      "Fill:\n",
      "Learning can happen anywhere with our apps on your\n",
      "computer, mobile device,  and TV, featuring\n",
      "enhanced navigation and faster streaming for\n",
      "anytime larning. Limitless learning, limitless\n",
      "possibilities.\n",
      "\n",
      "Controlling Indent:\n",
      "  Learning can happen anywhere with our apps on your computer, mobile\n",
      "device,  and TV, featuring enhanced navigation and faster streaming\n",
      "for anytime larning. Limitless learning, limitless possibilities.\n",
      "\n",
      "Shortening Text:\n",
      "Learning can happen anywhere...\n"
     ]
    }
   ],
   "source": [
    "# Text wrap\n",
    "websiteText = \"\"\"   Learning can happen anywhere with our apps on your computer, mobile device, \n",
    "and TV, featuring enhanced navigation and faster streaming for anytime larning. Limitless learning,\n",
    "limitless possibilities.\"\"\"\n",
    "\n",
    "print(\"No Dedent:\")\n",
    "print(textwrap.fill(websiteText))\n",
    "\n",
    "print(\"\\nDedent:\")\n",
    "print(textwrap.dedent(websiteText).strip())\n",
    "\n",
    "text = textwrap.dedent(websiteText).strip()\n",
    "\n",
    "print(\"\\nFill:\")\n",
    "print(textwrap.fill(text, width=50))\n",
    "\n",
    "print(\"\\nControlling Indent:\")\n",
    "print(textwrap.fill(text, initial_indent=\"  \", subsequent_indent=\"\"))\n",
    "\n",
    "print(\"\\nShortening Text:\")\n",
    "print(textwrap.shorten(text, width=35, placeholder=\"...\"))"
   ]
  }
 ],
 "metadata": {
  "kernelspec": {
   "display_name": "Python 3.7.4 ('base')",
   "language": "python",
   "name": "python3"
  },
  "language_info": {
   "codemirror_mode": {
    "name": "ipython",
    "version": 3
   },
   "file_extension": ".py",
   "mimetype": "text/x-python",
   "name": "python",
   "nbconvert_exporter": "python",
   "pygments_lexer": "ipython3",
   "version": "3.7.4"
  },
  "orig_nbformat": 4,
  "vscode": {
   "interpreter": {
    "hash": "c110e616a8f73405e0ee81438816d379362374c85663995d8e3818cdc5bb9400"
   }
  }
 },
 "nbformat": 4,
 "nbformat_minor": 2
}
