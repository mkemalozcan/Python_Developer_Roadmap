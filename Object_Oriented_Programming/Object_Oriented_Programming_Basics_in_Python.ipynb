{
 "cells": [
  {
   "attachments": {},
   "cell_type": "markdown",
   "metadata": {},
   "source": [
    "#### Procedural Programming                       \n",
    "- Code as a sequence of steps                  \n",
    "- Great for data analysis and scripts\n",
    "\n",
    "#### Object-Oriented Programming\n",
    "- Code as interactions of objects\n",
    "- Great for building frameworks and tools\n",
    "- Maintainable and reusable code"
   ]
  },
  {
   "attachments": {},
   "cell_type": "markdown",
   "metadata": {},
   "source": [
    "##### OOP Fundamentals\n",
    "Object = state + behaviour\n",
    "<br>\n",
    "Encapsualtion - bundling data with code operating on it\n",
    "<br>\n",
    "Class: blueprint for objects outlining possible states and behaviors\n",
    "<br>\n",
    "Everything in Pyhton is an object\n",
    "<br>\n",
    "Every object has a class\n",
    "<br>\n",
    "Use type() to find the class\n",
    "\n",
    "   _Object_       ->              _Class_\n",
    "- 5                     ->         int\n",
    "- \"Hello\"               ->         str\n",
    "- pd.DataFrame()        ->         DataFrame\n",
    "- np.mean               ->         function\n"
   ]
  },
  {
   "attachments": {},
   "cell_type": "markdown",
   "metadata": {},
   "source": [
    "State <-> Attributes<br>\n",
    "Behavior <-> Methods<br>\n",
    "Object = attributes + methods<br>\n",
    "attribute <-> variables <-> obj.my_attribute <br>\n",
    "method <-> function() <-> obj.my_method()"
   ]
  },
  {
   "cell_type": "code",
   "execution_count": 1,
   "metadata": {},
   "outputs": [
    {
     "data": {
      "text/plain": [
       "['T',\n",
       " '__abs__',\n",
       " '__add__',\n",
       " '__and__',\n",
       " '__array__',\n",
       " '__array_finalize__',\n",
       " '__array_function__',\n",
       " '__array_interface__',\n",
       " '__array_prepare__',\n",
       " '__array_priority__',\n",
       " '__array_struct__',\n",
       " '__array_ufunc__',\n",
       " '__array_wrap__',\n",
       " '__bool__',\n",
       " '__class__',\n",
       " '__class_getitem__',\n",
       " '__complex__',\n",
       " '__contains__',\n",
       " '__copy__',\n",
       " '__deepcopy__',\n",
       " '__delattr__',\n",
       " '__delitem__',\n",
       " '__dir__',\n",
       " '__divmod__',\n",
       " '__dlpack__',\n",
       " '__dlpack_device__',\n",
       " '__doc__',\n",
       " '__eq__',\n",
       " '__float__',\n",
       " '__floordiv__',\n",
       " '__format__',\n",
       " '__ge__',\n",
       " '__getattribute__',\n",
       " '__getitem__',\n",
       " '__gt__',\n",
       " '__hash__',\n",
       " '__iadd__',\n",
       " '__iand__',\n",
       " '__ifloordiv__',\n",
       " '__ilshift__',\n",
       " '__imatmul__',\n",
       " '__imod__',\n",
       " '__imul__',\n",
       " '__index__',\n",
       " '__init__',\n",
       " '__init_subclass__',\n",
       " '__int__',\n",
       " '__invert__',\n",
       " '__ior__',\n",
       " '__ipow__',\n",
       " '__irshift__',\n",
       " '__isub__',\n",
       " '__iter__',\n",
       " '__itruediv__',\n",
       " '__ixor__',\n",
       " '__le__',\n",
       " '__len__',\n",
       " '__lshift__',\n",
       " '__lt__',\n",
       " '__matmul__',\n",
       " '__mod__',\n",
       " '__mul__',\n",
       " '__ne__',\n",
       " '__neg__',\n",
       " '__new__',\n",
       " '__or__',\n",
       " '__pos__',\n",
       " '__pow__',\n",
       " '__radd__',\n",
       " '__rand__',\n",
       " '__rdivmod__',\n",
       " '__reduce__',\n",
       " '__reduce_ex__',\n",
       " '__repr__',\n",
       " '__rfloordiv__',\n",
       " '__rlshift__',\n",
       " '__rmatmul__',\n",
       " '__rmod__',\n",
       " '__rmul__',\n",
       " '__ror__',\n",
       " '__rpow__',\n",
       " '__rrshift__',\n",
       " '__rshift__',\n",
       " '__rsub__',\n",
       " '__rtruediv__',\n",
       " '__rxor__',\n",
       " '__setattr__',\n",
       " '__setitem__',\n",
       " '__setstate__',\n",
       " '__sizeof__',\n",
       " '__str__',\n",
       " '__sub__',\n",
       " '__subclasshook__',\n",
       " '__truediv__',\n",
       " '__xor__',\n",
       " 'all',\n",
       " 'any',\n",
       " 'argmax',\n",
       " 'argmin',\n",
       " 'argpartition',\n",
       " 'argsort',\n",
       " 'astype',\n",
       " 'base',\n",
       " 'byteswap',\n",
       " 'choose',\n",
       " 'clip',\n",
       " 'compress',\n",
       " 'conj',\n",
       " 'conjugate',\n",
       " 'copy',\n",
       " 'ctypes',\n",
       " 'cumprod',\n",
       " 'cumsum',\n",
       " 'data',\n",
       " 'diagonal',\n",
       " 'dot',\n",
       " 'dtype',\n",
       " 'dump',\n",
       " 'dumps',\n",
       " 'fill',\n",
       " 'flags',\n",
       " 'flat',\n",
       " 'flatten',\n",
       " 'getfield',\n",
       " 'imag',\n",
       " 'item',\n",
       " 'itemset',\n",
       " 'itemsize',\n",
       " 'max',\n",
       " 'mean',\n",
       " 'min',\n",
       " 'nbytes',\n",
       " 'ndim',\n",
       " 'newbyteorder',\n",
       " 'nonzero',\n",
       " 'partition',\n",
       " 'prod',\n",
       " 'ptp',\n",
       " 'put',\n",
       " 'ravel',\n",
       " 'real',\n",
       " 'repeat',\n",
       " 'reshape',\n",
       " 'resize',\n",
       " 'round',\n",
       " 'searchsorted',\n",
       " 'setfield',\n",
       " 'setflags',\n",
       " 'shape',\n",
       " 'size',\n",
       " 'sort',\n",
       " 'squeeze',\n",
       " 'std',\n",
       " 'strides',\n",
       " 'sum',\n",
       " 'swapaxes',\n",
       " 'take',\n",
       " 'tobytes',\n",
       " 'tofile',\n",
       " 'tolist',\n",
       " 'tostring',\n",
       " 'trace',\n",
       " 'transpose',\n",
       " 'var',\n",
       " 'view']"
      ]
     },
     "execution_count": 1,
     "metadata": {},
     "output_type": "execute_result"
    }
   ],
   "source": [
    "import numpy as np\n",
    "a = np.array([1,2,3,4])\n",
    "dir(a)"
   ]
  },
  {
   "cell_type": "code",
   "execution_count": 3,
   "metadata": {},
   "outputs": [
    {
     "name": "stdout",
     "output_type": "stream",
     "text": [
      " I am Researcher Kemal\n"
     ]
    }
   ],
   "source": [
    "class Customer:\n",
    "    def identify(self, name):\n",
    "        print(\" I am Researcher \" + name)\n",
    "\n",
    "cust = Customer()\n",
    "cust.identify(\"Kemal\")"
   ]
  },
  {
   "attachments": {},
   "cell_type": "markdown",
   "metadata": {},
   "source": [
    "classes are templates, how to refer data of a particular object?<br>\n",
    "_self_ is a stand-in for a particular object used in class definition<br>\n",
    "should be the first argument of any method<br>\n",
    "Python will take care of _self_ when method called from an object:<br>\n",
    "cust.identify(\"Kemal\") will be interpreted as Customer.identiy(cust, \"Kemal\")\n",
    "\n",
    "\n"
   ]
  },
  {
   "cell_type": "code",
   "execution_count": 4,
   "metadata": {},
   "outputs": [
    {
     "name": "stdout",
     "output_type": "stream",
     "text": [
      "Kemal ÖZCAN\n"
     ]
    }
   ],
   "source": [
    "# Add an attribute to class\n",
    "class Customer:\n",
    "    # set the name attribute of an object to new_name\n",
    "    def set_name(self, new_name):\n",
    "        # Create an attribute by assigning a value\n",
    "        self.name = new_name\n",
    "\n",
    "cust = Customer()        # .name doesn't exist here yet\n",
    "cust.set_name(\"Kemal ÖZCAN\") # .name is created and set to \"Kemal ÖZCAN\"\n",
    "print(cust.name)         # name can be used"
   ]
  },
  {
   "cell_type": "code",
   "execution_count": 6,
   "metadata": {},
   "outputs": [
    {
     "name": "stdout",
     "output_type": "stream",
     "text": [
      "I am ResearcherKemal ÖZCAN\n"
     ]
    },
    {
     "data": {
      "text/plain": [
       "'Kemal ÖZCAN'"
      ]
     },
     "execution_count": 6,
     "metadata": {},
     "output_type": "execute_result"
    }
   ],
   "source": [
    "class Customer:\n",
    "    def set_name(self, new_name):\n",
    "        self.name = new_name\n",
    "    # Using .name from the object it*self*\n",
    "    def identify(self):\n",
    "        print(\"I am Researcher\" + self.name)\n",
    "\n",
    "cust = Customer()\n",
    "cust.set_name(\"Kemal ÖZCAN\")\n",
    "cust.identify()\n",
    "cust.name"
   ]
  },
  {
   "cell_type": "code",
   "execution_count": 7,
   "metadata": {},
   "outputs": [
    {
     "name": "stdout",
     "output_type": "stream",
     "text": [
      "The __init__ method was called\n",
      "Kemal ÖZCAN\n"
     ]
    }
   ],
   "source": [
    "# Constructor __init__() method is called every time an object is created.\n",
    "class Customer:\n",
    "    def __init__(self, name):\n",
    "        self.name = name # Create the .name attribute and set it to name parameter\n",
    "        print(\"The __init__ method was called\")\n",
    "\n",
    "cust = Customer(\"Kemal ÖZCAN\") # __init__ is implicitly called\n",
    "print(cust.name)\n"
   ]
  },
  {
   "attachments": {},
   "cell_type": "markdown",
   "metadata": {},
   "source": [
    "Best Practices <br>\n",
    "- Initialize attributes in __init__()\n",
    "- Naming : CamelCase for class, lower_snake_case for functions and attributes\n",
    "- Keep self as self\n",
    "- Use docstrings"
   ]
  },
  {
   "attachments": {},
   "cell_type": "markdown",
   "metadata": {},
   "source": [
    "##### Inheritance and Polymorphism"
   ]
  },
  {
   "cell_type": "code",
   "execution_count": null,
   "metadata": {},
   "outputs": [],
   "source": [
    "class Employee:\n",
    "    # Define a class attribute\n",
    "    MIN_SALARY = 30000       # no self\n",
    "    def __init__(self, name, salary):\n",
    "        self.name = name\n",
    "        # Use class name to access class attribute\n",
    "        if salary >= Employee.MIN_SALARY:\n",
    "            self.salary = salary\n",
    "        else:\n",
    "            self.salary = Employee.MIN_SALARY\n"
   ]
  },
  {
   "cell_type": "code",
   "execution_count": null,
   "metadata": {},
   "outputs": [],
   "source": [
    "# MIN_SALARY is shared among all instances\n",
    "# Don't use self to define class attribute\n",
    "# Use ClassName.ATTR_NAME to access the class attribute value"
   ]
  },
  {
   "attachments": {},
   "cell_type": "markdown",
   "metadata": {},
   "source": [
    "\n",
    "Class attributes: Global constants related to the class\n",
    "- minimal/maximal values for attributes\n",
    "- commonly used values and constants, e.g. pi for a Circle class<br>\n",
    "\n",
    "Class methods<br>\n",
    "- Methods are already \"shared\": same code for every instance\n",
    "- Class methods can't use instance-level data\n",
    "\n",
    "\n"
   ]
  },
  {
   "cell_type": "code",
   "execution_count": 8,
   "metadata": {},
   "outputs": [],
   "source": [
    "class MyClass:\n",
    "    @classmethod    # use decorator to declare a class method\n",
    "    def my_awesome_method(cls, args):  # cls argument refers to the class\n",
    "        # Do stuff here\n",
    "        # Can't use any instance attributes\n",
    "        pass"
   ]
  },
  {
   "cell_type": "code",
   "execution_count": 11,
   "metadata": {},
   "outputs": [],
   "source": [
    "args = \"somearguments\"\n",
    "MyClass.my_awesome_method(args)"
   ]
  },
  {
   "cell_type": "code",
   "execution_count": null,
   "metadata": {},
   "outputs": [],
   "source": [
    "# Why do we use Class methods ?\n",
    "# 1) Alternative constructors\n",
    "# Can only have one __init__()\n",
    "# Use class methods to create objects\n",
    "# Use return to return an object\n",
    "# cls(...) will call __init__(...)\n",
    "class Employee:\n",
    "    MIN_SALARY = 30000\n",
    "    def __init__(self, name, salary=30000):\n",
    "        self.name = name\n",
    "        if salary>=Employee.MIN_SALARY:\n",
    "            self.salary = salary\n",
    "        else:\n",
    "            self.salary = Employee.MIN_SALARY\n",
    "    @classmethod\n",
    "    def from_file(cls, filename):\n",
    "        with open(filename, \"r\") as f:\n",
    "            name = f.readline()\n",
    "        return cls(name)\n"
   ]
  },
  {
   "cell_type": "code",
   "execution_count": null,
   "metadata": {},
   "outputs": [],
   "source": []
  },
  {
   "cell_type": "code",
   "execution_count": null,
   "metadata": {},
   "outputs": [],
   "source": []
  },
  {
   "cell_type": "code",
   "execution_count": null,
   "metadata": {},
   "outputs": [],
   "source": []
  },
  {
   "cell_type": "code",
   "execution_count": null,
   "metadata": {},
   "outputs": [],
   "source": []
  },
  {
   "cell_type": "code",
   "execution_count": null,
   "metadata": {},
   "outputs": [],
   "source": []
  },
  {
   "cell_type": "code",
   "execution_count": null,
   "metadata": {},
   "outputs": [],
   "source": []
  },
  {
   "cell_type": "code",
   "execution_count": null,
   "metadata": {},
   "outputs": [],
   "source": []
  }
 ],
 "metadata": {
  "kernelspec": {
   "display_name": "Python 3",
   "language": "python",
   "name": "python3"
  },
  "language_info": {
   "codemirror_mode": {
    "name": "ipython",
    "version": 3
   },
   "file_extension": ".py",
   "mimetype": "text/x-python",
   "name": "python",
   "nbconvert_exporter": "python",
   "pygments_lexer": "ipython3",
   "version": "3.9.7"
  },
  "orig_nbformat": 4,
  "vscode": {
   "interpreter": {
    "hash": "c347c8f9a7ef94e4c9e03b4513be7835ed18f45b99a2a817fb579f408b867b16"
   }
  }
 },
 "nbformat": 4,
 "nbformat_minor": 2
}
