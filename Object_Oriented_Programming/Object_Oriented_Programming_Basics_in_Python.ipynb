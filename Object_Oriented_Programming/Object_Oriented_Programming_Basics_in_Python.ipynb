{
 "cells": [
  {
   "attachments": {},
   "cell_type": "markdown",
   "metadata": {},
   "source": [
    "#### Procedural Programming                       \n",
    "- Code as a sequence of steps                  \n",
    "- Great for data analysis and scripts\n",
    "\n",
    "#### Object-Oriented Programming\n",
    "- Code as interactions of objects\n",
    "- Great for building frameworks and tools\n",
    "- Maintainable and reusable code"
   ]
  },
  {
   "attachments": {},
   "cell_type": "markdown",
   "metadata": {},
   "source": [
    "##### OOP Fundamentals\n",
    "Object = state + behaviour\n",
    "<br>\n",
    "Encapsualtion - bundling data with code operating on it\n",
    "<br>\n",
    "Class: blueprint for objects outlining possible states and behaviors\n",
    "<br>\n",
    "Everything in Pyhton is an object\n",
    "<br>\n",
    "Every object has a class\n",
    "<br>\n",
    "Use type() to find the class\n",
    "\n",
    "   _Object_       ->              _Class_\n",
    "- 5                     ->         int\n",
    "- \"Hello\"               ->         str\n",
    "- pd.DataFrame()        ->         DataFrame\n",
    "- np.mean               ->         function\n"
   ]
  },
  {
   "attachments": {},
   "cell_type": "markdown",
   "metadata": {},
   "source": [
    "State <-> Attributes<br>\n",
    "Behavior <-> Methods<br>\n",
    "Object = attributes + methods<br>\n",
    "attribute <-> variables <-> obj.my_attribute <br>\n",
    "method <-> function() <-> obj.my_method()"
   ]
  },
  {
   "cell_type": "code",
   "execution_count": 1,
   "metadata": {},
   "outputs": [
    {
     "data": {
      "text/plain": [
       "['T',\n",
       " '__abs__',\n",
       " '__add__',\n",
       " '__and__',\n",
       " '__array__',\n",
       " '__array_finalize__',\n",
       " '__array_function__',\n",
       " '__array_interface__',\n",
       " '__array_prepare__',\n",
       " '__array_priority__',\n",
       " '__array_struct__',\n",
       " '__array_ufunc__',\n",
       " '__array_wrap__',\n",
       " '__bool__',\n",
       " '__class__',\n",
       " '__class_getitem__',\n",
       " '__complex__',\n",
       " '__contains__',\n",
       " '__copy__',\n",
       " '__deepcopy__',\n",
       " '__delattr__',\n",
       " '__delitem__',\n",
       " '__dir__',\n",
       " '__divmod__',\n",
       " '__dlpack__',\n",
       " '__dlpack_device__',\n",
       " '__doc__',\n",
       " '__eq__',\n",
       " '__float__',\n",
       " '__floordiv__',\n",
       " '__format__',\n",
       " '__ge__',\n",
       " '__getattribute__',\n",
       " '__getitem__',\n",
       " '__gt__',\n",
       " '__hash__',\n",
       " '__iadd__',\n",
       " '__iand__',\n",
       " '__ifloordiv__',\n",
       " '__ilshift__',\n",
       " '__imatmul__',\n",
       " '__imod__',\n",
       " '__imul__',\n",
       " '__index__',\n",
       " '__init__',\n",
       " '__init_subclass__',\n",
       " '__int__',\n",
       " '__invert__',\n",
       " '__ior__',\n",
       " '__ipow__',\n",
       " '__irshift__',\n",
       " '__isub__',\n",
       " '__iter__',\n",
       " '__itruediv__',\n",
       " '__ixor__',\n",
       " '__le__',\n",
       " '__len__',\n",
       " '__lshift__',\n",
       " '__lt__',\n",
       " '__matmul__',\n",
       " '__mod__',\n",
       " '__mul__',\n",
       " '__ne__',\n",
       " '__neg__',\n",
       " '__new__',\n",
       " '__or__',\n",
       " '__pos__',\n",
       " '__pow__',\n",
       " '__radd__',\n",
       " '__rand__',\n",
       " '__rdivmod__',\n",
       " '__reduce__',\n",
       " '__reduce_ex__',\n",
       " '__repr__',\n",
       " '__rfloordiv__',\n",
       " '__rlshift__',\n",
       " '__rmatmul__',\n",
       " '__rmod__',\n",
       " '__rmul__',\n",
       " '__ror__',\n",
       " '__rpow__',\n",
       " '__rrshift__',\n",
       " '__rshift__',\n",
       " '__rsub__',\n",
       " '__rtruediv__',\n",
       " '__rxor__',\n",
       " '__setattr__',\n",
       " '__setitem__',\n",
       " '__setstate__',\n",
       " '__sizeof__',\n",
       " '__str__',\n",
       " '__sub__',\n",
       " '__subclasshook__',\n",
       " '__truediv__',\n",
       " '__xor__',\n",
       " 'all',\n",
       " 'any',\n",
       " 'argmax',\n",
       " 'argmin',\n",
       " 'argpartition',\n",
       " 'argsort',\n",
       " 'astype',\n",
       " 'base',\n",
       " 'byteswap',\n",
       " 'choose',\n",
       " 'clip',\n",
       " 'compress',\n",
       " 'conj',\n",
       " 'conjugate',\n",
       " 'copy',\n",
       " 'ctypes',\n",
       " 'cumprod',\n",
       " 'cumsum',\n",
       " 'data',\n",
       " 'diagonal',\n",
       " 'dot',\n",
       " 'dtype',\n",
       " 'dump',\n",
       " 'dumps',\n",
       " 'fill',\n",
       " 'flags',\n",
       " 'flat',\n",
       " 'flatten',\n",
       " 'getfield',\n",
       " 'imag',\n",
       " 'item',\n",
       " 'itemset',\n",
       " 'itemsize',\n",
       " 'max',\n",
       " 'mean',\n",
       " 'min',\n",
       " 'nbytes',\n",
       " 'ndim',\n",
       " 'newbyteorder',\n",
       " 'nonzero',\n",
       " 'partition',\n",
       " 'prod',\n",
       " 'ptp',\n",
       " 'put',\n",
       " 'ravel',\n",
       " 'real',\n",
       " 'repeat',\n",
       " 'reshape',\n",
       " 'resize',\n",
       " 'round',\n",
       " 'searchsorted',\n",
       " 'setfield',\n",
       " 'setflags',\n",
       " 'shape',\n",
       " 'size',\n",
       " 'sort',\n",
       " 'squeeze',\n",
       " 'std',\n",
       " 'strides',\n",
       " 'sum',\n",
       " 'swapaxes',\n",
       " 'take',\n",
       " 'tobytes',\n",
       " 'tofile',\n",
       " 'tolist',\n",
       " 'tostring',\n",
       " 'trace',\n",
       " 'transpose',\n",
       " 'var',\n",
       " 'view']"
      ]
     },
     "execution_count": 1,
     "metadata": {},
     "output_type": "execute_result"
    }
   ],
   "source": [
    "import numpy as np\n",
    "a = np.array([1,2,3,4])\n",
    "dir(a)"
   ]
  },
  {
   "cell_type": "code",
   "execution_count": 3,
   "metadata": {},
   "outputs": [
    {
     "name": "stdout",
     "output_type": "stream",
     "text": [
      " I am Researcher Kemal\n"
     ]
    }
   ],
   "source": [
    "class Customer:\n",
    "    def identify(self, name):\n",
    "        print(\" I am Researcher \" + name)\n",
    "\n",
    "cust = Customer()\n",
    "cust.identify(\"Kemal\")"
   ]
  },
  {
   "attachments": {},
   "cell_type": "markdown",
   "metadata": {},
   "source": [
    "classes are templates, how to refer data of a particular object?<br>\n",
    "_self_ is a stand-in for a particular object used in class definition<br>\n",
    "should be the first argument of any method<br>\n",
    "Python will take care of _self_ when method called from an object:<br>\n",
    "cust.identify(\"Kemal\") will be interpreted as Customer.identiy(cust, \"Kemal\")\n",
    "\n",
    "\n"
   ]
  },
  {
   "cell_type": "code",
   "execution_count": 4,
   "metadata": {},
   "outputs": [
    {
     "name": "stdout",
     "output_type": "stream",
     "text": [
      "Kemal ÖZCAN\n"
     ]
    }
   ],
   "source": [
    "# Add an attribute to class\n",
    "class Customer:\n",
    "    # set the name attribute of an object to new_name\n",
    "    def set_name(self, new_name):\n",
    "        # Create an attribute by assigning a value\n",
    "        self.name = new_name\n",
    "\n",
    "cust = Customer()        # .name doesn't exist here yet\n",
    "cust.set_name(\"Kemal ÖZCAN\") # .name is created and set to \"Kemal ÖZCAN\"\n",
    "print(cust.name)         # name can be used"
   ]
  },
  {
   "cell_type": "code",
   "execution_count": 6,
   "metadata": {},
   "outputs": [
    {
     "name": "stdout",
     "output_type": "stream",
     "text": [
      "I am ResearcherKemal ÖZCAN\n"
     ]
    },
    {
     "data": {
      "text/plain": [
       "'Kemal ÖZCAN'"
      ]
     },
     "execution_count": 6,
     "metadata": {},
     "output_type": "execute_result"
    }
   ],
   "source": [
    "class Customer:\n",
    "    def set_name(self, new_name):\n",
    "        self.name = new_name\n",
    "    # Using .name from the object it*self*\n",
    "    def identify(self):\n",
    "        print(\"I am Researcher\" + self.name)\n",
    "\n",
    "cust = Customer()\n",
    "cust.set_name(\"Kemal ÖZCAN\")\n",
    "cust.identify()\n",
    "cust.name"
   ]
  },
  {
   "cell_type": "code",
   "execution_count": 7,
   "metadata": {},
   "outputs": [
    {
     "name": "stdout",
     "output_type": "stream",
     "text": [
      "The __init__ method was called\n",
      "Kemal ÖZCAN\n"
     ]
    }
   ],
   "source": [
    "# Constructor __init__() method is called every time an object is created.\n",
    "class Customer:\n",
    "    def __init__(self, name):\n",
    "        self.name = name # Create the .name attribute and set it to name parameter\n",
    "        print(\"The __init__ method was called\")\n",
    "\n",
    "cust = Customer(\"Kemal ÖZCAN\") # __init__ is implicitly called\n",
    "print(cust.name)\n"
   ]
  },
  {
   "attachments": {},
   "cell_type": "markdown",
   "metadata": {},
   "source": [
    "Best Practices <br>\n",
    "- Initialize attributes in __init__()\n",
    "- Naming : CamelCase for class, lower_snake_case for functions and attributes\n",
    "- Keep self as self\n",
    "- Use docstrings"
   ]
  },
  {
   "attachments": {},
   "cell_type": "markdown",
   "metadata": {},
   "source": [
    "##### Inheritance and Polymorphism"
   ]
  },
  {
   "cell_type": "code",
   "execution_count": null,
   "metadata": {},
   "outputs": [],
   "source": [
    "class Employee:\n",
    "    # Define a class attribute\n",
    "    MIN_SALARY = 30000       # no self\n",
    "    def __init__(self, name, salary):\n",
    "        self.name = name\n",
    "        # Use class name to access class attribute\n",
    "        if salary >= Employee.MIN_SALARY:\n",
    "            self.salary = salary\n",
    "        else:\n",
    "            self.salary = Employee.MIN_SALARY\n"
   ]
  },
  {
   "cell_type": "code",
   "execution_count": null,
   "metadata": {},
   "outputs": [],
   "source": [
    "# MIN_SALARY is shared among all instances\n",
    "# Don't use self to define class attribute\n",
    "# Use ClassName.ATTR_NAME to access the class attribute value"
   ]
  },
  {
   "attachments": {},
   "cell_type": "markdown",
   "metadata": {},
   "source": [
    "\n",
    "Class attributes: Global constants related to the class\n",
    "- minimal/maximal values for attributes\n",
    "- commonly used values and constants, e.g. pi for a Circle class<br>\n",
    "\n",
    "Class methods<br>\n",
    "- Methods are already \"shared\": same code for every instance.\n",
    "- Class methods can't use instance-level data.\n",
    "- A class method is a method that is bound to the class and not the object of the class.\n",
    "- They have the access to the state of the class as it takes a class parameter that points to the class and not the object instance.\n",
    "- It can modify a class state that would apply across all the instances of the class. For example, it can modify a class variable that will be applicable to all the instances.\n",
    "\n",
    "Note: The state of an object is the values of it's attributes."
   ]
  },
  {
   "cell_type": "code",
   "execution_count": 22,
   "metadata": {},
   "outputs": [],
   "source": [
    "class MyClass:\n",
    "    @classmethod    # use decorator to declare a class method\n",
    "    def my_awesome_method(cls, args):  # cls argument refers to the class\n",
    "        # Do stuff here\n",
    "        # Can't use any instance attributes\n",
    "        pass"
   ]
  },
  {
   "cell_type": "code",
   "execution_count": 23,
   "metadata": {},
   "outputs": [],
   "source": [
    "args = \"somearguments\"\n",
    "MyClass.my_awesome_method(args)"
   ]
  },
  {
   "cell_type": "code",
   "execution_count": 24,
   "metadata": {},
   "outputs": [],
   "source": [
    "class Employee:\n",
    "    MIN_SALARY = 30000\n",
    "    def __init__(self, name, salary=30000):\n",
    "        self.name = name\n",
    "        if salary>=Employee.MIN_SALARY:\n",
    "            self.salary = salary\n",
    "        else:\n",
    "            self.salary = Employee.MIN_SALARY\n",
    "    @classmethod\n",
    "    def from_file(cls, filename):\n",
    "        with open(filename, \"r\") as f:\n",
    "            name = f.readline()\n",
    "        return cls(name)\n"
   ]
  },
  {
   "cell_type": "code",
   "execution_count": 25,
   "metadata": {},
   "outputs": [
    {
     "data": {
      "text/plain": [
       "__main__.Employee"
      ]
     },
     "execution_count": 25,
     "metadata": {},
     "output_type": "execute_result"
    }
   ],
   "source": [
    "emp = Employee.from_file(\"Data/employee_data.txt\")\n",
    "type(emp)"
   ]
  },
  {
   "attachments": {},
   "cell_type": "markdown",
   "metadata": {},
   "source": [
    "Static Methods <br>\n",
    "- A static method does not receive an implicit first argument.\n",
    "- A static method is also a method that is bound to the class and not the object of the class.\n",
    "- This method can't access or modify the class state.\n",
    "- It is present in a class because it makes sense for the method to be present in class.\n",
    "\n",
    "Note: In general, static methods know nothing about the class state. They are utiliy-type methods that take some parameters and work upon those parameters. On the other hand class methods must have class as a parameter."
   ]
  },
  {
   "attachments": {},
   "cell_type": "markdown",
   "metadata": {},
   "source": [
    "When to use the class or static method ?\n",
    "- We generally use the class method to create factory methods. Factory methods return class objects (similar to constructor) for different use cases.\n",
    "- We generally use static methods to create utility functions."
   ]
  },
  {
   "cell_type": "code",
   "execution_count": 28,
   "metadata": {},
   "outputs": [],
   "source": [
    "from datetime import date\n",
    "\n",
    "class Person:\n",
    "    def __init__(self, name, age):\n",
    "        self.name = name\n",
    "        self.age = age\n",
    "    \n",
    "    # a class method to create a Person object by birth year.\n",
    "    @classmethod\n",
    "    def from_birth_year(cls, name, year):\n",
    "        return cls(name, date.today().year - year)\n",
    "\n",
    "    # a static method to check if a Person is adult or not.\n",
    "    @staticmethod\n",
    "    def isAdult(age):\n",
    "        return age > 18"
   ]
  },
  {
   "cell_type": "code",
   "execution_count": 30,
   "metadata": {},
   "outputs": [
    {
     "name": "stdout",
     "output_type": "stream",
     "text": [
      "27\n",
      "28\n",
      "True\n"
     ]
    }
   ],
   "source": [
    "person1 = Person('Kemal', 27)\n",
    "person2 = Person.from_birth_year('Kemal', 1995)\n",
    "\n",
    "print(person1.age)\n",
    "print(person2.age)\n",
    "\n",
    "print(person1.isAdult(27))"
   ]
  },
  {
   "cell_type": "code",
   "execution_count": 31,
   "metadata": {},
   "outputs": [],
   "source": [
    "# Inheritance : New class functionality = Old class functionality + extra\n",
    "class BankAccount:         # Parent Class\n",
    "    def __init__(self, balance):\n",
    "        self.balance = balance\n",
    "    \n",
    "    def withdraw(self, amount):\n",
    "        self.balance -= amount\n",
    "\n",
    "# Empty class inherited from BankAccount\n",
    "class SavingsAccount(BankAccount):   # Child class\n",
    "    pass"
   ]
  },
  {
   "cell_type": "code",
   "execution_count": 32,
   "metadata": {},
   "outputs": [
    {
     "data": {
      "text/plain": [
       "__main__.SavingsAccount"
      ]
     },
     "execution_count": 32,
     "metadata": {},
     "output_type": "execute_result"
    }
   ],
   "source": [
    "# Constructor inherited from BankAccount\n",
    "savings_acct = SavingsAccount(1000)\n",
    "type(savings_acct)"
   ]
  },
  {
   "cell_type": "code",
   "execution_count": 33,
   "metadata": {},
   "outputs": [
    {
     "data": {
      "text/plain": [
       "1000"
      ]
     },
     "execution_count": 33,
     "metadata": {},
     "output_type": "execute_result"
    }
   ],
   "source": [
    "# Attribute inherited from BankAccount\n",
    "savings_acct.balance"
   ]
  },
  {
   "cell_type": "code",
   "execution_count": 34,
   "metadata": {},
   "outputs": [],
   "source": [
    "# Method inherited from BankAccount\n",
    "savings_acct.withdraw(300)"
   ]
  },
  {
   "cell_type": "code",
   "execution_count": 36,
   "metadata": {},
   "outputs": [
    {
     "name": "stdout",
     "output_type": "stream",
     "text": [
      "True\n",
      "True\n"
     ]
    }
   ],
   "source": [
    "# Inheritance: \"is-a\" relationship\n",
    "# A SavingsAccount is a BankAccount\n",
    "print(isinstance(savings_acct, SavingsAccount))\n",
    "print(isinstance(savings_acct, BankAccount))"
   ]
  },
  {
   "cell_type": "code",
   "execution_count": 38,
   "metadata": {},
   "outputs": [
    {
     "name": "stdout",
     "output_type": "stream",
     "text": [
      "True\n",
      "False\n"
     ]
    }
   ],
   "source": [
    "acct = BankAccount(500)\n",
    "print(isinstance(acct,BankAccount))\n",
    "print(isinstance(acct, SavingsAccount))"
   ]
  },
  {
   "cell_type": "code",
   "execution_count": 42,
   "metadata": {},
   "outputs": [],
   "source": [
    "# Customizing functionality via inheritance\n",
    "class SavingsAccount(BankAccount):\n",
    "\n",
    "    # Constructor specifically for SavingsAccount with an additional parameter\n",
    "    def __init__(self, balance, interest_rate):\n",
    "        # Call the parent constructor using ClassName.__init__()\n",
    "        BankAccount.__init__(self, balance) # self is a SavingsAccount but also a BankAccount\n",
    "        # Add more functionality \n",
    "        self.interest_rate = interest_rate\n",
    "    \n",
    "    # New functionality\n",
    "    def compute_interest(self, n_periods = 1):\n",
    "        return self.balance * ( (1 + self.interest_rate) ** n_periods - 1)\n",
    "\n",
    "# Don't have to call the parent constructors"
   ]
  },
  {
   "cell_type": "code",
   "execution_count": 43,
   "metadata": {},
   "outputs": [
    {
     "data": {
      "text/plain": [
       "0.03"
      ]
     },
     "execution_count": 43,
     "metadata": {},
     "output_type": "execute_result"
    }
   ],
   "source": [
    "# Construct the object using the new constructor\n",
    "acct = SavingsAccount(1000, 0.03)\n",
    "acct.interest_rate"
   ]
  },
  {
   "cell_type": "code",
   "execution_count": 44,
   "metadata": {},
   "outputs": [],
   "source": [
    "class CheckingAccount(BankAccount):\n",
    "    def __init__(self, balance, limit):\n",
    "        BankAccount.__init__(self, balance)\n",
    "        self.limit = limit\n",
    "    \n",
    "    def deposit(self, amount):\n",
    "        self.balance += amount\n",
    "\n",
    "    def withdraw(self, amount, fee=0):\n",
    "        if fee <= self.limit:\n",
    "            BankAccount.withdraw(self, amount - fee)\n",
    "        else:\n",
    "            BankAccount.withdraw(self, amount - self.limit)\n"
   ]
  },
  {
   "cell_type": "code",
   "execution_count": 45,
   "metadata": {},
   "outputs": [],
   "source": [
    "check_acct = CheckingAccount(1000, 25)\n",
    "# Will call withdeaw from CheckingAccount\n",
    "check_acct.withdraw(200)"
   ]
  },
  {
   "cell_type": "code",
   "execution_count": 46,
   "metadata": {},
   "outputs": [],
   "source": [
    "bank_acct = BankAccount(1000)\n",
    "# Will call withdraw from BankAccount\n",
    "bank_acct.withdraw(200)"
   ]
  },
  {
   "cell_type": "code",
   "execution_count": 47,
   "metadata": {},
   "outputs": [],
   "source": [
    "# Will call withdraw from CheckingAccount\n",
    "check_acct.withdraw(200, fee=15)"
   ]
  },
  {
   "cell_type": "code",
   "execution_count": 48,
   "metadata": {},
   "outputs": [
    {
     "ename": "TypeError",
     "evalue": "withdraw() got an unexpected keyword argument 'fee'",
     "output_type": "error",
     "traceback": [
      "\u001b[1;31m---------------------------------------------------------------------------\u001b[0m",
      "\u001b[1;31mTypeError\u001b[0m                                 Traceback (most recent call last)",
      "Cell \u001b[1;32mIn[48], line 2\u001b[0m\n\u001b[0;32m      1\u001b[0m \u001b[39m# Will produce an error\u001b[39;00m\n\u001b[1;32m----> 2\u001b[0m bank_acct\u001b[39m.\u001b[39;49mwithdraw(\u001b[39m200\u001b[39;49m, fee\u001b[39m=\u001b[39;49m\u001b[39m15\u001b[39;49m)\n",
      "\u001b[1;31mTypeError\u001b[0m: withdraw() got an unexpected keyword argument 'fee'"
     ]
    }
   ],
   "source": [
    "# Will produce an error\n",
    "bank_acct.withdraw(200, fee=15)"
   ]
  },
  {
   "attachments": {},
   "cell_type": "markdown",
   "metadata": {},
   "source": [
    "Operator Overloading"
   ]
  },
  {
   "cell_type": "code",
   "execution_count": 50,
   "metadata": {},
   "outputs": [
    {
     "data": {
      "text/plain": [
       "False"
      ]
     },
     "execution_count": 50,
     "metadata": {},
     "output_type": "execute_result"
    }
   ],
   "source": [
    "# Object equality\n",
    "class Customer:\n",
    "    def __init__(self, name, balance):\n",
    "        self.name, self.balance = name, balance\n",
    "\n",
    "customer1 = Customer(\"Kemal ÖZCAN\", 3000)\n",
    "customer2 = Customer(\"Kemal ÖZCAN\", 3000)\n",
    "customer1 == customer2"
   ]
  },
  {
   "cell_type": "code",
   "execution_count": 52,
   "metadata": {},
   "outputs": [
    {
     "name": "stdout",
     "output_type": "stream",
     "text": [
      "<__main__.Customer object at 0x000001AAAF7323D0>\n",
      "<__main__.Customer object at 0x000001AAAF729EB0>\n"
     ]
    }
   ],
   "source": [
    "# When we compare variables customer1 and customer2, we are actually comparing\n",
    "# references, not the data.\n",
    "print(customer1)\n",
    "print(customer2)"
   ]
  },
  {
   "cell_type": "code",
   "execution_count": 54,
   "metadata": {},
   "outputs": [
    {
     "data": {
      "text/plain": [
       "array([ True,  True,  True])"
      ]
     },
     "execution_count": 54,
     "metadata": {},
     "output_type": "execute_result"
    }
   ],
   "source": [
    "# Numpy arrays are compared using their data.\n",
    "import numpy as np\n",
    "\n",
    "# Two different arrays containing the same data\n",
    "array1 = np.array([1,2,3])\n",
    "array2 = np.array([1,2,3])\n",
    "\n",
    "array1 == array2"
   ]
  },
  {
   "cell_type": "code",
   "execution_count": 58,
   "metadata": {},
   "outputs": [],
   "source": [
    "# Overloading __eq__()\n",
    "# __eq__() is called when 2 objects of a class are compared using ==\n",
    "# accepts 2 arguments, self and other - objects to compare\n",
    "# returns a Boolean\n",
    "class Customer:\n",
    "    def __init__(self, id, name):\n",
    "        self.id, self.name = id, name\n",
    "    \n",
    "    def __eq__(self, other):\n",
    "        print(\"__eq__() is called\")\n",
    "        return (self.id == other.id) and (self.name == other.name)\n"
   ]
  },
  {
   "cell_type": "code",
   "execution_count": 60,
   "metadata": {},
   "outputs": [
    {
     "name": "stdout",
     "output_type": "stream",
     "text": [
      "__eq__() is called\n"
     ]
    },
    {
     "data": {
      "text/plain": [
       "True"
      ]
     },
     "execution_count": 60,
     "metadata": {},
     "output_type": "execute_result"
    }
   ],
   "source": [
    "customer1 = Customer(1, \"Kemal ÖZCAN\")\n",
    "customer2 = Customer(1, \"Kemal ÖZCAN\")\n",
    "\n",
    "customer1 == customer2"
   ]
  },
  {
   "cell_type": "code",
   "execution_count": 61,
   "metadata": {},
   "outputs": [
    {
     "name": "stdout",
     "output_type": "stream",
     "text": [
      "114537034310\n",
      "114537034316\n"
     ]
    }
   ],
   "source": [
    "# Other comparison operators: __eq__(), __ne__(), __ge__(), __le__(), __gt__(), __lt__()\n",
    "# __hash__() to use objects as dictionary keys and in sets\n",
    "# If a class overrides the __eq__ method, the objects of the class become unhashable. This means\n",
    "# that you won't able to use the objects in a mapping type. For example, you will not able to use \n",
    "# them as keys in a dictionary or elements in a set.\n",
    "\n",
    "class Person:\n",
    "    def __init__(self, name, age):\n",
    "        self.name = name\n",
    "        self.age = age\n",
    "\n",
    "p1 = Person(\"Kemal\", 27)\n",
    "p2 = Person(\"Alp\", 26 )\n",
    "\n",
    "print(hash(p1))\n",
    "print(hash(p2))"
   ]
  },
  {
   "cell_type": "code",
   "execution_count": 62,
   "metadata": {},
   "outputs": [
    {
     "data": {
      "text/plain": [
       "114537034310"
      ]
     },
     "execution_count": 62,
     "metadata": {},
     "output_type": "execute_result"
    }
   ],
   "source": [
    "p1.__hash__()"
   ]
  },
  {
   "cell_type": "code",
   "execution_count": 63,
   "metadata": {},
   "outputs": [],
   "source": [
    "class Person:\n",
    "    def __init__(self, name, age):\n",
    "        self.name = name\n",
    "        self.age = age\n",
    "    \n",
    "    def __eq__(self, other):\n",
    "        return isinstance(other, Person) and self.age  == other.age"
   ]
  },
  {
   "cell_type": "code",
   "execution_count": 64,
   "metadata": {},
   "outputs": [
    {
     "ename": "TypeError",
     "evalue": "unhashable type: 'Person'",
     "output_type": "error",
     "traceback": [
      "\u001b[1;31m---------------------------------------------------------------------------\u001b[0m",
      "\u001b[1;31mTypeError\u001b[0m                                 Traceback (most recent call last)",
      "Cell \u001b[1;32mIn[64], line 1\u001b[0m\n\u001b[1;32m----> 1\u001b[0m members \u001b[39m=\u001b[39m {\n\u001b[0;32m      2\u001b[0m     Person(\u001b[39m'\u001b[39m\u001b[39mKemal\u001b[39m\u001b[39m'\u001b[39m, \u001b[39m27\u001b[39m),\n\u001b[0;32m      3\u001b[0m     Person(\u001b[39m'\u001b[39m\u001b[39mAlp\u001b[39m\u001b[39m'\u001b[39m, \u001b[39m26\u001b[39m)\n\u001b[0;32m      4\u001b[0m }\n",
      "\u001b[1;31mTypeError\u001b[0m: unhashable type: 'Person'"
     ]
    }
   ],
   "source": [
    "members = {\n",
    "    Person('Kemal', 27),\n",
    "    Person('Alp', 26)\n",
    "}"
   ]
  },
  {
   "cell_type": "code",
   "execution_count": 66,
   "metadata": {},
   "outputs": [],
   "source": [
    "class Person:\n",
    "    def __init__(self, name, age):\n",
    "        self.name = name\n",
    "        self.age = age\n",
    "\n",
    "    def __eq__(self, other):\n",
    "        return isinstance(other, Person) and self.age == other.age\n",
    "\n",
    "    def __hash__(self):\n",
    "        return hash(self.age)"
   ]
  },
  {
   "cell_type": "code",
   "execution_count": 67,
   "metadata": {},
   "outputs": [],
   "source": [
    "members = {\n",
    "    Person('Kemal', 27),\n",
    "    Person('Alp', 26)\n",
    "}"
   ]
  },
  {
   "cell_type": "code",
   "execution_count": 76,
   "metadata": {},
   "outputs": [
    {
     "name": "stdout",
     "output_type": "stream",
     "text": [
      "[1 2 3]\n",
      "string representation:  [1 2 3]\n",
      "reproducible representation:  array([1, 2, 3])\n"
     ]
    }
   ],
   "source": [
    "# String representation\n",
    "import numpy as np\n",
    "\n",
    "print(np.array([1,2,3]))\n",
    "print(\"string representation: \", str(np.array([1,2,3])))\n",
    "print(\"reproducible representation: \", repr(np.array([1,2,3])))"
   ]
  },
  {
   "cell_type": "code",
   "execution_count": 77,
   "metadata": {},
   "outputs": [],
   "source": [
    "class Customer:\n",
    "    def __init__(self, name, balance):\n",
    "        self.name, self.balance = name, balance\n",
    "\n",
    "    def __str__(self):\n",
    "        cust_str = \"\"\"\n",
    "            Customer:\n",
    "                name: {name}\n",
    "                balance: {balance}\n",
    "            \"\"\".format(name = self.name, balance = self.balance)\n",
    "        return cust_str"
   ]
  },
  {
   "cell_type": "code",
   "execution_count": 78,
   "metadata": {},
   "outputs": [
    {
     "name": "stdout",
     "output_type": "stream",
     "text": [
      "\n",
      "            Customer:\n",
      "                name: Kemal\n",
      "                balance: 3000\n",
      "            \n"
     ]
    }
   ],
   "source": [
    "cust = Customer(\"Kemal\", 3000)\n",
    "\n",
    "# Will implicitly call __str__()\n",
    "print(cust)"
   ]
  },
  {
   "cell_type": "code",
   "execution_count": 81,
   "metadata": {},
   "outputs": [
    {
     "data": {
      "text/plain": [
       "Customer('Kemal', 3000)"
      ]
     },
     "execution_count": 81,
     "metadata": {},
     "output_type": "execute_result"
    }
   ],
   "source": [
    "class Customer:\n",
    "    def __init__(self, name, balance):\n",
    "        self.name, self.balance = name, balance\n",
    "\n",
    "    def __repr__(self):\n",
    "        return \"Customer('{name}', {balance})\".format(name = self.name, balance = self.balance)\n",
    "\n",
    "cust = Customer(\"Kemal\", 3000)\n",
    "cust"
   ]
  },
  {
   "attachments": {},
   "cell_type": "markdown",
   "metadata": {},
   "source": [
    "Custom Exceptions"
   ]
  },
  {
   "cell_type": "code",
   "execution_count": 86,
   "metadata": {},
   "outputs": [],
   "source": [
    "# Inherit from Exception or one of its subclasses\n",
    "# Usually an empty class\n",
    "class BalanceError(Exception): pass\n",
    "\n",
    "class Customer:\n",
    "    def __init__(self, name, balance):\n",
    "        if balance < 0:\n",
    "            raise BalanceError(\"Balance has to be non-negative!\")\n",
    "        else:\n",
    "            self.name, self.balance = name, balance"
   ]
  },
  {
   "cell_type": "code",
   "execution_count": 87,
   "metadata": {},
   "outputs": [
    {
     "ename": "BalanceError",
     "evalue": "Balance has to be non-negative!",
     "output_type": "error",
     "traceback": [
      "\u001b[1;31m---------------------------------------------------------------------------\u001b[0m",
      "\u001b[1;31mBalanceError\u001b[0m                              Traceback (most recent call last)",
      "Cell \u001b[1;32mIn[87], line 1\u001b[0m\n\u001b[1;32m----> 1\u001b[0m cust \u001b[39m=\u001b[39m Customer(\u001b[39m\"\u001b[39;49m\u001b[39mKemal\u001b[39;49m\u001b[39m\"\u001b[39;49m, \u001b[39m-\u001b[39;49m\u001b[39m100\u001b[39;49m)\n",
      "Cell \u001b[1;32mIn[86], line 8\u001b[0m, in \u001b[0;36mCustomer.__init__\u001b[1;34m(self, name, balance)\u001b[0m\n\u001b[0;32m      6\u001b[0m \u001b[39mdef\u001b[39;00m \u001b[39m__init__\u001b[39m(\u001b[39mself\u001b[39m, name, balance):\n\u001b[0;32m      7\u001b[0m     \u001b[39mif\u001b[39;00m balance \u001b[39m<\u001b[39m \u001b[39m0\u001b[39m:\n\u001b[1;32m----> 8\u001b[0m         \u001b[39mraise\u001b[39;00m BalanceError(\u001b[39m\"\u001b[39m\u001b[39mBalance has to be non-negative!\u001b[39m\u001b[39m\"\u001b[39m)\n\u001b[0;32m      9\u001b[0m     \u001b[39melse\u001b[39;00m:\n\u001b[0;32m     10\u001b[0m         \u001b[39mself\u001b[39m\u001b[39m.\u001b[39mname, \u001b[39mself\u001b[39m\u001b[39m.\u001b[39mbalance \u001b[39m=\u001b[39m name, balance\n",
      "\u001b[1;31mBalanceError\u001b[0m: Balance has to be non-negative!"
     ]
    }
   ],
   "source": [
    "cust = Customer(\"Kemal\", -100)"
   ]
  },
  {
   "attachments": {},
   "cell_type": "markdown",
   "metadata": {},
   "source": [
    "Designing for inheritance and polymorphism <br>\n",
    "\n",
    "Liskov substitution principle: Base class should be interchangeable with any of its subclasses \n",
    "without altering any properties of the program. <br>\n",
    "\n",
    "Violating LSP\n",
    " - Changing additional attributes in subclass's method\n",
    " - Throwing additional exceptions in subclass's method\n",
    "\n",
    " No LSP - No Inheritance"
   ]
  },
  {
   "cell_type": "code",
   "execution_count": 92,
   "metadata": {},
   "outputs": [
    {
     "ename": "TypeError",
     "evalue": "__init__() missing 1 required positional argument: 'limit'",
     "output_type": "error",
     "traceback": [
      "\u001b[1;31m---------------------------------------------------------------------------\u001b[0m",
      "\u001b[1;31mTypeError\u001b[0m                                 Traceback (most recent call last)",
      "Cell \u001b[1;32mIn[92], line 5\u001b[0m\n\u001b[0;32m      2\u001b[0m     \u001b[39mfor\u001b[39;00m acct \u001b[39min\u001b[39;00m list_of_accounts:\n\u001b[0;32m      3\u001b[0m         acct\u001b[39m.\u001b[39mwithdraw(amount)\n\u001b[1;32m----> 5\u001b[0m b, c, s \u001b[39m=\u001b[39m BankAccount(\u001b[39m1000\u001b[39m), CheckingAccount(\u001b[39m2000\u001b[39;49m), SavingsAccount(\u001b[39m3000\u001b[39m)\n\u001b[0;32m      6\u001b[0m batch_withdraw([b, c, s])\n",
      "\u001b[1;31mTypeError\u001b[0m: __init__() missing 1 required positional argument: 'limit'"
     ]
    }
   ],
   "source": [
    "def batch_withdraw(list_of_accounts, amount):\n",
    "    for acct in list_of_accounts:\n",
    "        acct.withdraw(amount)\n",
    "\n",
    "b, c, s = BankAccount(1000), CheckingAccount(2000), SavingsAccount(3000)\n",
    "batch_withdraw([b, c, s])"
   ]
  },
  {
   "attachments": {},
   "cell_type": "markdown",
   "metadata": {},
   "source": [
    "Managing data access <br>\n",
    "\n",
    "Naming convention: internal attributes\n",
    "\n",
    "obj._att_name, obj._method_name()\n",
    "\n",
    "- Starts with a single _ -> \"internal\"\n",
    "- Not a part of the public API\n",
    "- As a class user: \"don't touch this\"\n",
    "- As a class developer: use for implementation details, helper functions.. <br>\n",
    "\n",
    "df._is_mixed_type, datetime._ymd2ord()\n",
    "\n",
    "Naming convention: pseudoprivate attributes\n",
    "\n",
    "obj.__attr_name, obj.__method_name()\n",
    "\n",
    "- Starts but doesn't end with __ -> \"private\"\n",
    "- Not inherited\n",
    "- Name mangling: obj.__attr_name is interpreted as obj._MyClass__attr_name\n",
    "- Used to prevent name clashes in inherited classes\n"
   ]
  },
  {
   "cell_type": "markdown",
   "metadata": {},
   "source": [
    "Properties"
   ]
  },
  {
   "cell_type": "code",
   "execution_count": 96,
   "metadata": {},
   "outputs": [],
   "source": [
    "class Employee:\n",
    "    def set_name(self, name):\n",
    "        self.name = name\n",
    "    \n",
    "    def set_salary(self, salary):\n",
    "        self.salary = salary\n",
    "    \n",
    "    def give_raise(self, amount):\n",
    "        self.salary = self.salary + amount\n",
    "    \n",
    "    def __init__(self, name, salary):\n",
    "        self.name, self.salary = name, salary\n",
    "\n",
    "emp = Employee(\"Kemal\", 3000)\n",
    "emp.salary = emp.salary + 500\n"
   ]
  },
  {
   "cell_type": "code",
   "execution_count": 98,
   "metadata": {},
   "outputs": [
    {
     "data": {
      "text/plain": [
       "3000"
      ]
     },
     "execution_count": 98,
     "metadata": {},
     "output_type": "execute_result"
    }
   ],
   "source": [
    "# Control attribute access ?\n",
    "# Check the value for validity or make attributes read-only\n",
    "# Use @property on a method whose name is exactly the name of the restricted attribute; retrun the internal attribute\n",
    "# Use @attr.setter on a method attr() that will be called on obj.attr = value\n",
    "\n",
    "class Employer:\n",
    "    def __init__(self, name, new_salary):\n",
    "        self._salary = new_salary # Use \"protected\" attribute with leading _ to store data\n",
    "\n",
    "    @property\n",
    "    def salary(self):        \n",
    "        return self._salary\n",
    "\n",
    "    @salary.setter\n",
    "    def salary(self, new_salary):\n",
    "        if new_salary < 0:\n",
    "            raise ValueError(\"Invalid salary\")\n",
    "        self._salary = new_salary\n",
    "\n",
    "emp = Employee(\"Kemal\", 3000)\n",
    "emp.salary\n"
   ]
  },
  {
   "cell_type": "code",
   "execution_count": 99,
   "metadata": {},
   "outputs": [
    {
     "data": {
      "text/plain": [
       "6000"
      ]
     },
     "execution_count": 99,
     "metadata": {},
     "output_type": "execute_result"
    }
   ],
   "source": [
    "emp.salary = 6000 # @salary.setter\n",
    "emp.salary"
   ]
  }
 ],
 "metadata": {
  "kernelspec": {
   "display_name": "Python 3",
   "language": "python",
   "name": "python3"
  },
  "language_info": {
   "codemirror_mode": {
    "name": "ipython",
    "version": 3
   },
   "file_extension": ".py",
   "mimetype": "text/x-python",
   "name": "python",
   "nbconvert_exporter": "python",
   "pygments_lexer": "ipython3",
   "version": "3.9.7"
  },
  "orig_nbformat": 4,
  "vscode": {
   "interpreter": {
    "hash": "c347c8f9a7ef94e4c9e03b4513be7835ed18f45b99a2a817fb579f408b867b16"
   }
  }
 },
 "nbformat": 4,
 "nbformat_minor": 2
}
